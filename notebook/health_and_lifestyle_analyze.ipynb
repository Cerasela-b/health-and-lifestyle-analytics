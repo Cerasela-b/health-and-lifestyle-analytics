{
  "cells": [
    {
      "cell_type": "markdown",
      "metadata": {
        "colab_type": "text",
        "id": "view-in-github"
      },
      "source": [
        "<a href=\"https://colab.research.google.com/github/Cerasela-b/health-and-lifestyle-analytics/blob/main/notebook/health_and_lifestyle_analyze.ipynb\" target=\"_parent\"><img src=\"https://colab.research.google.com/assets/colab-badge.svg\" alt=\"Open In Colab\"/></a>"
      ]
    },
    {
      "cell_type": "markdown",
      "metadata": {
        "id": "RqlJlbZ4xxKv"
      },
      "source": [
        "## Loading and Inspecting the Dataset\n",
        "To begin the analysis, we need to explore the dataset structure and understand the type of information it contains.\n",
        "This step helps identify potential data quality issues, missing values, and the nature of each feature before we start the cleaning and modeling process.\n",
        "\n",
        "In this step, we will:\n",
        "- **Load** the CSV file from GitHub repository\n",
        "- **Check** the dataset’s dimensions (number of rows and columns)\n",
        "- **Preview** the first few rows to get an overview of the variables\n",
        "- **Inspect** data types, value ranges, and basic statistical metadata\n",
        "- **Identify** possible missing or inconsistent values\n",
        "\n",
        "This initial inspection forms the foundation for further **data cleaning, feature engineering**, and **machine learning tasks**."
      ]
    },
    {
      "cell_type": "code",
      "execution_count": 2,
      "metadata": {
        "colab": {
          "base_uri": "https://localhost:8080/"
        },
        "id": "GuiLI-CuwXoV",
        "outputId": "61a9e535-e951-4d99-ff41-dd71fe08139d"
      },
      "outputs": [
        {
          "name": "stdout",
          "output_type": "stream",
          "text": [
            "Dataset shape (rows, cloumns):  (100000, 16)\n",
            "\n",
            "First 5 rows: \n",
            "   id  age  gender   bmi  daily_steps  sleep_hours  water_intake_l  \\\n",
            "0   1   56    Male  20.5         4198          3.9             3.4   \n",
            "1   2   69  Female  33.3        14359          9.0             4.7   \n",
            "2   3   46    Male  31.6         1817          6.6             4.2   \n",
            "3   4   32  Female  38.2        15772          3.6             2.0   \n",
            "4   5   60  Female  33.6         6037          3.8             4.0   \n",
            "\n",
            "   calories_consumed  smoker  alcohol  resting_hr  systolic_bp  diastolic_bp  \\\n",
            "0               1602       0        0          97          161           111   \n",
            "1               2346       0        1          68          116            65   \n",
            "2               1643       0        1          90          123            99   \n",
            "3               2460       0        0          71          165            95   \n",
            "4               3756       0        1          98          139            61   \n",
            "\n",
            "   cholesterol  family_history  disease_risk  \n",
            "0          240               0             0  \n",
            "1          207               0             0  \n",
            "2          296               0             0  \n",
            "3          175               0             0  \n",
            "4          294               0             0  \n",
            "\n",
            "Dataset info: \n",
            "<class 'pandas.core.frame.DataFrame'>\n",
            "RangeIndex: 100000 entries, 0 to 99999\n",
            "Data columns (total 16 columns):\n",
            " #   Column             Non-Null Count   Dtype  \n",
            "---  ------             --------------   -----  \n",
            " 0   id                 100000 non-null  int64  \n",
            " 1   age                100000 non-null  int64  \n",
            " 2   gender             100000 non-null  object \n",
            " 3   bmi                100000 non-null  float64\n",
            " 4   daily_steps        100000 non-null  int64  \n",
            " 5   sleep_hours        100000 non-null  float64\n",
            " 6   water_intake_l     100000 non-null  float64\n",
            " 7   calories_consumed  100000 non-null  int64  \n",
            " 8   smoker             100000 non-null  int64  \n",
            " 9   alcohol            100000 non-null  int64  \n",
            " 10  resting_hr         100000 non-null  int64  \n",
            " 11  systolic_bp        100000 non-null  int64  \n",
            " 12  diastolic_bp       100000 non-null  int64  \n",
            " 13  cholesterol        100000 non-null  int64  \n",
            " 14  family_history     100000 non-null  int64  \n",
            " 15  disease_risk       100000 non-null  int64  \n",
            "dtypes: float64(3), int64(12), object(1)\n",
            "memory usage: 12.2+ MB\n"
          ]
        }
      ],
      "source": [
        "import pandas as pd\n",
        "\n",
        "# Load dataset from GitHub\n",
        "url = \"https://raw.githubusercontent.com/Cerasela-b/health-and-lifestyle-analytics/main/data/health_lifestyle_dataset.csv\"\n",
        "df = pd.read_csv(url)\n",
        "\n",
        "# Check dataset dimensions(number of rows and columns)\n",
        "print(\"Dataset shape (rows, cloumns): \", df.shape)\n",
        "\n",
        "print(\"\\nFirst 5 rows: \")\n",
        "print(df.head())\n",
        "\n",
        "# Show column data types and non-null counts\n",
        "print(\"\\nDataset info: \")\n",
        "df.info()"
      ]
    },
    {
      "cell_type": "markdown",
      "metadata": {
        "id": "S2W24bI92ULh"
      },
      "source": [
        "\n",
        "## Dataset Loading and Initial Inspection\n",
        "\n",
        "The dataset was successfully loaded from GitHub and contains **100,000 rows** and **16 columns** describing various **health and lifestyle factors** such as age, BMI, sleep, activity level, and disease risk.\n",
        "\n",
        "All columns have **non-null values**, ensuring a clean starting point for analysis.\n",
        "The dataset includes a mix of **numeric** and **categorical** variables — with `gender` as an object type and several binary indicators already encoded as integers.\n",
        "\n",
        "**Key observations**:\n",
        "\n",
        "- Data types: 12 integer, 3 float, 1 object (`gender`)\n",
        "- Binary columns (`smoker`, `alcohol`, `family_history`) are already encoded as 0/1\n",
        "- No missing data detected across any column\n",
        "- Each record represents one individual’s lifestyle and health profile\n",
        "\n",
        "The data is well-structured and ready for **cleaning, preprocessing**, and **exploratory data analysis (EDA)** to identify relationships between lifestyle habits and disease risk."
      ]
    },
    {
      "cell_type": "markdown",
      "metadata": {
        "id": "BohiqX9g3cWx"
      },
      "source": [
        "## Data Cleaning & Preprocessing\n",
        "\n",
        "The dataset is already complete, with no missing values across any columns.\n",
        "Therefore, this step focuses on refining data quality and ensuring readiness for analysis.\n",
        "\n",
        "In this step, we will:\n",
        "- Remove the non-informative identifier column (`id`)\n",
        "- Encode the categorical column (`gender`) for ML compatibility\n",
        "- Review numerical features to detect potential outliers\n",
        "- Apply scaling or normalization if required for certain models\n",
        "\n",
        "With no missing values, the preprocessing process emphasizes **feature encoding, structure optimization, and data consistency** for the next analysis phase."
      ]
    },
    {
      "cell_type": "code",
      "execution_count": 3,
      "metadata": {
        "colab": {
          "base_uri": "https://localhost:8080/",
          "height": 407
        },
        "id": "d3FNzZ6i9P9i",
        "outputId": "6f43982d-7863-45d5-b49b-cd6d2d7416a9"
      },
      "outputs": [
        {
          "name": "stdout",
          "output_type": "stream",
          "text": [
            "Remaining columns: \n",
            "['age', 'gender', 'bmi', 'daily_steps', 'sleep_hours', 'water_intake_l', 'calories_consumed', 'smoker', 'alcohol', 'resting_hr', 'systolic_bp', 'diastolic_bp', 'cholesterol', 'family_history', 'disease_risk']\n",
            "\n",
            "Gender column converted to type: category\n",
            "Numerical columns: ['age', 'bmi', 'daily_steps', 'sleep_hours', 'water_intake_l', 'calories_consumed', 'smoker', 'alcohol', 'resting_hr', 'systolic_bp', 'diastolic_bp', 'cholesterol', 'family_history', 'disease_risk']\n"
          ]
        },
        {
          "data": {
            "text/html": [
              "<div>\n",
              "<style scoped>\n",
              "    .dataframe tbody tr th:only-of-type {\n",
              "        vertical-align: middle;\n",
              "    }\n",
              "\n",
              "    .dataframe tbody tr th {\n",
              "        vertical-align: top;\n",
              "    }\n",
              "\n",
              "    .dataframe thead th {\n",
              "        text-align: right;\n",
              "    }\n",
              "</style>\n",
              "<table border=\"1\" class=\"dataframe\">\n",
              "  <thead>\n",
              "    <tr style=\"text-align: right;\">\n",
              "      <th></th>\n",
              "      <th>age</th>\n",
              "      <th>bmi</th>\n",
              "      <th>daily_steps</th>\n",
              "      <th>sleep_hours</th>\n",
              "      <th>water_intake_l</th>\n",
              "      <th>calories_consumed</th>\n",
              "      <th>smoker</th>\n",
              "      <th>alcohol</th>\n",
              "      <th>resting_hr</th>\n",
              "      <th>systolic_bp</th>\n",
              "      <th>diastolic_bp</th>\n",
              "      <th>cholesterol</th>\n",
              "      <th>family_history</th>\n",
              "      <th>disease_risk</th>\n",
              "    </tr>\n",
              "  </thead>\n",
              "  <tbody>\n",
              "    <tr>\n",
              "      <th>count</th>\n",
              "      <td>100000.000000</td>\n",
              "      <td>100000.000000</td>\n",
              "      <td>100000.00000</td>\n",
              "      <td>100000.000000</td>\n",
              "      <td>100000.000000</td>\n",
              "      <td>100000.000000</td>\n",
              "      <td>100000.000000</td>\n",
              "      <td>100000.000000</td>\n",
              "      <td>100000.000000</td>\n",
              "      <td>100000.00000</td>\n",
              "      <td>100000.000000</td>\n",
              "      <td>100000.000000</td>\n",
              "      <td>100000.000000</td>\n",
              "      <td>100000.000000</td>\n",
              "    </tr>\n",
              "    <tr>\n",
              "      <th>mean</th>\n",
              "      <td>48.525990</td>\n",
              "      <td>29.024790</td>\n",
              "      <td>10479.87029</td>\n",
              "      <td>6.491784</td>\n",
              "      <td>2.751496</td>\n",
              "      <td>2603.341200</td>\n",
              "      <td>0.200940</td>\n",
              "      <td>0.300020</td>\n",
              "      <td>74.457420</td>\n",
              "      <td>134.58063</td>\n",
              "      <td>89.508850</td>\n",
              "      <td>224.300630</td>\n",
              "      <td>0.299150</td>\n",
              "      <td>0.248210</td>\n",
              "    </tr>\n",
              "    <tr>\n",
              "      <th>std</th>\n",
              "      <td>17.886768</td>\n",
              "      <td>6.352666</td>\n",
              "      <td>5483.63236</td>\n",
              "      <td>2.021922</td>\n",
              "      <td>1.297338</td>\n",
              "      <td>807.288563</td>\n",
              "      <td>0.400705</td>\n",
              "      <td>0.458269</td>\n",
              "      <td>14.423715</td>\n",
              "      <td>25.95153</td>\n",
              "      <td>17.347041</td>\n",
              "      <td>43.327749</td>\n",
              "      <td>0.457888</td>\n",
              "      <td>0.431976</td>\n",
              "    </tr>\n",
              "    <tr>\n",
              "      <th>min</th>\n",
              "      <td>18.000000</td>\n",
              "      <td>18.000000</td>\n",
              "      <td>1000.00000</td>\n",
              "      <td>3.000000</td>\n",
              "      <td>0.500000</td>\n",
              "      <td>1200.000000</td>\n",
              "      <td>0.000000</td>\n",
              "      <td>0.000000</td>\n",
              "      <td>50.000000</td>\n",
              "      <td>90.00000</td>\n",
              "      <td>60.000000</td>\n",
              "      <td>150.000000</td>\n",
              "      <td>0.000000</td>\n",
              "      <td>0.000000</td>\n",
              "    </tr>\n",
              "    <tr>\n",
              "      <th>25%</th>\n",
              "      <td>33.000000</td>\n",
              "      <td>23.500000</td>\n",
              "      <td>5729.00000</td>\n",
              "      <td>4.700000</td>\n",
              "      <td>1.600000</td>\n",
              "      <td>1906.000000</td>\n",
              "      <td>0.000000</td>\n",
              "      <td>0.000000</td>\n",
              "      <td>62.000000</td>\n",
              "      <td>112.00000</td>\n",
              "      <td>74.000000</td>\n",
              "      <td>187.000000</td>\n",
              "      <td>0.000000</td>\n",
              "      <td>0.000000</td>\n",
              "    </tr>\n",
              "    <tr>\n",
              "      <th>50%</th>\n",
              "      <td>48.000000</td>\n",
              "      <td>29.000000</td>\n",
              "      <td>10468.00000</td>\n",
              "      <td>6.500000</td>\n",
              "      <td>2.800000</td>\n",
              "      <td>2603.000000</td>\n",
              "      <td>0.000000</td>\n",
              "      <td>0.000000</td>\n",
              "      <td>74.000000</td>\n",
              "      <td>135.00000</td>\n",
              "      <td>89.000000</td>\n",
              "      <td>224.000000</td>\n",
              "      <td>0.000000</td>\n",
              "      <td>0.000000</td>\n",
              "    </tr>\n",
              "    <tr>\n",
              "      <th>75%</th>\n",
              "      <td>64.000000</td>\n",
              "      <td>34.500000</td>\n",
              "      <td>15229.00000</td>\n",
              "      <td>8.200000</td>\n",
              "      <td>3.900000</td>\n",
              "      <td>3299.000000</td>\n",
              "      <td>0.000000</td>\n",
              "      <td>1.000000</td>\n",
              "      <td>87.000000</td>\n",
              "      <td>157.00000</td>\n",
              "      <td>105.000000</td>\n",
              "      <td>262.000000</td>\n",
              "      <td>1.000000</td>\n",
              "      <td>0.000000</td>\n",
              "    </tr>\n",
              "    <tr>\n",
              "      <th>max</th>\n",
              "      <td>79.000000</td>\n",
              "      <td>40.000000</td>\n",
              "      <td>19999.00000</td>\n",
              "      <td>10.000000</td>\n",
              "      <td>5.000000</td>\n",
              "      <td>3999.000000</td>\n",
              "      <td>1.000000</td>\n",
              "      <td>1.000000</td>\n",
              "      <td>99.000000</td>\n",
              "      <td>179.00000</td>\n",
              "      <td>119.000000</td>\n",
              "      <td>299.000000</td>\n",
              "      <td>1.000000</td>\n",
              "      <td>1.000000</td>\n",
              "    </tr>\n",
              "  </tbody>\n",
              "</table>\n",
              "</div>"
            ],
            "text/plain": [
              "                 age            bmi   daily_steps    sleep_hours  \\\n",
              "count  100000.000000  100000.000000  100000.00000  100000.000000   \n",
              "mean       48.525990      29.024790   10479.87029       6.491784   \n",
              "std        17.886768       6.352666    5483.63236       2.021922   \n",
              "min        18.000000      18.000000    1000.00000       3.000000   \n",
              "25%        33.000000      23.500000    5729.00000       4.700000   \n",
              "50%        48.000000      29.000000   10468.00000       6.500000   \n",
              "75%        64.000000      34.500000   15229.00000       8.200000   \n",
              "max        79.000000      40.000000   19999.00000      10.000000   \n",
              "\n",
              "       water_intake_l  calories_consumed         smoker        alcohol  \\\n",
              "count   100000.000000      100000.000000  100000.000000  100000.000000   \n",
              "mean         2.751496        2603.341200       0.200940       0.300020   \n",
              "std          1.297338         807.288563       0.400705       0.458269   \n",
              "min          0.500000        1200.000000       0.000000       0.000000   \n",
              "25%          1.600000        1906.000000       0.000000       0.000000   \n",
              "50%          2.800000        2603.000000       0.000000       0.000000   \n",
              "75%          3.900000        3299.000000       0.000000       1.000000   \n",
              "max          5.000000        3999.000000       1.000000       1.000000   \n",
              "\n",
              "          resting_hr   systolic_bp   diastolic_bp    cholesterol  \\\n",
              "count  100000.000000  100000.00000  100000.000000  100000.000000   \n",
              "mean       74.457420     134.58063      89.508850     224.300630   \n",
              "std        14.423715      25.95153      17.347041      43.327749   \n",
              "min        50.000000      90.00000      60.000000     150.000000   \n",
              "25%        62.000000     112.00000      74.000000     187.000000   \n",
              "50%        74.000000     135.00000      89.000000     224.000000   \n",
              "75%        87.000000     157.00000     105.000000     262.000000   \n",
              "max        99.000000     179.00000     119.000000     299.000000   \n",
              "\n",
              "       family_history   disease_risk  \n",
              "count   100000.000000  100000.000000  \n",
              "mean         0.299150       0.248210  \n",
              "std          0.457888       0.431976  \n",
              "min          0.000000       0.000000  \n",
              "25%          0.000000       0.000000  \n",
              "50%          0.000000       0.000000  \n",
              "75%          1.000000       0.000000  \n",
              "max          1.000000       1.000000  "
            ]
          },
          "execution_count": 3,
          "metadata": {},
          "output_type": "execute_result"
        }
      ],
      "source": [
        "# Remove the 'id' column as it is not useful for modeling\n",
        "df = df.drop(columns=['id'], errors='ignore')\n",
        "\n",
        "# Preview remaining columns\n",
        "print(\"Remaining columns: \")\n",
        "print(df.columns.tolist())\n",
        "\n",
        "# Convert column 'gender' to category\n",
        "df['gender'] = df['gender'].astype('category')\n",
        "print(\"\\nGender column converted to type:\", df['gender'].dtype)\n",
        "\n",
        "# Review numerical features\n",
        "numerical_cols = df.select_dtypes(include=['int64', 'float64']).columns\n",
        "print(\"Numerical columns:\", numerical_cols.tolist())\n",
        "df[numerical_cols].describe()"
      ]
    },
    {
      "cell_type": "code",
      "execution_count": 4,
      "metadata": {
        "colab": {
          "base_uri": "https://localhost:8080/",
          "height": 654
        },
        "id": "_vwGhldXDLUh",
        "outputId": "7659b094-ffd3-4244-e66c-6ecf726ba4bc"
      },
      "outputs": [
        {
          "data": {
            "image/png": "[encoded data removed]",
            "text/plain": [
              "<Figure size 1200x600 with 1 Axes>"
            ]
          },
          "metadata": {},
          "output_type": "display_data"
        }
      ],
      "source": [
        "# Visualize distribution for outliners\n",
        "import matplotlib.pyplot as plt\n",
        "import seaborn as sns\n",
        "\n",
        "# Select only numerical columns\n",
        "numerical_cols = df.select_dtypes(include=['int64', 'float64']).columns\n",
        "df_numeric = df[numerical_cols]\n",
        "\n",
        "# Convert to long format\n",
        "df_melted = df_numeric.melt(var_name='Columns', value_name='Value')\n",
        "\n",
        "# Plot single boxplot\n",
        "plt.figure(figsize=(12, 6))\n",
        "sns.boxplot(x='Columns', y='Value', data=df_melted)\n",
        "plt.xticks(rotation=45)\n",
        "plt.title(\"Boxplot for all numerical features (1st–99th percentile)\")\n",
        "plt.show()"
      ]
    },
    {
      "cell_type": "code",
      "execution_count": 5,
      "metadata": {
        "colab": {
          "base_uri": "https://localhost:8080/"
        },
        "id": "ukiDactPHPx4",
        "outputId": "aa9570dd-3735-4bef-bae7-8eaf38b8946b"
      },
      "outputs": [
        {
          "name": "stdout",
          "output_type": "stream",
          "text": [
            "\n",
            "Statistics after scaling:\n",
            "         daily_steps  calories_consumed\n",
            "count  100000.000000      100000.000000\n",
            "mean        0.001250           0.000245\n",
            "std         0.577224           0.579532\n",
            "min        -0.996632          -1.007179\n",
            "25%        -0.498842          -0.500359\n",
            "50%         0.000000           0.000000\n",
            "75%         0.501158           0.499641\n",
            "max         1.003263           1.002154\n"
          ]
        }
      ],
      "source": [
        "# Scaling outliners 'daily_steps' and 'calories_consummed'\n",
        "from sklearn.preprocessing import RobustScaler\n",
        "\n",
        "scaler = RobustScaler()\n",
        "df[['daily_steps', 'calories_consumed']] = scaler.fit_transform(df[['daily_steps', 'calories_consumed']])\n",
        "df_scaled = df.copy()\n",
        "print(\"\\nStatistics after scaling:\")\n",
        "print(df_scaled[['daily_steps', 'calories_consumed']].describe())"
      ]
    },
    {
      "cell_type": "markdown",
      "metadata": {
        "id": "5Gk75xjLEYu2"
      },
      "source": [
        "## Feature Influence on `disease_risk`\n",
        "\n",
        "We visualized how each feature affects `disease_risk` using an **interactive horizontal bar chart**:\n",
        "- **Red bars (↑ Increases Risk)** → features that increase disease risk.\n",
        "- **Blue bars (↓ Decreases Risk)** → features that reduce disease risk.\n",
        "- **Bar length** → relative influence (%) of each feature.\n",
        "\n",
        "This chart provides a **clear, intuitive view of both the direction and magnitude of influence**, helping identify the most important risk and protective factors."
      ]
    },
    {
      "cell_type": "code",
      "execution_count": 6,
      "metadata": {
        "colab": {
          "base_uri": "https://localhost:8080/",
          "height": 717
        },
        "id": "objd3xmjEZbJ",
        "outputId": "281b487c-b44f-4f3e-d0e4-2b271f4c83ef"
      },
      "outputs": [
        {
          "data": {
            "application/vnd.plotly.v1+json": {
              "config": {
                "plotlyServerURL": "https://plot.ly"
              },
              "data": [
                {
                  "hovertemplate": "Direction=↓ Decreases Risk<br>Influence (%)=%{text}<br>Feature=%{y}<extra></extra>",
                  "legendgroup": "↓ Decreases Risk",
                  "marker": {
                    "color": "#1f77b4",
                    "pattern": {
                      "shape": ""
                    }
                  },
                  "name": "↓ Decreases Risk",
                  "orientation": "h",
                  "showlegend": true,
                  "text": {
                    "bdata": "Y4YH2buAJkBVS91vCo0lQEtijibbqiNAn8Lzpiy4FUA=",
                    "dtype": "f8"
                  },
                  "textposition": "outside",
                  "texttemplate": "%{text:.2f}%",
                  "type": "bar",
                  "x": {
                    "bdata": "Y4YH2buAJkBVS91vCo0lQEtijibbqiNAn8Lzpiy4FUA=",
                    "dtype": "f8"
                  },
                  "xaxis": "x",
                  "y": [
                    "cholesterol",
                    "diastolic_bp",
                    "daily_steps",
                    "water_intake_l"
                  ],
                  "yaxis": "y"
                },
                {
                  "hovertemplate": "Direction=↑ Increases Risk<br>Influence (%)=%{text}<br>Feature=%{y}<extra></extra>",
                  "legendgroup": "↑ Increases Risk",
                  "marker": {
                    "color": "#d62728",
                    "pattern": {
                      "shape": ""
                    }
                  },
                  "name": "↑ Increases Risk",
                  "orientation": "h",
                  "showlegend": true,
                  "text": {
                    "bdata": "DLRYjKqL9z+XGRV7n8wIQM5EbJhosAlAaKQ8y14WE0BP651TGn0dQCGEJARbQh9AEUKmXelqIkACVZNijnkkQJhb7hQvCy9A",
                    "dtype": "f8"
                  },
                  "textposition": "outside",
                  "texttemplate": "%{text:.2f}%",
                  "type": "bar",
                  "x": {
                    "bdata": "DLRYjKqL9z+XGRV7n8wIQM5EbJhosAlAaKQ8y14WE0BP651TGn0dQCGEJARbQh9AEUKmXelqIkACVZNijnkkQJhb7hQvCy9A",
                    "dtype": "f8"
                  },
                  "xaxis": "x",
                  "y": [
                    "alcohol",
                    "systolic_bp",
                    "smoker",
                    "age",
                    "sleep_hours",
                    "calories_consumed",
                    "family_history",
                    "bmi",
                    "resting_hr"
                  ],
                  "yaxis": "y"
                }
              ],
              "layout": {
                "barmode": "relative",
                "height": 700,
                "legend": {
                  "title": {
                    "text": "Effect Direction"
                  },
                  "tracegroupgap": 0
                },
                "template": {
                  "data": {
                    "bar": [
                      {
                        "error_x": {
                          "color": "#2a3f5f"
                        },
                        "error_y": {
                          "color": "#2a3f5f"
                        },
                        "marker": {
                          "line": {
                            "color": "white",
                            "width": 0.5
                          },
                          "pattern": {
                            "fillmode": "overlay",
                            "size": 10,
                            "solidity": 0.2
                          }
                        },
                        "type": "bar"
                      }
                    ],
                    "barpolar": [
                      {
                        "marker": {
                          "line": {
                            "color": "white",
                            "width": 0.5
                          },
                          "pattern": {
                            "fillmode": "overlay",
                            "size": 10,
                            "solidity": 0.2
                          }
                        },
                        "type": "barpolar"
                      }
                    ],
                    "carpet": [
                      {
                        "aaxis": {
                          "endlinecolor": "#2a3f5f",
                          "gridcolor": "#C8D4E3",
                          "linecolor": "#C8D4E3",
                          "minorgridcolor": "#C8D4E3",
                          "startlinecolor": "#2a3f5f"
                        },
                        "baxis": {
                          "endlinecolor": "#2a3f5f",
                          "gridcolor": "#C8D4E3",
                          "linecolor": "#C8D4E3",
                          "minorgridcolor": "#C8D4E3",
                          "startlinecolor": "#2a3f5f"
                        },
                        "type": "carpet"
                      }
                    ],
                    "choropleth": [
                      {
                        "colorbar": {
                          "outlinewidth": 0,
                          "ticks": ""
                        },
                        "type": "choropleth"
                      }
                    ],
                    "contour": [
                      {
                        "colorbar": {
                          "outlinewidth": 0,
                          "ticks": ""
                        },
                        "colorscale": [
                          [
                            0,
                            "#0d0887"
                          ],
                          [
                            0.1111111111111111,
                            "#46039f"
                          ],
                          [
                            0.2222222222222222,
                            "#7201a8"
                          ],
                          [
                            0.3333333333333333,
                            "#9c179e"
                          ],
                          [
                            0.4444444444444444,
                            "#bd3786"
                          ],
                          [
                            0.5555555555555556,
                            "#d8576b"
                          ],
                          [
                            0.6666666666666666,
                            "#ed7953"
                          ],
                          [
                            0.7777777777777778,
                            "#fb9f3a"
                          ],
                          [
                            0.8888888888888888,
                            "#fdca26"
                          ],
                          [
                            1,
                            "#f0f921"
                          ]
                        ],
                        "type": "contour"
                      }
                    ],
                    "contourcarpet": [
                      {
                        "colorbar": {
                          "outlinewidth": 0,
                          "ticks": ""
                        },
                        "type": "contourcarpet"
                      }
                    ],
                    "heatmap": [
                      {
                        "colorbar": {
                          "outlinewidth": 0,
                          "ticks": ""
                        },
                        "colorscale": [
                          [
                            0,
                            "#0d0887"
                          ],
                          [
                            0.1111111111111111,
                            "#46039f"
                          ],
                          [
                            0.2222222222222222,
                            "#7201a8"
                          ],
                          [
                            0.3333333333333333,
                            "#9c179e"
                          ],
                          [
                            0.4444444444444444,
                            "#bd3786"
                          ],
                          [
                            0.5555555555555556,
                            "#d8576b"
                          ],
                          [
                            0.6666666666666666,
                            "#ed7953"
                          ],
                          [
                            0.7777777777777778,
                            "#fb9f3a"
                          ],
                          [
                            0.8888888888888888,
                            "#fdca26"
                          ],
                          [
                            1,
                            "#f0f921"
                          ]
                        ],
                        "type": "heatmap"
                      }
                    ],
                    "histogram": [
                      {
                        "marker": {
                          "pattern": {
                            "fillmode": "overlay",
                            "size": 10,
                            "solidity": 0.2
                          }
                        },
                        "type": "histogram"
                      }
                    ],
                    "histogram2d": [
                      {
                        "colorbar": {
                          "outlinewidth": 0,
                          "ticks": ""
                        },
                        "colorscale": [
                          [
                            0,
                            "#0d0887"
                          ],
                          [
                            0.1111111111111111,
                            "#46039f"
                          ],
                          [
                            0.2222222222222222,
                            "#7201a8"
                          ],
                          [
                            0.3333333333333333,
                            "#9c179e"
                          ],
                          [
                            0.4444444444444444,
                            "#bd3786"
                          ],
                          [
                            0.5555555555555556,
                            "#d8576b"
                          ],
                          [
                            0.6666666666666666,
                            "#ed7953"
                          ],
                          [
                            0.7777777777777778,
                            "#fb9f3a"
                          ],
                          [
                            0.8888888888888888,
                            "#fdca26"
                          ],
                          [
                            1,
                            "#f0f921"
                          ]
                        ],
                        "type": "histogram2d"
                      }
                    ],
                    "histogram2dcontour": [
                      {
                        "colorbar": {
                          "outlinewidth": 0,
                          "ticks": ""
                        },
                        "colorscale": [
                          [
                            0,
                            "#0d0887"
                          ],
                          [
                            0.1111111111111111,
                            "#46039f"
                          ],
                          [
                            0.2222222222222222,
                            "#7201a8"
                          ],
                          [
                            0.3333333333333333,
                            "#9c179e"
                          ],
                          [
                            0.4444444444444444,
                            "#bd3786"
                          ],
                          [
                            0.5555555555555556,
                            "#d8576b"
                          ],
                          [
                            0.6666666666666666,
                            "#ed7953"
                          ],
                          [
                            0.7777777777777778,
                            "#fb9f3a"
                          ],
                          [
                            0.8888888888888888,
                            "#fdca26"
                          ],
                          [
                            1,
                            "#f0f921"
                          ]
                        ],
                        "type": "histogram2dcontour"
                      }
                    ],
                    "mesh3d": [
                      {
                        "colorbar": {
                          "outlinewidth": 0,
                          "ticks": ""
                        },
                        "type": "mesh3d"
                      }
                    ],
                    "parcoords": [
                      {
                        "line": {
                          "colorbar": {
                            "outlinewidth": 0,
                            "ticks": ""
                          }
                        },
                        "type": "parcoords"
                      }
                    ],
                    "pie": [
                      {
                        "automargin": true,
                        "type": "pie"
                      }
                    ],
                    "scatter": [
                      {
                        "fillpattern": {
                          "fillmode": "overlay",
                          "size": 10,
                          "solidity": 0.2
                        },
                        "type": "scatter"
                      }
                    ],
                    "scatter3d": [
                      {
                        "line": {
                          "colorbar": {
                            "outlinewidth": 0,
                            "ticks": ""
                          }
                        },
                        "marker": {
                          "colorbar": {
                            "outlinewidth": 0,
                            "ticks": ""
                          }
                        },
                        "type": "scatter3d"
                      }
                    ],
                    "scattercarpet": [
                      {
                        "marker": {
                          "colorbar": {
                            "outlinewidth": 0,
                            "ticks": ""
                          }
                        },
                        "type": "scattercarpet"
                      }
                    ],
                    "scattergeo": [
                      {
                        "marker": {
                          "colorbar": {
                            "outlinewidth": 0,
                            "ticks": ""
                          }
                        },
                        "type": "scattergeo"
                      }
                    ],
                    "scattergl": [
                      {
                        "marker": {
                          "colorbar": {
                            "outlinewidth": 0,
                            "ticks": ""
                          }
                        },
                        "type": "scattergl"
                      }
                    ],
                    "scattermap": [
                      {
                        "marker": {
                          "colorbar": {
                            "outlinewidth": 0,
                            "ticks": ""
                          }
                        },
                        "type": "scattermap"
                      }
                    ],
                    "scattermapbox": [
                      {
                        "marker": {
                          "colorbar": {
                            "outlinewidth": 0,
                            "ticks": ""
                          }
                        },
                        "type": "scattermapbox"
                      }
                    ],
                    "scatterpolar": [
                      {
                        "marker": {
                          "colorbar": {
                            "outlinewidth": 0,
                            "ticks": ""
                          }
                        },
                        "type": "scatterpolar"
                      }
                    ],
                    "scatterpolargl": [
                      {
                        "marker": {
                          "colorbar": {
                            "outlinewidth": 0,
                            "ticks": ""
                          }
                        },
                        "type": "scatterpolargl"
                      }
                    ],
                    "scatterternary": [
                      {
                        "marker": {
                          "colorbar": {
                            "outlinewidth": 0,
                            "ticks": ""
                          }
                        },
                        "type": "scatterternary"
                      }
                    ],
                    "surface": [
                      {
                        "colorbar": {
                          "outlinewidth": 0,
                          "ticks": ""
                        },
                        "colorscale": [
                          [
                            0,
                            "#0d0887"
                          ],
                          [
                            0.1111111111111111,
                            "#46039f"
                          ],
                          [
                            0.2222222222222222,
                            "#7201a8"
                          ],
                          [
                            0.3333333333333333,
                            "#9c179e"
                          ],
                          [
                            0.4444444444444444,
                            "#bd3786"
                          ],
                          [
                            0.5555555555555556,
                            "#d8576b"
                          ],
                          [
                            0.6666666666666666,
                            "#ed7953"
                          ],
                          [
                            0.7777777777777778,
                            "#fb9f3a"
                          ],
                          [
                            0.8888888888888888,
                            "#fdca26"
                          ],
                          [
                            1,
                            "#f0f921"
                          ]
                        ],
                        "type": "surface"
                      }
                    ],
                    "table": [
                      {
                        "cells": {
                          "fill": {
                            "color": "#EBF0F8"
                          },
                          "line": {
                            "color": "white"
                          }
                        },
                        "header": {
                          "fill": {
                            "color": "#C8D4E3"
                          },
                          "line": {
                            "color": "white"
                          }
                        },
                        "type": "table"
                      }
                    ]
                  },
                  "layout": {
                    "annotationdefaults": {
                      "arrowcolor": "#2a3f5f",
                      "arrowhead": 0,
                      "arrowwidth": 1
                    },
                    "autotypenumbers": "strict",
                    "coloraxis": {
                      "colorbar": {
                        "outlinewidth": 0,
                        "ticks": ""
                      }
                    },
                    "colorscale": {
                      "diverging": [
                        [
                          0,
                          "#8e0152"
                        ],
                        [
                          0.1,
                          "#c51b7d"
                        ],
                        [
                          0.2,
                          "#de77ae"
                        ],
                        [
                          0.3,
                          "#f1b6da"
                        ],
                        [
                          0.4,
                          "#fde0ef"
                        ],
                        [
                          0.5,
                          "#f7f7f7"
                        ],
                        [
                          0.6,
                          "#e6f5d0"
                        ],
                        [
                          0.7,
                          "#b8e186"
                        ],
                        [
                          0.8,
                          "#7fbc41"
                        ],
                        [
                          0.9,
                          "#4d9221"
                        ],
                        [
                          1,
                          "#276419"
                        ]
                      ],
                      "sequential": [
                        [
                          0,
                          "#0d0887"
                        ],
                        [
                          0.1111111111111111,
                          "#46039f"
                        ],
                        [
                          0.2222222222222222,
                          "#7201a8"
                        ],
                        [
                          0.3333333333333333,
                          "#9c179e"
                        ],
                        [
                          0.4444444444444444,
                          "#bd3786"
                        ],
                        [
                          0.5555555555555556,
                          "#d8576b"
                        ],
                        [
                          0.6666666666666666,
                          "#ed7953"
                        ],
                        [
                          0.7777777777777778,
                          "#fb9f3a"
                        ],
                        [
                          0.8888888888888888,
                          "#fdca26"
                        ],
                        [
                          1,
                          "#f0f921"
                        ]
                      ],
                      "sequentialminus": [
                        [
                          0,
                          "#0d0887"
                        ],
                        [
                          0.1111111111111111,
                          "#46039f"
                        ],
                        [
                          0.2222222222222222,
                          "#7201a8"
                        ],
                        [
                          0.3333333333333333,
                          "#9c179e"
                        ],
                        [
                          0.4444444444444444,
                          "#bd3786"
                        ],
                        [
                          0.5555555555555556,
                          "#d8576b"
                        ],
                        [
                          0.6666666666666666,
                          "#ed7953"
                        ],
                        [
                          0.7777777777777778,
                          "#fb9f3a"
                        ],
                        [
                          0.8888888888888888,
                          "#fdca26"
                        ],
                        [
                          1,
                          "#f0f921"
                        ]
                      ]
                    },
                    "colorway": [
                      "#636efa",
                      "#EF553B",
                      "#00cc96",
                      "#ab63fa",
                      "#FFA15A",
                      "#19d3f3",
                      "#FF6692",
                      "#B6E880",
                      "#FF97FF",
                      "#FECB52"
                    ],
                    "font": {
                      "color": "#2a3f5f"
                    },
                    "geo": {
                      "bgcolor": "white",
                      "lakecolor": "white",
                      "landcolor": "white",
                      "showlakes": true,
                      "showland": true,
                      "subunitcolor": "#C8D4E3"
                    },
                    "hoverlabel": {
                      "align": "left"
                    },
                    "hovermode": "closest",
                    "mapbox": {
                      "style": "light"
                    },
                    "paper_bgcolor": "white",
                    "plot_bgcolor": "white",
                    "polar": {
                      "angularaxis": {
                        "gridcolor": "#EBF0F8",
                        "linecolor": "#EBF0F8",
                        "ticks": ""
                      },
                      "bgcolor": "white",
                      "radialaxis": {
                        "gridcolor": "#EBF0F8",
                        "linecolor": "#EBF0F8",
                        "ticks": ""
                      }
                    },
                    "scene": {
                      "xaxis": {
                        "backgroundcolor": "white",
                        "gridcolor": "#DFE8F3",
                        "gridwidth": 2,
                        "linecolor": "#EBF0F8",
                        "showbackground": true,
                        "ticks": "",
                        "zerolinecolor": "#EBF0F8"
                      },
                      "yaxis": {
                        "backgroundcolor": "white",
                        "gridcolor": "#DFE8F3",
                        "gridwidth": 2,
                        "linecolor": "#EBF0F8",
                        "showbackground": true,
                        "ticks": "",
                        "zerolinecolor": "#EBF0F8"
                      },
                      "zaxis": {
                        "backgroundcolor": "white",
                        "gridcolor": "#DFE8F3",
                        "gridwidth": 2,
                        "linecolor": "#EBF0F8",
                        "showbackground": true,
                        "ticks": "",
                        "zerolinecolor": "#EBF0F8"
                      }
                    },
                    "shapedefaults": {
                      "line": {
                        "color": "#2a3f5f"
                      }
                    },
                    "ternary": {
                      "aaxis": {
                        "gridcolor": "#DFE8F3",
                        "linecolor": "#A2B1C6",
                        "ticks": ""
                      },
                      "baxis": {
                        "gridcolor": "#DFE8F3",
                        "linecolor": "#A2B1C6",
                        "ticks": ""
                      },
                      "bgcolor": "white",
                      "caxis": {
                        "gridcolor": "#DFE8F3",
                        "linecolor": "#A2B1C6",
                        "ticks": ""
                      }
                    },
                    "title": {
                      "x": 0.05
                    },
                    "xaxis": {
                      "automargin": true,
                      "gridcolor": "#EBF0F8",
                      "linecolor": "#EBF0F8",
                      "ticks": "",
                      "title": {
                        "standoff": 15
                      },
                      "zerolinecolor": "#EBF0F8",
                      "zerolinewidth": 2
                    },
                    "yaxis": {
                      "automargin": true,
                      "gridcolor": "#EBF0F8",
                      "linecolor": "#EBF0F8",
                      "ticks": "",
                      "title": {
                        "standoff": 15
                      },
                      "zerolinecolor": "#EBF0F8",
                      "zerolinewidth": 2
                    }
                  }
                },
                "title": {
                  "font": {
                    "size": 20
                  },
                  "text": "Feature Influence on Disease Risk (Proportional & Directional)"
                },
                "xaxis": {
                  "anchor": "y",
                  "domain": [
                    0,
                    1
                  ],
                  "title": {
                    "text": "Influence (%)"
                  }
                },
                "yaxis": {
                  "anchor": "x",
                  "domain": [
                    0,
                    1
                  ],
                  "title": {
                    "text": "Feature"
                  }
                }
              }
            }
          },
          "metadata": {},
          "output_type": "display_data"
        }
      ],
      "source": [
        "# Visualize the correlation between life style and risk deasese\n",
        "import plotly.express as px\n",
        "import pandas as pd\n",
        "import numpy as np\n",
        "\n",
        "# The columns\n",
        "cols = ['age', 'bmi', 'daily_steps', 'sleep_hours', 'water_intake_l',\n",
        "        'calories_consumed', 'smoker', 'alcohol', 'resting_hr',\n",
        "        'systolic_bp', 'diastolic_bp', 'cholesterol', 'family_history']\n",
        "\n",
        "# Correlations with disease_risk\n",
        "corr = df[cols + ['disease_risk']].corr()['disease_risk'].drop('disease_risk')\n",
        "\n",
        "# Calculating the percentage\n",
        "corr_percent = (abs(corr) / abs(corr).sum()) * 100\n",
        "\n",
        "# Preparing the DataFrame for grafic\n",
        "corr_df = pd.DataFrame({\n",
        "    'Feature': corr.index,\n",
        "    'Correlation': corr.values,  # păstrează semnul\n",
        "    'Influence (%)': corr_percent.values\n",
        "}).sort_values(by='Correlation', ascending=True)\n",
        "\n",
        "# Adding color according to direction\n",
        "corr_df['Direction'] = np.where(corr_df['Correlation'] > 0, '↑ Increases Risk', '↓ Decreases Risk')\n",
        "\n",
        "# Interactive Barplot\n",
        "fig = px.bar(\n",
        "    corr_df,\n",
        "    x='Influence (%)',\n",
        "    y='Feature',\n",
        "    orientation='h',\n",
        "    color='Direction',\n",
        "    color_discrete_map={'↑ Increases Risk': '#d62728', '↓ Decreases Risk': '#1f77b4'},\n",
        "    text='Influence (%)',\n",
        "    title='Feature Influence on Disease Risk (Proportional & Directional)'\n",
        ")\n",
        "\n",
        "# Stiling the Barplot\n",
        "fig.update_traces(texttemplate='%{text:.2f}%', textposition='outside')\n",
        "fig.update_layout(\n",
        "    template='plotly_white',\n",
        "    xaxis_title='Influence (%)',\n",
        "    yaxis_title='Feature',\n",
        "    title_font_size=20,\n",
        "    height=700,\n",
        "    legend_title_text='Effect Direction'\n",
        ")\n",
        "\n",
        "fig.show()\n",
        "\n",
        "\n",
        "\n",
        "\n"
      ]
    }
  ],
  "metadata": {
    "colab": {
      "authorship_tag": "ABX9TyOUnD1+UXG8bx+4vrCcaNIB",
      "include_colab_link": true,
      "provenance": []
    },
    "kernelspec": {
      "display_name": "Python 3",
      "name": "python3"
    },
    "language_info": {
      "codemirror_mode": {
        "name": "ipython",
        "version": 3
      },
      "file_extension": ".py",
      "mimetype": "text/x-python",
      "name": "python",
      "nbconvert_exporter": "python",
      "pygments_lexer": "ipython3",
      "version": "3.13.2"
    }
  },
  "nbformat": 4,
  "nbformat_minor": 0
}
