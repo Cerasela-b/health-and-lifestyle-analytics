{
  "nbformat": 4,
  "nbformat_minor": 0,
  "metadata": {
    "colab": {
      "provenance": [],
      "authorship_tag": "ABX9TyOUnD1+UXG8bx+4vrCcaNIB",
      "include_colab_link": true
    },
    "kernelspec": {
      "name": "python3",
      "display_name": "Python 3"
    },
    "language_info": {
      "name": "python"
    }
  },
  "cells": [
    {
      "cell_type": "markdown",
      "metadata": {
        "colab_type": "text",
        "id": "view-in-github"
      },
      "source": [
        "<a href=\"https://colab.research.google.com/github/Cerasela-b/health-and-lifestyle-analytics/blob/main/notebook/health_and_lifestyle_analyze.ipynb\" target=\"_parent\"><img src=\"https://colab.research.google.com/assets/colab-badge.svg\" alt=\"Open In Colab\"/></a>"
      ]
    },
    {
      "cell_type": "markdown",
      "metadata": {
        "id": "RqlJlbZ4xxKv"
      },
      "source": [
        "## Loading and Inspecting the Dataset\n",
        "To begin the analysis, we need to explore the dataset structure and understand the type of information it contains.\n",
        "This step helps identify potential data quality issues, missing values, and the nature of each feature before we start the cleaning and modeling process.\n",
        "\n",
        "In this step, we will:\n",
        "- **Load** the CSV file from GitHub repository\n",
        "- **Check** the dataset’s dimensions (number of rows and columns)\n",
        "- **Preview** the first few rows to get an overview of the variables\n",
        "- **Inspect** data types, value ranges, and basic statistical metadata\n",
        "- **Identify** possible missing or inconsistent values\n",
        "\n",
        "This initial inspection forms the foundation for further **data cleaning, feature engineering**, and **machine learning tasks**."
      ]
    },
    {
      "cell_type": "code",
      "execution_count": 1,
      "metadata": {
        "colab": {
          "base_uri": "https://localhost:8080/"
        },
        "id": "GuiLI-CuwXoV",
        "outputId": "4dfe23b7-19e7-4481-c39f-4101c404a008"
      },
      "outputs": [
        {
          "name": "stdout",
          "output_type": "stream",
          "text": [
            "Dataset shape (rows, cloumns):  (100000, 16)\n",
            "\n",
            "First 5 rows: \n",
            "   id  age  gender   bmi  daily_steps  sleep_hours  water_intake_l  \\\n",
            "0   1   56    Male  20.5         4198          3.9             3.4   \n",
            "1   2   69  Female  33.3        14359          9.0             4.7   \n",
            "2   3   46    Male  31.6         1817          6.6             4.2   \n",
            "3   4   32  Female  38.2        15772          3.6             2.0   \n",
            "4   5   60  Female  33.6         6037          3.8             4.0   \n",
            "\n",
            "   calories_consumed  smoker  alcohol  resting_hr  systolic_bp  diastolic_bp  \\\n",
            "0               1602       0        0          97          161           111   \n",
            "1               2346       0        1          68          116            65   \n",
            "2               1643       0        1          90          123            99   \n",
            "3               2460       0        0          71          165            95   \n",
            "4               3756       0        1          98          139            61   \n",
            "\n",
            "   cholesterol  family_history  disease_risk  \n",
            "0          240               0             0  \n",
            "1          207               0             0  \n",
            "2          296               0             0  \n",
            "3          175               0             0  \n",
            "4          294               0             0  \n",
            "\n",
            "Dataset info: \n",
            "<class 'pandas.core.frame.DataFrame'>\n",
            "RangeIndex: 100000 entries, 0 to 99999\n",
            "Data columns (total 16 columns):\n",
            " #   Column             Non-Null Count   Dtype  \n",
            "---  ------             --------------   -----  \n",
            " 0   id                 100000 non-null  int64  \n",
            " 1   age                100000 non-null  int64  \n",
            " 2   gender             100000 non-null  object \n",
            " 3   bmi                100000 non-null  float64\n",
            " 4   daily_steps        100000 non-null  int64  \n",
            " 5   sleep_hours        100000 non-null  float64\n",
            " 6   water_intake_l     100000 non-null  float64\n",
            " 7   calories_consumed  100000 non-null  int64  \n",
            " 8   smoker             100000 non-null  int64  \n",
            " 9   alcohol            100000 non-null  int64  \n",
            " 10  resting_hr         100000 non-null  int64  \n",
            " 11  systolic_bp        100000 non-null  int64  \n",
            " 12  diastolic_bp       100000 non-null  int64  \n",
            " 13  cholesterol        100000 non-null  int64  \n",
            " 14  family_history     100000 non-null  int64  \n",
            " 15  disease_risk       100000 non-null  int64  \n",
            "dtypes: float64(3), int64(12), object(1)\n",
            "memory usage: 12.2+ MB\n"
          ]
        }
      ],
      "source": [
        "import pandas as pd\n",
        "\n",
        "# Load dataset from GitHub\n",
        "url = \"https://raw.githubusercontent.com/Cerasela-b/health-and-lifestyle-analytics/main/data/health_lifestyle_dataset.csv\"\n",
        "df = pd.read_csv(url)\n",
        "\n",
        "# Check dataset dimensions(number of rows and columns)\n",
        "print(\"Dataset shape (rows, cloumns): \", df.shape)\n",
        "\n",
        "print(\"\\nFirst 5 rows: \")\n",
        "print(df.head())\n",
        "\n",
        "# Show column data types and non-null counts\n",
        "print(\"\\nDataset info: \")\n",
        "df.info()"
      ]
    },
    {
      "cell_type": "markdown",
      "metadata": {
        "id": "S2W24bI92ULh"
      },
      "source": [
        "\n",
        "## Dataset Loading and Initial Inspection\n",
        "\n",
        "The dataset was successfully loaded from GitHub and contains **100,000 rows** and **16 columns** describing various **health and lifestyle factors** such as age, BMI, sleep, activity level, and disease risk.\n",
        "\n",
        "All columns have **non-null values**, ensuring a clean starting point for analysis.\n",
        "The dataset includes a mix of **numeric** and **categorical** variables — with `gender` as an object type and several binary indicators already encoded as integers.\n",
        "\n",
        "**Key observations**:\n",
        "\n",
        "- Data types: 12 integer, 3 float, 1 object (`gender`)\n",
        "- Binary columns (`smoker`, `alcohol`, `family_history`) are already encoded as 0/1\n",
        "- No missing data detected across any column\n",
        "- Each record represents one individual’s lifestyle and health profile\n",
        "\n",
        "The data is well-structured and ready for **cleaning, preprocessing**, and **exploratory data analysis (EDA)** to identify relationships between lifestyle habits and disease risk."
      ]
    },
    {
      "cell_type": "markdown",
      "metadata": {
        "id": "BohiqX9g3cWx"
      },
      "source": [
        "## Data Cleaning & Preprocessing\n",
        "\n",
        "The dataset is already complete, with no missing values across any columns.\n",
        "Therefore, this step focuses on refining data quality and ensuring readiness for analysis.\n",
        "\n",
        "In this step, we will:\n",
        "- Remove the non-informative identifier column (`id`)\n",
        "- Encode the categorical column (`gender`) for ML compatibility\n",
        "- Review numerical features to detect potential outliers\n",
        "- Apply scaling or normalization if required for certain models\n",
        "\n",
        "With no missing values, the preprocessing process emphasizes **feature encoding, structure optimization, and data consistency** for the next analysis phase."
      ]
    },
    {
      "cell_type": "code",
      "execution_count": 3,
      "metadata": {
        "colab": {
          "base_uri": "https://localhost:8080/",
          "height": 407
        },
        "id": "d3FNzZ6i9P9i",
        "outputId": "cfe97543-2707-40a3-e696-49b2b4fd523c"
      },
      "execution_count": 2,
      "outputs": [
        {
          "name": "stdout",
          "output_type": "stream",
          "text": [
            "Remaining columns: \n",
            "['age', 'gender', 'bmi', 'daily_steps', 'sleep_hours', 'water_intake_l', 'calories_consumed', 'smoker', 'alcohol', 'resting_hr', 'systolic_bp', 'diastolic_bp', 'cholesterol', 'family_history', 'disease_risk']\n",
            "\n",
            "Gender column converted to type: category\n",
            "Numerical columns: ['age', 'bmi', 'daily_steps', 'sleep_hours', 'water_intake_l', 'calories_consumed', 'smoker', 'alcohol', 'resting_hr', 'systolic_bp', 'diastolic_bp', 'cholesterol', 'family_history', 'disease_risk']\n"
          ]
        },
        {
          "data": {
            "text/html": [
              "\n",
              "  <div id=\"df-0a15cb69-7d69-41f2-949d-49bc64d7a71c\" class=\"colab-df-container\">\n",
              "    <div>\n",
              "<style scoped>\n",
              "    .dataframe tbody tr th:only-of-type {\n",
              "        vertical-align: middle;\n",
              "    }\n",
              "\n",
              "    .dataframe tbody tr th {\n",
              "        vertical-align: top;\n",
              "    }\n",
              "\n",
              "    .dataframe thead th {\n",
              "        text-align: right;\n",
              "    }\n",
              "</style>\n",
              "<table border=\"1\" class=\"dataframe\">\n",
              "  <thead>\n",
              "    <tr style=\"text-align: right;\">\n",
              "      <th></th>\n",
              "      <th>age</th>\n",
              "      <th>bmi</th>\n",
              "      <th>daily_steps</th>\n",
              "      <th>sleep_hours</th>\n",
              "      <th>water_intake_l</th>\n",
              "      <th>calories_consumed</th>\n",
              "      <th>smoker</th>\n",
              "      <th>alcohol</th>\n",
              "      <th>resting_hr</th>\n",
              "      <th>systolic_bp</th>\n",
              "      <th>diastolic_bp</th>\n",
              "      <th>cholesterol</th>\n",
              "      <th>family_history</th>\n",
              "      <th>disease_risk</th>\n",
              "    </tr>\n",
              "  </thead>\n",
              "  <tbody>\n",
              "    <tr>\n",
              "      <th>count</th>\n",
              "      <td>100000.000000</td>\n",
              "      <td>100000.000000</td>\n",
              "      <td>100000.00000</td>\n",
              "      <td>100000.000000</td>\n",
              "      <td>100000.000000</td>\n",
              "      <td>100000.000000</td>\n",
              "      <td>100000.000000</td>\n",
              "      <td>100000.000000</td>\n",
              "      <td>100000.000000</td>\n",
              "      <td>100000.00000</td>\n",
              "      <td>100000.000000</td>\n",
              "      <td>100000.000000</td>\n",
              "      <td>100000.000000</td>\n",
              "      <td>100000.000000</td>\n",
              "    </tr>\n",
              "    <tr>\n",
              "      <th>mean</th>\n",
              "      <td>48.525990</td>\n",
              "      <td>29.024790</td>\n",
              "      <td>10479.87029</td>\n",
              "      <td>6.491784</td>\n",
              "      <td>2.751496</td>\n",
              "      <td>2603.341200</td>\n",
              "      <td>0.200940</td>\n",
              "      <td>0.300020</td>\n",
              "      <td>74.457420</td>\n",
              "      <td>134.58063</td>\n",
              "      <td>89.508850</td>\n",
              "      <td>224.300630</td>\n",
              "      <td>0.299150</td>\n",
              "      <td>0.248210</td>\n",
              "    </tr>\n",
              "    <tr>\n",
              "      <th>std</th>\n",
              "      <td>17.886768</td>\n",
              "      <td>6.352666</td>\n",
              "      <td>5483.63236</td>\n",
              "      <td>2.021922</td>\n",
              "      <td>1.297338</td>\n",
              "      <td>807.288563</td>\n",
              "      <td>0.400705</td>\n",
              "      <td>0.458269</td>\n",
              "      <td>14.423715</td>\n",
              "      <td>25.95153</td>\n",
              "      <td>17.347041</td>\n",
              "      <td>43.327749</td>\n",
              "      <td>0.457888</td>\n",
              "      <td>0.431976</td>\n",
              "    </tr>\n",
              "    <tr>\n",
              "      <th>min</th>\n",
              "      <td>18.000000</td>\n",
              "      <td>18.000000</td>\n",
              "      <td>1000.00000</td>\n",
              "      <td>3.000000</td>\n",
              "      <td>0.500000</td>\n",
              "      <td>1200.000000</td>\n",
              "      <td>0.000000</td>\n",
              "      <td>0.000000</td>\n",
              "      <td>50.000000</td>\n",
              "      <td>90.00000</td>\n",
              "      <td>60.000000</td>\n",
              "      <td>150.000000</td>\n",
              "      <td>0.000000</td>\n",
              "      <td>0.000000</td>\n",
              "    </tr>\n",
              "    <tr>\n",
              "      <th>25%</th>\n",
              "      <td>33.000000</td>\n",
              "      <td>23.500000</td>\n",
              "      <td>5729.00000</td>\n",
              "      <td>4.700000</td>\n",
              "      <td>1.600000</td>\n",
              "      <td>1906.000000</td>\n",
              "      <td>0.000000</td>\n",
              "      <td>0.000000</td>\n",
              "      <td>62.000000</td>\n",
              "      <td>112.00000</td>\n",
              "      <td>74.000000</td>\n",
              "      <td>187.000000</td>\n",
              "      <td>0.000000</td>\n",
              "      <td>0.000000</td>\n",
              "    </tr>\n",
              "    <tr>\n",
              "      <th>50%</th>\n",
              "      <td>48.000000</td>\n",
              "      <td>29.000000</td>\n",
              "      <td>10468.00000</td>\n",
              "      <td>6.500000</td>\n",
              "      <td>2.800000</td>\n",
              "      <td>2603.000000</td>\n",
              "      <td>0.000000</td>\n",
              "      <td>0.000000</td>\n",
              "      <td>74.000000</td>\n",
              "      <td>135.00000</td>\n",
              "      <td>89.000000</td>\n",
              "      <td>224.000000</td>\n",
              "      <td>0.000000</td>\n",
              "      <td>0.000000</td>\n",
              "    </tr>\n",
              "    <tr>\n",
              "      <th>75%</th>\n",
              "      <td>64.000000</td>\n",
              "      <td>34.500000</td>\n",
              "      <td>15229.00000</td>\n",
              "      <td>8.200000</td>\n",
              "      <td>3.900000</td>\n",
              "      <td>3299.000000</td>\n",
              "      <td>0.000000</td>\n",
              "      <td>1.000000</td>\n",
              "      <td>87.000000</td>\n",
              "      <td>157.00000</td>\n",
              "      <td>105.000000</td>\n",
              "      <td>262.000000</td>\n",
              "      <td>1.000000</td>\n",
              "      <td>0.000000</td>\n",
              "    </tr>\n",
              "    <tr>\n",
              "      <th>max</th>\n",
              "      <td>79.000000</td>\n",
              "      <td>40.000000</td>\n",
              "      <td>19999.00000</td>\n",
              "      <td>10.000000</td>\n",
              "      <td>5.000000</td>\n",
              "      <td>3999.000000</td>\n",
              "      <td>1.000000</td>\n",
              "      <td>1.000000</td>\n",
              "      <td>99.000000</td>\n",
              "      <td>179.00000</td>\n",
              "      <td>119.000000</td>\n",
              "      <td>299.000000</td>\n",
              "      <td>1.000000</td>\n",
              "      <td>1.000000</td>\n",
              "    </tr>\n",
              "  </tbody>\n",
              "</table>\n",
              "</div>"
            ],
            "text/plain": [
              "                 age            bmi   daily_steps    sleep_hours  \\\n",
              "count  100000.000000  100000.000000  100000.00000  100000.000000   \n",
              "mean       48.525990      29.024790   10479.87029       6.491784   \n",
              "std        17.886768       6.352666    5483.63236       2.021922   \n",
              "min        18.000000      18.000000    1000.00000       3.000000   \n",
              "25%        33.000000      23.500000    5729.00000       4.700000   \n",
              "50%        48.000000      29.000000   10468.00000       6.500000   \n",
              "75%        64.000000      34.500000   15229.00000       8.200000   \n",
              "max        79.000000      40.000000   19999.00000      10.000000   \n",
              "\n",
              "  <div class=\"colab-df-container\">\n",
              "    <button class=\"colab-df-convert\" onclick=\"convertToInteractive('df-0a15cb69-7d69-41f2-949d-49bc64d7a71c')\"\n",
              "            title=\"Convert this dataframe to an interactive table.\"\n",
              "            style=\"display:none;\">\n",
              "\n",
              "          resting_hr   systolic_bp   diastolic_bp    cholesterol  \\\n",
              "count  100000.000000  100000.00000  100000.000000  100000.000000   \n",
              "mean       74.457420     134.58063      89.508850     224.300630   \n",
              "std        14.423715      25.95153      17.347041      43.327749   \n",
              "min        50.000000      90.00000      60.000000     150.000000   \n",
              "25%        62.000000     112.00000      74.000000     187.000000   \n",
              "50%        74.000000     135.00000      89.000000     224.000000   \n",
              "75%        87.000000     157.00000     105.000000     262.000000   \n",
              "max        99.000000     179.00000     119.000000     299.000000   \n",
              "\n",
              "  <style>\n",
              "    .colab-df-container {\n",
              "      display:flex;\n",
              "      gap: 12px;\n",
              "    }\n",
              "\n",
              "    .colab-df-convert {\n",
              "      background-color: #E8F0FE;\n",
              "      border: none;\n",
              "      border-radius: 50%;\n",
              "      cursor: pointer;\n",
              "      display: none;\n",
              "      fill: #1967D2;\n",
              "      height: 32px;\n",
              "      padding: 0 0 0 0;\n",
              "      width: 32px;\n",
              "    }\n",
              "\n",
              "    .colab-df-convert:hover {\n",
              "      background-color: #E2EBFA;\n",
              "      box-shadow: 0px 1px 2px rgba(60, 64, 67, 0.3), 0px 1px 3px 1px rgba(60, 64, 67, 0.15);\n",
              "      fill: #174EA6;\n",
              "    }\n",
              "\n",
              "    .colab-df-buttons div {\n",
              "      margin-bottom: 4px;\n",
              "    }\n",
              "\n",
              "    [theme=dark] .colab-df-convert {\n",
              "      background-color: #3B4455;\n",
              "      fill: #D2E3FC;\n",
              "    }\n",
              "\n",
              "    [theme=dark] .colab-df-convert:hover {\n",
              "      background-color: #434B5C;\n",
              "      box-shadow: 0px 1px 3px 1px rgba(0, 0, 0, 0.15);\n",
              "      filter: drop-shadow(0px 1px 2px rgba(0, 0, 0, 0.3));\n",
              "      fill: #FFFFFF;\n",
              "    }\n",
              "  </style>\n",
              "\n",
              "    <script>\n",
              "      const buttonEl =\n",
              "        document.querySelector('#df-0a15cb69-7d69-41f2-949d-49bc64d7a71c button.colab-df-convert');\n",
              "      buttonEl.style.display =\n",
              "        google.colab.kernel.accessAllowed ? 'block' : 'none';\n",
              "\n",
              "      async function convertToInteractive(key) {\n",
              "        const element = document.querySelector('#df-0a15cb69-7d69-41f2-949d-49bc64d7a71c');\n",
              "        const dataTable =\n",
              "          await google.colab.kernel.invokeFunction('convertToInteractive',\n",
              "                                                    [key], {});\n",
              "        if (!dataTable) return;\n",
              "\n",
              "        const docLinkHtml = 'Like what you see? Visit the ' +\n",
              "          '<a target=\"_blank\" href=https://colab.research.google.com/notebooks/data_table.ipynb>data table notebook</a>'\n",
              "          + ' to learn more about interactive tables.';\n",
              "        element.innerHTML = '';\n",
              "        dataTable['output_type'] = 'display_data';\n",
              "        await google.colab.output.renderOutput(dataTable, element);\n",
              "        const docLink = document.createElement('div');\n",
              "        docLink.innerHTML = docLinkHtml;\n",
              "        element.appendChild(docLink);\n",
              "      }\n",
              "    </script>\n",
              "  </div>\n",
              "\n",
              "\n",
              "    <div id=\"df-1c2a80bb-3082-4f8b-b213-d243145185fd\">\n",
              "      <button class=\"colab-df-quickchart\" onclick=\"quickchart('df-1c2a80bb-3082-4f8b-b213-d243145185fd')\"\n",
              "                title=\"Suggest charts\"\n",
              "                style=\"display:none;\">\n",
              "\n",
              "<svg xmlns=\"http://www.w3.org/2000/svg\" height=\"24px\"viewBox=\"0 0 24 24\"\n",
              "     width=\"24px\">\n",
              "    <g>\n",
              "        <path d=\"M19 3H5c-1.1 0-2 .9-2 2v14c0 1.1.9 2 2 2h14c1.1 0 2-.9 2-2V5c0-1.1-.9-2-2-2zM9 17H7v-7h2v7zm4 0h-2V7h2v10zm4 0h-2v-4h2v4z\"/>\n",
              "    </g>\n",
              "</svg>\n",
              "      </button>\n",
              "\n",
              "<style>\n",
              "  .colab-df-quickchart {\n",
              "      --bg-color: #E8F0FE;\n",
              "      --fill-color: #1967D2;\n",
              "      --hover-bg-color: #E2EBFA;\n",
              "      --hover-fill-color: #174EA6;\n",
              "      --disabled-fill-color: #AAA;\n",
              "      --disabled-bg-color: #DDD;\n",
              "  }\n",
              "\n",
              "  [theme=dark] .colab-df-quickchart {\n",
              "      --bg-color: #3B4455;\n",
              "      --fill-color: #D2E3FC;\n",
              "      --hover-bg-color: #434B5C;\n",
              "      --hover-fill-color: #FFFFFF;\n",
              "      --disabled-bg-color: #3B4455;\n",
              "      --disabled-fill-color: #666;\n",
              "  }\n",
              "\n",
              "  .colab-df-quickchart {\n",
              "    background-color: var(--bg-color);\n",
              "    border: none;\n",
              "    border-radius: 50%;\n",
              "    cursor: pointer;\n",
              "    display: none;\n",
              "    fill: var(--fill-color);\n",
              "    height: 32px;\n",
              "    padding: 0;\n",
              "    width: 32px;\n",
              "  }\n",
              "\n",
              "  .colab-df-quickchart:hover {\n",
              "    background-color: var(--hover-bg-color);\n",
              "    box-shadow: 0 1px 2px rgba(60, 64, 67, 0.3), 0 1px 3px 1px rgba(60, 64, 67, 0.15);\n",
              "    fill: var(--button-hover-fill-color);\n",
              "  }\n",
              "\n",
              "  .colab-df-quickchart-complete:disabled,\n",
              "  .colab-df-quickchart-complete:disabled:hover {\n",
              "    background-color: var(--disabled-bg-color);\n",
              "    fill: var(--disabled-fill-color);\n",
              "    box-shadow: none;\n",
              "  }\n",
              "\n",
              "  .colab-df-spinner {\n",
              "    border: 2px solid var(--fill-color);\n",
              "    border-color: transparent;\n",
              "    border-bottom-color: var(--fill-color);\n",
              "    animation:\n",
              "      spin 1s steps(1) infinite;\n",
              "  }\n",
              "\n",
              "  @keyframes spin {\n",
              "    0% {\n",
              "      border-color: transparent;\n",
              "      border-bottom-color: var(--fill-color);\n",
              "      border-left-color: var(--fill-color);\n",
              "    }\n",
              "    20% {\n",
              "      border-color: transparent;\n",
              "      border-left-color: var(--fill-color);\n",
              "      border-top-color: var(--fill-color);\n",
              "    }\n",
              "    30% {\n",
              "      border-color: transparent;\n",
              "      border-left-color: var(--fill-color);\n",
              "      border-top-color: var(--fill-color);\n",
              "      border-right-color: var(--fill-color);\n",
              "    }\n",
              "    40% {\n",
              "      border-color: transparent;\n",
              "      border-right-color: var(--fill-color);\n",
              "      border-top-color: var(--fill-color);\n",
              "    }\n",
              "    60% {\n",
              "      border-color: transparent;\n",
              "      border-right-color: var(--fill-color);\n",
              "    }\n",
              "    80% {\n",
              "      border-color: transparent;\n",
              "      border-right-color: var(--fill-color);\n",
              "      border-bottom-color: var(--fill-color);\n",
              "    }\n",
              "    90% {\n",
              "      border-color: transparent;\n",
              "      border-bottom-color: var(--fill-color);\n",
              "    }\n",
              "  }\n",
              "</style>\n",
              "\n",
              "      <script>\n",
              "        async function quickchart(key) {\n",
              "          const quickchartButtonEl =\n",
              "            document.querySelector('#' + key + ' button');\n",
              "          quickchartButtonEl.disabled = true;  // To prevent multiple clicks.\n",
              "          quickchartButtonEl.classList.add('colab-df-spinner');\n",
              "          try {\n",
              "            const charts = await google.colab.kernel.invokeFunction(\n",
              "                'suggestCharts', [key], {});\n",
              "          } catch (error) {\n",
              "            console.error('Error during call to suggestCharts:', error);\n",
              "          }\n",
              "          quickchartButtonEl.classList.remove('colab-df-spinner');\n",
              "          quickchartButtonEl.classList.add('colab-df-quickchart-complete');\n",
              "        }\n",
              "        (() => {\n",
              "          let quickchartButtonEl =\n",
              "            document.querySelector('#df-1c2a80bb-3082-4f8b-b213-d243145185fd button');\n",
              "          quickchartButtonEl.style.display =\n",
              "            google.colab.kernel.accessAllowed ? 'block' : 'none';\n",
              "        })();\n",
              "      </script>\n",
              "    </div>\n",
              "\n",
              "    </div>\n",
              "  </div>\n"
            ],
            "application/vnd.google.colaboratory.intrinsic+json": {
              "type": "dataframe",
              "summary": "{\n  \"name\": \"df[numerical_cols]\",\n  \"rows\": 8,\n  \"fields\": [\n    {\n      \"column\": \"age\",\n      \"properties\": {\n        \"dtype\": \"number\",\n        \"std\": 35339.76821000555,\n        \"min\": 17.886767843411036,\n        \"max\": 100000.0,\n        \"num_unique_values\": 8,\n        \"samples\": [\n          48.52599,\n          48.0,\n          100000.0\n        ],\n        \"semantic_type\": \"\",\n        \"description\": \"\"\n      }\n    },\n    {\n      \"column\": \"bmi\",\n      \"properties\": {\n        \"dtype\": \"number\",\n        \"std\": 35346.23012206218,\n        \"min\": 6.352665961590203,\n        \"max\": 100000.0,\n        \"num_unique_values\": 8,\n        \"samples\": [\n          29.024789999999996,\n          29.0,\n          100000.0\n        ],\n        \"semantic_type\": \"\",\n        \"description\": \"\"\n      }\n    },\n    {\n      \"column\": \"daily_steps\",\n      \"properties\": {\n        \"dtype\": \"number\",\n        \"std\": 32449.61992747404,\n        \"min\": 1000.0,\n        \"max\": 100000.0,\n        \"num_unique_values\": 8,\n        \"samples\": [\n          10479.87029,\n          10468.0,\n          100000.0\n        ],\n        \"semantic_type\": \"\",\n        \"description\": \"\"\n      }\n    },\n    {\n      \"column\": \"sleep_hours\",\n      \"properties\": {\n        \"dtype\": \"number\",\n        \"std\": 35353.272701441674,\n        \"min\": 2.02192210013946,\n        \"max\": 100000.0,\n        \"num_unique_values\": 8,\n        \"samples\": [\n          6.491784,\n          6.5,\n          100000.0\n        ],\n        \"semantic_type\": \"\",\n        \"description\": \"\"\n      }\n    },\n    {\n      \"column\": \"water_intake_l\",\n      \"properties\": {\n        \"dtype\": \"number\",\n        \"std\": 35354.43758658853,\n        \"min\": 0.5,\n        \"max\": 100000.0,\n        \"num_unique_values\": 8,\n        \"samples\": [\n          2.7514960000000004,\n          2.8,\n          100000.0\n        ],\n        \"semantic_type\": \"\",\n        \"description\": \"\"\n      }\n    },\n    {\n      \"column\": \"calories_consumed\",\n      \"properties\": {\n        \"dtype\": \"number\",\n        \"std\": 34541.941136350644,\n        \"min\": 807.288563123997,\n        \"max\": 100000.0,\n        \"num_unique_values\": 8,\n        \"samples\": [\n          2603.3412,\n          2603.0,\n          100000.0\n        ],\n        \"semantic_type\": \"\",\n        \"description\": \"\"\n      }\n    },\n    {\n      \"column\": \"smoker\",\n      \"properties\": {\n        \"dtype\": \"number\",\n        \"std\": 35355.258165710475,\n        \"min\": 0.0,\n        \"max\": 100000.0,\n        \"num_unique_values\": 5,\n        \"samples\": [\n          0.20094,\n          1.0,\n          0.40070528078298534\n        ],\n        \"semantic_type\": \"\",\n        \"description\": \"\"\n      }\n    },\n    {\n      \"column\": \"alcohol\",\n      \"properties\": {\n        \"dtype\": \"number\",\n        \"std\": 35355.199747166465,\n        \"min\": 0.0,\n        \"max\": 100000.0,\n        \"num_unique_values\": 5,\n        \"samples\": [\n          0.30002,\n          1.0,\n          0.4582685890405137\n        ],\n        \"semantic_type\": \"\",\n        \"description\": \"\"\n      }\n    },\n    {\n      \"column\": \"resting_hr\",\n      \"properties\": {\n        \"dtype\": \"number\",\n        \"std\": 35332.07034113643,\n        \"min\": 14.423715449886117,\n        \"max\": 100000.0,\n        \"num_unique_values\": 8,\n        \"samples\": [\n          74.45742,\n          74.0,\n          100000.0\n        ],\n        \"semantic_type\": \"\",\n        \"description\": \"\"\n      }\n    },\n    {\n      \"column\": \"systolic_bp\",\n      \"properties\": {\n        \"dtype\": \"number\",\n        \"std\": 35313.26985190329,\n        \"min\": 25.95153046782394,\n        \"max\": 100000.0,\n        \"num_unique_values\": 8,\n        \"samples\": [\n          134.58063,\n          135.0,\n          100000.0\n        ],\n        \"semantic_type\": \"\",\n        \"description\": \"\"\n      }\n    },\n    {\n      \"column\": \"diastolic_bp\",\n      \"properties\": {\n        \"dtype\": \"number\",\n        \"std\": 35327.37860546281,\n        \"min\": 17.347040983284668,\n        \"max\": 100000.0,\n        \"num_unique_values\": 8,\n        \"samples\": [\n          89.50885,\n          89.0,\n          100000.0\n        ],\n        \"semantic_type\": \"\",\n        \"description\": \"\"\n      }\n    },\n    {\n      \"column\": \"cholesterol\",\n      \"properties\": {\n        \"dtype\": \"number\",\n        \"std\": 35285.23727162357,\n        \"min\": 43.327749359293264,\n        \"max\": 100000.0,\n        \"num_unique_values\": 8,\n        \"samples\": [\n          224.30063,\n          224.0,\n          100000.0\n        ],\n        \"semantic_type\": \"\",\n        \"description\": \"\"\n      }\n    },\n    {\n      \"column\": \"family_history\",\n      \"properties\": {\n        \"dtype\": \"number\",\n        \"std\": 35355.19981033354,\n        \"min\": 0.0,\n        \"max\": 100000.0,\n        \"num_unique_values\": 5,\n        \"samples\": [\n          0.29915,\n          1.0,\n          0.4578879492994251\n        ],\n        \"semantic_type\": \"\",\n        \"description\": \"\"\n      }\n    },\n    {\n      \"column\": \"disease_risk\",\n      \"properties\": {\n        \"dtype\": \"number\",\n        \"std\": 35355.25419880299,\n        \"min\": 0.0,\n        \"max\": 100000.0,\n        \"num_unique_values\": 5,\n        \"samples\": [\n          0.24821,\n          1.0,\n          0.4319764599334046\n        ],\n        \"semantic_type\": \"\",\n        \"description\": \"\"\n      }\n    }\n  ]\n}"
            }
          },
          "metadata": {},
          "execution_count": 2
        }
      ]
    },
    {
      "cell_type": "code",
      "execution_count": 4,
      "metadata": {
        "colab": {
          "base_uri": "https://localhost:8080/",
          "height": 654
        },
        "id": "_vwGhldXDLUh",
        "outputId": "7659b094-ffd3-4244-e66c-6ecf726ba4bc"
      },
      "outputs": [
        {
          "data": {
            "image/png": "iVBORw0KGgoAAAANSUhEUgAABAAAAAJ9CAYAAACrcQCmAAAAOnRFWHRTb2Z0d2FyZQBNYXRwbG90bGliIHZlcnNpb24zLjEwLjMsIGh0dHBzOi8vbWF0cGxvdGxpYi5vcmcvZiW1igAAAAlwSFlzAAAPYQAAD2EBqD+naQAAqatJREFUeJzt3QeYVNXZwPEDUqxgQcCC2MXeYu8RxR4j9l6JBruxoNh719gIsRuJSmLBEuw1WLH3hqBBUKOCDRSY7/kfvzO5O+wCC2yZe/+/51mWnZmdnblzyznvec97WpRKpVKQJEmSJEm51rKpX4AkSZIkSWp4BgAkSZIkSSoAAwCSJEmSJBWAAQBJkiRJkgrAAIAkSZIkSQVgAECSJEmSpAIwACBJkiRJUgEYAJAkSZIkqQAMAEiSJEmSVAAGACSpCrRo0SKcdtppjfK3Bg8eHFZZZZUw66yzxr/77bffhqb2xBNPxNfC92TfffcNiy66aCiqG2+8MW6TTz75pEGen/2N558Wt9xyS+jWrVto3bp1mHvuuRvk9eTFVlttFQ466KBQdBy/c845Z1O/jKrEMc+xyTlgeo7XSrvuumvYeeedZ+IrlNScGQCQVGipE5X96tixY9hkk03Cv/71r1Dt3n777dgwnNZO4n//+9/YEJxtttnCVVddFTt2c8wxR4O/TlWvd999N3bmllhiifDXv/419O/fv0H+zpAhQ+K+3BwCUtPr3//+d3jooYfC8ccfX+P2s88+O2y33XahU6dOMxzsO+ecc8Ldd989Xb/7/fffhyOPPDIsvPDCoW3btmHZZZcN11xzTa2Pffjhh8P6668fZp999jDPPPOEHXfccbLzzI8//hjfSzZwp2k3YMCAcNlllzX432F//Oc//xlee+21Bv9bkpqeAQBJCiGcccYZsbN78803h+OOOy58+eWXcaTuvvvuC9UeADj99NOnOQDw4osvhu+++y6ceeaZ4YADDgh77rlnHNVV87PXXnuFn376KXTt2rVJXwedu0mTJoXLL788BgIaaiSRAAD7cjUHAC688MKw6aabhiWXXLLG7X379o3H3qqrrjrDf2N6AwATJ04MPXr0iB1+PkM6nssss0z44x//GJ8zi/PiFltsEcaPHx/OO++8cMwxx4Qnn3wyBgQ4d2YDAHxmBgBmbgCAY55jn3PAzMB+95vf/CZcfPHFM+X5JDVvrZr6BUhSc7DlllvGBlBC55fRuL///e9hm222CUXxxRdfxO8zM437hx9+MItgJkrbc5ZZZolfedxnGlNj7Z9sp/vvvz/069dvsvuGDRsWp7N89dVXYf755w9N4c4774xBluuuuy7sv//+8bZDDjkkjuwTEDzwwANjdlQaMV588cVjRkObNm3ibdtuu21YbbXVYkAgLx3JCRMmxOBWeo/NBVkiTNGamQj6nHrqqeHqq692aoaUc2YASFIt6MyQBt+qVavJOguMdnXp0iWmyDJCdtFFF4VSqRTvZ1SGudB88f/k66+/DgsssEBYd91140hbdg7sxx9/HEfe6IQsuOCCMRshPd+UvPLKKzFw0a5du/g8jCw+99xzNaY37LTTTvH/TGlIUxzqGo3beOONwz777BP/v8Yaa8TH8hqTgQMHhtVXXz1ulw4dOsTsgP/85z81niO9p48++ihmUMw111xhjz32qPM9DB8+PI4wsh153vnmmy++5pk5r52OFUGcZ555Jqy55pqx4UznhWyPrLrm0NY21z49J9uSwBGvfcUVVyxvWzpT/MzfYpvxWdWWOk/nat55542P43kGDRpU699mdJXtRAeM9Oy6XheYurLRRhvFbc++wWfJSGLy9NNPx228yCKLxH2Yffmoo46qsb/WZ9vSaQAd18r0dV7LBhtsEPdtXs/WW28d3nrrrRrP8frrr8f9hs+E7dC5c+fYAWU6SsJzHnvssfH/iy22WHlf5r3XNh86qXw96TMmM2b33XePqeuMWid/+9vfyvs4nwtzoz/99NMaz/nBBx+Enj17xtfJ6+Xz4HFjxoyZ4rai80+Hsnv37rVux2kxtb/Ne+McddNNN5W3UfYYnhL2C/B8Wfw8bty4cM8995TPZWy/3//+9zU6xiuvvHKcMnDbbbfFn/lcUjCDLID0eiqnN3AO2X777eN5g8f/6U9/Kp8jpyQdg0ypSDVLlltuuXjsVSJrhKkN6bxNBsb5558fO/dJ2o84nzPqzpQWHst7TccrnWReI/sH56yTTjppsvfCvkvwmN9dfvnlw/XXX19rPZM77rgjTv3gM+S1c/7+8MMPa5yP2Wc4R6Ztl/aTKe3zlaZln8Zmm20W9x2mdkjKNzMAJCmE2IBm9I2ONyN1V1xxRZwPSyc34T7m6T7++OMxQ4BG54MPPhg7JjT8Lr300tjIovG93nrrxcbhJZdcEn+3d+/e8W/QYMuO2tLQJZV27bXXDhdccEEswEeHio4CgYC60ImiY0UHjykLpOn/5S9/iY1GOotrrbVW2HDDDcPhhx8e/vznP4cTTzwxNs6Rvlfi9dKoZQ43f5uOFo1g8Lr322+/2Jk899xzw+jRo2PKNyOAdG6zo7+8dgIadKxoTDNHuC6kPTPqSKOUhjANW1KQeR80vKf0u/VBw5rONp8bQQ4a5XSMaBjTSJ/e56QT+Yc//CHuJ7xXRkEZ4WV702EH24uOw3vvvRdatmxZ/vzYRxZaaKFwwgknxA4yHQI6QszFpXOVxXPR8TjllFNiI70ufE50QHhPffr0iZ8Lnw/7Fa81BXJIzWZ0l4DLCy+8EPf3zz77LN5XH3SUCKTcdddd8XOjE7fSSivF+5hSw7ZmX6Czxd/kMewXvKbUmaHDQRCM/YuOLduGfZDvBLTo6Oywww7h/fffjxk5HGcEoMA2yaacTysCIEsttVRMbU/BNjpjJ598cvysGO3medkuHEdpH//555/j+yH1/bDDDouvl2OflHg6me3bt6/zb7Kfs72nd8rGtPxttjmvnUBXr1694u+lY3hqeF7OTZWj3ekYHDp0aCxeyOPAua4Sj+VzGzVqVPxs+LzZz9if+QyR9o/stAPOVxw/jzzySMwe4DXze9MSENlll13CwQcfHPe1G264IX627O90aMF+R0CMbcWxSuCLz4Lj4/PPP58sxZ7nIODB9qMTT6eZIBXnW86z3M6+S5Dz3nvvjfsNOCdyHmd/PfTQQ+P7JwDGOWfs2LExAJFFpgTnAwIeXBs4/xMsff7558vnY27nuGSfR31H5qdln04InvCZck6vPP9IypmSJBXYDTfcQOt/sq+2bduWbrzxxhqPvfvuu+N9Z511Vo3bd9xxx1KLFi1KH374Yfm2Pn36lFq2bFl66qmnSgMHDoy/d9lll9X4vX322Sfefthhh5VvmzRpUmnrrbcutWnTpvTll1+Wb+dxp556avnn7bffPj7mo48+Kt82cuTI0lxzzVXacMMNy7elv/3444/Xa3u8+OKL5dt+/vnnUseOHUsrrLBC6aeffirfft9998XHnnLKKZO9pxNOOGGa/t6PP/442W3PPvtsfI6bb765fBuvv/J98Le6du061b/BY/hdPovkiy++iJ/xMcccU76N7VvbZTFtk2HDhk32nEOGDCnf9uCDD8bbZpttttLw4cPLt//lL3+Z7LVvuummpRVXXLE0bty4Gp/9uuuuW1pqqaUm+9vrr79+acKECVN8Xd9++238/Ndaa60an1N67ilt83PPPTfuw9nXXdf2qJQel91fv/vuu9Lcc89dOuigg2o8dtSoUaX27dvXuL221/P3v/99ss/swgsvnOxzAD9zO9ujUuVxk17rbrvtVuNxn3zySWmWWWYpnX322TVuf+ONN0qtWrUq3/7KK6/E3+e4qi8+w9VXX32Kj2EbVr7mZFr/9hxzzBGPjfq6+OKL4/M//fTTNW7nWOb2bbbZJv48ceLE+NmyD2d99dVX8W/z2Jdeemmq7yedK84444wat6+66qpT3U7ZY/Cf//xn+bYxY8aUFlhggfgcyZlnnhlf1/vvvz/Z++IzHzFiRI39qF27dvH8kMU5lWMre3xUHlcHHHBA/Ntsh6xdd9017vNpP0/nsmWXXbY0fvz48uMuv/zyeDv7XMK1oLZzXG37fOXxOq37dNbSSy9d2nLLLSe7XVK+OAVAkkKIFe8ZieSLlElS5hkxyaaTPvDAA3GEjFH1LKYE0NfIrhpAmiujsIxKMXrLCFTl7yWMFiVp9IjRPkbDasOoGWmvjBaTNp0wxYBRXlLdGXGaWV566aWYFcH7yM47JZ2bqQ6kqVaaltG7ylHEX375JaZ9k57LyNTLL788k97Br6NbjOAljM6R7cDI84w85zrrrFP+mVFM/Pa3v42jjJW3p79FCvVjjz0WR+UouEjmCV+8d0ZDGdWsnFrByOvU5vuz7/J8ZBRUzg/OTm3IbnOyCfjbTE1hH65tqsL04LUwKr3bbruV3x9fvAe2B1k0tb0eRl55HCOpmJn7QBYjxlkc56SD85lkXy+j7GQKpNebRvjJ/GFkuT74fJlyML1m5G9PC84d/A0ySPj8yMYhE4M54UhTRBi1ZiT90UcfjaPo7K9kB7DtOG9lHzs9nwXH6bQel0yZyo5WkxG19957x/2YLASQ1cJzsu2zny1TMTiXPvXUUzWekykW2ToMjJrzGLZL9rjOHlccO2TukAHE/7N/h2OakfzKfZmMl2y2RTo/zcg5aXr26ay0jSTlm1MAJCmEmDKbLQJIx4XKyHTGmWdKQ425mDQ4mcuclVLquT/h8aSZkzJPZ4y00trml9OYznbisfTSS8fvdc2Dp0FKB4AObCVeC40+5nhOb2p7pfS+avt7BAAIOGRRNyHNU58aOgqkyLN96PRmax9MbU51fVQ23FNj95tvvplpz5k6aMwzru329LeYOsD7JDWXr9oQcGF6QMJ0jKkhJRkrrLDCFB83YsSIOJWAegOV739mbXM6hSkYUhs6agkBEeaIM3c8FRSc2a+nUuX25PXymdAxqk1aCYPfO/roo+PUnltvvTV22pgWxBSQKaX/J9NS22NKr3l6/zYdc7ZzbUgr54uOIfsEleU333zz8udEyjiBzGz6OVOE6CiStk4qO/gd0t2ZAjOtqeqcGyuLHtbnuCRYWHlezZ4/eU98tqTw11VcsXKfq9w3Uod8SscV52QCXgRM6loGs/LvVJ4/UnBoRs5J07NPZ/H42q5TkvLFAIAk1YKOOVkAzHOnITU9nWlG6tKoJs8xLZ24PGDebJrrPjXMZabzz/xYRtPpyNAApSZAtkDXjKpr9DzbIaur4VtXQbK6nnNqfyu9L+b+MjpYm8pl4mqbbz09eC/MjaYzSCV3AjjUHyD4Qk2EmbXN0/MwJ51OWKVscU1GKJmTTS0N6mrQeeT3qY0xLa+nvp9bbduTv8PzkMVT2+eX7dAyR51tRVE8MnHI7CGIRb2CKQW+mP8/o5276f3bbF/OZ7Wh5kgqzMfccDq8b7zxRswOobDfyJEja3SsU4Dz2muvjXPMqc1A0TvuJ4uAY79y/61LY6xiwWfLPk+tlNpk39f0HmtpPyUYkwqpVsrWPpjWc9KMqM8+nbB/1hUwkJQfBgAkqQ4UswPFAEHxLtLySbPOZgFQHTrdnzDixCgZaZ6vvvpqnE5Ao7pypI5GGg3ubCOUBvWUKoMzkkWxLYrKVeK10ABPo9AzYzQnvS/+XuWILrfNyDr0//jHP2KDObtsGAGTpljrPY3A8bezxbGymR0zQ8r4YASutorw0ysVe3vzzTfr7ICxD7J/UaiSVOlkZlf+Tq+FVQum9B7pcJBKTgYAWQmVGQRZde3L2c8tqz6fG6+XjhdBusoOYW1Y4YGvvn37xs41BR0Z+T7rrLPq/B2CLaSJz6ip/e3athMd+bo+48oMJDqLBGKSNBWpts+Rjj9fKeBChXumeKTOZUOPJqdsmuzfqTx/8tlyDp/eYy1tH46runBO5prANpiZx/SMbL/67tNc78gcI6tEUr5ZA0CSasF8dEbYGOlKKf4sa0cD78orr6zxWCo001BjSb70u4zSMV2ADAIqs1MhmqXWapN9Phps/EznkGWhakMDnXRbRgGz0wT4Gyz3RpX1lGKd1jefkQ41UyPoyNHJSBXAwcjSO++8E2sBTC/eS+WIFynH07IM2MyWOq3ZOcFpSbWZiW3JKges2kAV8krTU9Ue7BN0QhgRJoiSlbZxGgnMbnP+z346M5HZwD5IlX2Oh7reY22vB5WV2ae0L/N3WBWgci53mrs+LahQz2shEFH5Wvg5LUlIbY0UGEzojBN0yx4btSHDhYDH9M7xnta/zXaq3EYESeiY1vZVGQCo/JxYwYHR66l1bKniz/5MTZTKFQQaKqBHdgIrUGS3EatSEMBImSdkmDz77LPljKwsXlflNq2tc09mBFO6mD5T13FF7QACPLUFCqb3mOaznN5pMNO6TyesusJ5g3ogkvLNDABJ+v/ObBrJZ64mHWlGISmoljrTFHgijZblmeh4M6pGkICOOCnsqQPJSByj/oxs0iGj8czoJiN2LEVHICE7B5YlqxgFZ+SM10FRPZaRq2vOavobjOjR2ac4HynVdCjpCDAvN6EhTCOQRjwNSdLzGcWnEzqtCEbw+2QzUMyQ+ghpGUBG2eoKbEwL6iuQJk5mBEX1aKgz4ki6dGOjA828XOYxk47OdqPRz+dQ2fCfGUUn+ezowFHgj04Y25T3z7Jfr732Wr2fk/2UYBTZJtSeSOvc81zUjCCQwSg0+ynTD0j753fotMysecfZ18IScMwnX2211eKUjrQd2b8ZtSbQxePoXLHPEiig7gHH1LBhwyZ7TpZsBMcfz8d+yTFJJ4n3zFx0vhOwIhiQRoKnBduEY4qidhzbFNjk2OV10MFk6Te2GcUbqQvCUnOMqtJ5ZP9NHcApIVDGccr+nZboS3gOMhZScT9efxrRZxuSZTOtf5vtxN+gVgBBSEaAUyHKqeH4JlBBBglF9JjPzug5Sw1mp/VQKJX9hs+O0X7+HstYsv2zr4V0eo7r22+/Pb5mltRjLv3U6lRMK56T45XlRMlE4HjlOGJaUcKxTG0DzjVp6U8Ce2TDkIHE552WlawLS6lyvLIv89mxTfk99mXO9WD/o7Ae25pjmvfNVBuK/7F96qrBMCW8VrYdtR84ptnW7PMzc59OuJ4QsEnLJ0rKsaZehkCSmtsygLPOOmtplVVWKV1zzTU1lnlKy5sdddRRpQUXXLDUunXruGQby5Olxw0dOjQusZRd2g8s4bbGGmvE3/vmm2/Ky2CxPBVL+W2++eal2WefvdSpU6e4nBNLbWXVtpTWyy+/XOrRo0dpzjnnjL+7ySab1FiWLvnrX/9aWnzxxeOSUFNbErC2ZQCT22+/PS6vxfJ58847b2mPPfYoffbZZzUek97TtGJb7LfffqUOHTrE98H7effdd+PSV9mlzGZ0GUCW06q00UYbxa8sPj+W0WOJxUUWWaR0ySWX1LkMYG3PyeN69+5d65Jd7CdZfO577713qXPnznFfWmihheJSa//4xz+m6fOo7XVh0KBBcTlBliNkSbM111wzLquXvP3226Xu3bvH7c12Z0m+1157barLitVnGcCEz4vPlGXQOK6WWGKJ0r777lteJg7sQ7///e/j0nI8bqeddopLWta2z7OkG9uJJTaz750l1liGjd9nubadd945LuVW1zKAtb1WsKQcy/WxD/PVrVu3+Hm+99578f6PP/64tP/++8f3wfvhOOC4e+SRR0rTYrvttpts+TywH9a2HGl2n5/Wv83xw7J1fP78fn2WBOTcxrmCY3z++ecv7b777jWWGk2ef/75+DfmmWee+FpWXnnlUr9+/SY7X4JzEsv6cUxlP4+6zhXTut+lY5DlN1daaaX4mvm8alsmkfM2S7MuueSS8XWw33OMXHTRRXGZ0ykdp8mbb75Z3k95z8sss0zp5JNPrvGY0aNHx/2lS5cu8Zjm2Obz7t+//2TnssrXWdvSft9//338DPib3JfOd9OyDOC07tMJ570999xzqttdUvVrwT9NHYSQpCJiNIoRqFRjQFK+Pf3003H6B9lGFlubMWQfkUlAdoJmDFkMZDeQrZCt/yApn6wBIEmS1AhYuo+pJtlpOlJTY/oC09Ps/EvFYA0ASZKkRkKdD6k5ue2225r6JUhqRGYASJIkSZJUANYAkCRJkiSpAMwAkCRJkiSpAAwASJIkSZJUABYBnEkmTZoURo4cGeaaa67QokWLpn45kiRJkqScK5VK4bvvvgsLLrhgaNly6uP7BgBmEjr/Xbp0aeqXIUmSJEkqmE8//TQsvPDCU32cAYCZhJH/tOHbtWvX1C9HkiRJkpRzY8eOjQPRqT86NQYAZpKU9k/n3wCAJEmSJKmxTOs0dIsASpIkSZJUAAYAJEmSJEkqAAMAkiRJkiQVgAEASZIkSZIKwACAJEmSJEkFYABAkiRJkqQCMAAgSZIkSVIBGACQJEmSJKkADABIkiRJklQABgAkSZIkSSoAAwCSJEmSJBWAAQBJkiRJkgrAAIAkSZIkSQVgAECSJEmSpAJo0gDAueeeG9ZYY40w11xzhY4dO4btt98+vPfeezUeM27cuNC7d+8w33zzhTnnnDP07NkzjB49usZjRowYEbbeeusw++yzx+c59thjw4QJE2o85oknngirrbZaaNu2bVhyySXDjTfeONnrueqqq8Kiiy4aZp111rDWWmuFF154oYHeuSRJkiRJBQoAPPnkk7Fz/9xzz4WHH344/PLLL2HzzTcPP/zwQ/kxRx11VLj33nvDwIED4+NHjhwZdthhh/L9EydOjJ3/n3/+OQwZMiTcdNNNsXN/yimnlB8zbNiw+JhNNtkkvPrqq+HII48MBx54YHjwwQfLj7n99tvD0UcfHU499dTw8ssvh5VXXjn06NEjfPHFF424RSRJkiRJahgtSqVSKTQTX375ZRzBp6O/4YYbhjFjxoT5558/DBgwIOy4447xMe+++25Ydtllw7PPPhvWXnvt8K9//Stss802MTDQqVOn+Jh+/fqF448/Pj5fmzZt4v/vv//+8Oabb5b/1q677hq+/fbbMHjw4PgzI/5kI1x55ZXx50mTJoUuXbqEww47LJxwwglTfe1jx44N7du3j6+5Xbt2DbSFJEmSJEmavn5oq9CM8KIx77zzxu9Dhw6NWQHdu3cvP6Zbt25hkUUWKQcA+L7iiiuWO/9g5P6QQw4Jb731Vlh11VXjY7LPkR5DJgDIHuBv9enTp3x/y5Yt4+/wu7UZP358/MpueKkhMR2G6S6NiWONKTGSJEmSql+zCQAw4k6HfL311gsrrLBCvG3UqFFxBH/uueeu8Vg6+9yXHpPt/Kf7031Tegyd9p9++il88803cSpBbY8h46Cu+gWnn376DL9vaVrR+e/Vq1ej/s3+/fuHpZdeulH/piRJkqScBwCoBUCK/jPPPBOqAdkC1AxICCYwZUBqyNF4OuT1MXz48HD22WeHk046KXTt2nW6/qYkSZKkfGgWAYBDDz003HfffeGpp54KCy+8cPn2zp07x/R85upnswBYBYD70mMqq/WnVQKyj6lcOYCfmSMx22yzhVlmmSV+1faY9ByVWE2AL6mxkIo/vaPxdP4dyZckSZKKrUlXAaD+IJ3/u+66Kzz22GNhscUWq3H/6quvHlq3bh0effTR8m0sE0gq9DrrrBN/5vsbb7xRo1o/KwrQuV9uueXKj8k+R3pMeg6mGfC3so9hSgI/p8dIkiRJklTNWjV12j8V/u+5554w11xzlefsU8WQkXm+H3DAATHVnsKAdOqpyk+nnAKAYNlAOvp77bVXuOCCC+Jz9O3bNz53GqE/+OCDY3X/4447Luy///4x2HDHHXfElQES/sY+++wTfvOb34Q111wzXHbZZXE5wv3226+Jto4kSZIkSTkJAFxzzTXx+8Ybb1zj9htuuCHsu+++8f+XXnpprMjfs2fPWHWf6v1XX311+bGk7jN9gKr/BAbmmGOO2JE/44wzyo8hs4DO/lFHHRUuv/zyOM3g2muvjc+V7LLLLnHZwFNOOSUGEVZZZZW4RGBlYUBJkiRJkqpRixJ5+Gr09RelxvD+++/HlQOs5i9JkiTlT337oU1aA0CSJEmSJDUOAwCSJEmSJBWAAQBJkiRJkgrAAIAkSZIkSQVgAECSJEmSpAIwACBJkiRJUgEYAJAkSZIkqQAMAEiSJEmSVAAGACRJkiRJKgADAJIkSZIkFYABAEmSJEmSCsAAgCRJkiRJBWAAQJIkSZKkAjAAIEmSJElSARgAkCRJkiSpAAwASJIkSZJUAAYAJEmSJEkqAAMAkiRJkiQVgAEASZIkSZIKwACAJEmSJEkFYABAkiRJkqQCMAAgSZIkSVIBGACQJEmSJKkADABIkiRJklQABgAkSZIkSSoAAwCSJEmSJBWAAQBJkiRJkgrAAIAkSZIkSQVgAECSJEmSpAIwACBJkiRJUgEYAJAkSZIkqQAMAEiSJEmSVAAGACRJkiRJKgADAJIkSZIkFYABAEmSJEmSCsAAgCRJkiRJBWAAQJIkSZKkAjAAIEmSJElSARgAkCRJkiSpAAwASJIkSZJUAAYAJEmSJEkqgCYNADz11FNh2223DQsuuGBo0aJFuPvuu2vcz221fV144YXlxyy66KKT3X/eeefVeJ7XX389bLDBBmHWWWcNXbp0CRdccMFkr2XgwIGhW7du8TErrrhieOCBBxrwnUuSJEmSVKAAwA8//BBWXnnlcNVVV9V6/+eff17j6/rrr48d/J49e9Z43BlnnFHjcYcddlj5vrFjx4bNN988dO3aNQwdOjQGD0477bTQv3//8mOGDBkSdtttt3DAAQeEV155JWy//fbx680332zAdy9JkiRJUuNpFZrQlltuGb/q0rlz5xo/33PPPWGTTTYJiy++eI3b55prrskem9x6663h559/jsGDNm3ahOWXXz68+uqr4ZJLLgm9evWKj7n88svDFltsEY499tj485lnnhkefvjhcOWVV4Z+/frNhHcqSZIkSVLTqpoaAKNHjw73339/HKWvRMr/fPPNF1ZdddU4wj9hwoTyfc8++2zYcMMNY+c/6dGjR3jvvffCN998U35M9+7dazwnj+F2SZIkSZLyoEkzAOrjpptuiiP9O+ywQ43bDz/88LDaaquFeeedN6by9+nTJ04DYIQfo0aNCosttliN3+nUqVP5vnnmmSd+T7dlH8PtdRk/fnz8yk41kCRJkiSpuaqaAAAp/HvssUcs0pd19NFHl/+/0korxZH+P/zhD+Hcc88Nbdu2bbDXw/OffvrpDfb8kiRJkiQVbgrA008/HVP2DzzwwKk+dq211opTAD755JP4M7UBmD6QlX5OdQPqekxddQVApsGYMWPKX59++ul0vTdJkiRJkhpDVQQArrvuurD66qvHFQOmhgJ/LVu2DB07dow/r7POOnG5wV9++aX8GAr8LbPMMjH9Pz3m0UcfrfE8PIbb60J2Qbt27Wp8SZIkSZLUXDVpAOD777+PHXa+MGzYsPj/ESNG1JhbP3DgwFpH/ynSd9lll4XXXnstfPzxx7Hi/1FHHRX23HPPcud+9913j9MCKB741ltvhdtvvz1W/c9OHTjiiCPC4MGDw8UXXxzefffduEzgSy+9FA499NBG2Q6SJEmSJOW6BgCdbJb1S1KnfJ999gk33nhj/P9tt90WSqVS2G233Wodhed+OuwU5KPYHwGAbOe+ffv24aGHHgq9e/eOWQQdOnQIp5xySnkJQKy77rphwIABoW/fvuHEE08MSy21VLj77rvDCius0MBbQJIkSZKkxtGiRO9aM4xMBYIN1ANwOoCai/fffz8Gu/r37x+WXnrppn45kiRJkpqwH1oVNQAkSZIkSdKMMQAgSZIkSVIBGACQJEmSJKkADABIkiRJklQABgAkSZIkSSoAAwCSJEmSJBWAAQBJkiRJkgrAAIAkSZIkSQVgAECSJEmSpAIwACBJkiRJUgEYAJAkSZIkqQAMAEiSJEmSVAAGACRJkiRJKgADAJIkSZIkFYABAEmSJEmSCsAAgCRJkiRJBWAAQJIkSZKkAjAAIEmSJElSARgAkCRJkiSpAAwASJIkSZJUAAYAJEmSJEkqAAMAkiRJkiQVgAEASZIkSZIKwACAJEmSJEkFYABAkiRJkqQCMAAgSZIkSVIBGACQJEmSJKkADABIkiRJklQABgAkSZIkSSoAAwCSJEmSJBWAAQBJkiRJkgrAAIAkSZIkSQVgAECSJEmSpAIwACBJkiRJUgEYAJAkSZIkqQAMAEiSJEmSVAAGACRJkiRJKgADAJIkSZIkFYABAEmSJEmSCsAAgCRJkiRJBdCqqV+AVFSjR48OY8aMadC/MXz48BrfG1r79u1Dp06dGuVvSZIkSaqfFqVSqVTP31Etxo4dGzs/dOjatWvX1C9HVdD533OvvcMvP48PedK6Tdvwt1tuNgggSZIkNcN+aJNmADz11FPhwgsvDEOHDg2ff/55uOuuu8L2229fvn/fffcNN910U43f6dGjRxg8eHD556+//jocdthh4d577w0tW7YMPXv2DJdffnmYc845y495/fXXQ+/evcOLL74Y5p9//vj44447rsbzDhw4MJx88snhk08+CUsttVQ4//zzw1ZbbdWg71/FxQFK5/+nxTcKk2ZtH/Kg5bgxIXz8ZHxvBgAkSZKk5qdJAwA//PBDWHnllcP+++8fdthhh1ofs8UWW4Qbbrih/HPbtm1r3L/HHnvE4MHDDz8cfvnll7DffvuFXr16hQEDBpQjIptvvnno3r176NevX3jjjTfi35t77rnj4zBkyJCw2267hXPPPTdss8028XcJRLz88sthhRVWaNBtoGKj8z9pjg5N/TIkSZIkFUCTBgC23HLL+DUldPg7d+5c633vvPNOzAZgZP83v/lNvO2KK66II/cXXXRRWHDBBcOtt94afv7553D99deHNm3ahOWXXz68+uqr4ZJLLikHAMgYINBw7LHHxp/PPPPMGFC48sorY9BAkiRJkqRq1+xXAXjiiSdCx44dwzLLLBMOOeSQ8N///rd837PPPhtH8lPnH4z0MxXg+eefLz9mww03jJ3/7DSC9957L3zzzTflx/B7WTyG2+syfvz4mF2Q/ZIkSZIkqblq1gEARuVvvvnm8Oijj8Y5+U8++WTMGJg4cWK8f9SoUTE4kNWqVasw77zzxvvSYyrnI6efp/aYdH9tmC5AsYX01aVLl5n0riVJkiRJKtgygLvuumv5/yuuuGJYaaWVwhJLLBGzAjbddNMmfW19+vQJRx99dPlnMgAMAkiSJEmSmqtmnQFQafHFFw8dOnQIH374YfyZ2gBffPFFjcdMmDAhrgyQ6gbwnSXXstLPU3tMXbUHUm0CllnIfkmSJEmS1FxVVQDgs88+izUAFlhggfjzOuusE7799tu4jGDy2GOPhUmTJoW11lqr/BiWG2SFgIQCf9QUmGeeecqPYZpBFo/hdkmSJEmS8qBJAwDff/99rMjPF4YNGxb/P2LEiHgfVfmfe+658Mknn8QO+u9+97uw5JJLxgJ9WHbZZWOdgIMOOii88MIL4d///nc49NBD49QBVgDA7rvvHgsAHnDAAeGtt94Kt99+e6z6n03fP+KII+JqAhdffHF49913w2mnnRZeeuml+FySJEmSJOVBkwYA6GSvuuqq8Qt0yvn/KaecEmaZZZbw+uuvh+222y4svfTSsQO/+uqrh6effjqm3ycs89etW7dYE4Dl/9Zff/3Qv3//8v0U6HvooYdicIHfP+aYY+LzpyUAse6664YBAwbE31t55ZXDP/7xj3D33XeHFVZYoZG3iCRJkiRJDaNFqVQqNdBzFwpFAAk2jBkzxnoAmqr3338/BqF+WG67MGmODiEPWv7wVZjj7UExkEbQTpIkSVLz6odWVQ0ASZIkSZI0fQwASJIkSZJUAAYAJEmSJEkqAAMAkiRJkiQVgAEASZIkSZIKwACAJEmSJEkFYABAkiRJkqQCMAAgSZIkSVIBGACQJEmSJKkADABIkiRJklQABgAkSZIkSSoAAwCSJEmSJBWAAQBJkiRJkgrAAIAkSZIkSQVgAECSJEmSpAIwACBJkiRJUgEYAJAkSZIkqQAMAEiSJEmSVAAGACRJkiRJKgADAJIkSZIkFYABAEmSJEmSCsAAgCRJkiRJBWAAQJIkSZKkAjAAIEmSJElSARgAkCRJkiSpAAwASJIkSZJUAAYAJEmSJEkqAAMAkiRJkiQVgAEASZIkSZIKwACAJEmSJEkFYABAkiRJkqQCMAAgSZIkSVIBGACQJEmSJKkADABIkiRJklQABgAkSZIkSSoAAwCSJEmSJBWAAQBJkiRJkgrAAIAkSZIkSQVgAECSJEmSpAIwACBJkiRJUgEYAJAkSZIkqQCaNADw1FNPhW233TYsuOCCoUWLFuHuu+8u3/fLL7+E448/Pqy44ophjjnmiI/Ze++9w8iRI2s8x6KLLhp/N/t13nnn1XjM66+/HjbYYIMw66yzhi5duoQLLrhgstcycODA0K1bt/gY/uYDDzzQgO9ckiRJkqQCBQB++OGHsPLKK4errrpqsvt+/PHH8PLLL4eTTz45fr/zzjvDe++9F7bbbrvJHnvGGWeEzz//vPx12GGHle8bO3Zs2HzzzUPXrl3D0KFDw4UXXhhOO+200L9///JjhgwZEnbbbbdwwAEHhFdeeSVsv/328evNN99swHcvSZIkSVLjaRWa0JZbbhm/atO+ffvw8MMP17jtyiuvDGuuuWYYMWJEWGSRRcq3zzXXXKFz5861Ps+tt94afv7553D99deHNm3ahOWXXz68+uqr4ZJLLgm9evWKj7n88svDFltsEY499tj485lnnhn/Nn+vX79+M/EdS5IkSZLUNKqqBsCYMWNiiv/cc89d43ZS/uebb76w6qqrxhH+CRMmlO979tlnw4Ybbhg7/0mPHj1iNsE333xTfkz37t1rPCeP4XZJkiRJkvKgSTMA6mPcuHGxJgCp+u3atSvffvjhh4fVVlstzDvvvDGVv0+fPnEaACP8GDVqVFhsscVqPFenTp3K980zzzzxe7ot+xhur8v48ePjV3aqgSRJkiRJzVVVBAAoCLjzzjuHUqkUrrnmmhr3HX300eX/r7TSSnGk/w9/+EM499xzQ9u2bRvsNfH8p59+eoM9vyRJkiRJhZoCkDr/w4cPj/Pys6P/tVlrrbXiFIBPPvkk/kxtgNGjR9d4TPo51Q2o6zF11RUAmQZMSUhfn3766XS/R0mSJEmSCh0ASJ3/Dz74IDzyyCNxnv/UUOCvZcuWoWPHjvHnddZZJy43yHMlBBKWWWaZmP6fHvPoo4/WeB4ew+11IbuAYET2S5IkSZKk5qpJpwB8//334cMPPyz/PGzYsNiBZz7/AgssEHbccce4BOB9990XJk6cWJ6Tz/2k+lOk7/nnnw+bbLJJXAmAn4866qiw5557ljv3u+++e0zVZ4k/agiwtB9V/y+99NLy3z3iiCPCRhttFC6++OKw9dZbh9tuuy289NJLNZYKlCRJkiSpmjVpAIBONp33yvn8++yzTzjttNPCoEGD4s+rrLJKjd97/PHHw8YbbxxH4ems81gK8lHsjwBAti4Aywk+9NBDoXfv3mH11VcPHTp0CKecckp5CUCsu+66YcCAAaFv377hxBNPDEsttVS4++67wworrNAIW0GSJEmSpJwHAOjEU9ivLlO6D1T/f+6556b6dygO+PTTT0/xMTvttFP8kiRJkiQpj5p1DQBJkiRJkjRzGACQJEmSJKkADABIkiRJklQABgAkSZIkSSoAAwCSJEmSJBWAAQBJkiRJkgrAAIAkSZIkSQVgAECSJEmSpAIwACBJkiRJUgEYAJAkSZIkqQAMAEiSJEmSVAAGACRJkiRJKgADAJIkSZIkFYABAEmSJEmSCsAAgCRJkiRJBWAAQJIkSZKkAjAAIEmSJElSARgAkCRJkiSpAAwASJIkSZJUAAYAJEmSJEkqAAMAkiRJkiQVgAEASZIkSZIKwACAJEmSJEkFYABAkiRJkqQCMAAgSZIkSVIBGACQJEmSJKkADABIkiRJklQABgAkSZIkSSoAAwCSJEmSJBXAdAUAJkyYEB555JHwl7/8JXz33XfxtpEjR4bvv/9+Zr8+SZIkSZI0E7Sq7y8MHz48bLHFFmHEiBFh/PjxYbPNNgtzzTVXOP/88+PP/fr1mxmvS5IkSZIkNWUGwBFHHBF+85vfhG+++SbMNtts5dt///vfh0cffXRmvjZJkiRJktRUGQBPP/10GDJkSGjTpk2N2xdddNHwn//8Z2a9LkmSJEmS1JQZAJMmTQoTJ06c7PbPPvssTgWQJEmSJEk5CABsvvnm4bLLLiv/3KJFi1j879RTTw1bbbXVzH59kiRJkiSpKaYAXHzxxaFHjx5hueWWC+PGjQu77757+OCDD0KHDh3C3//+95nxmqTCaPnTtyEv8vReJEmSpDyqdwBg4YUXDq+99lq47bbbwuuvvx5H/w844ICwxx571CgKKGnqZhv2VFO/BEmSJEkF0Wq6fqlVq7DnnnvO/FcjFcxPi20YJs02d8hLBoABDUmSJClHAYCbb755ivfvvffeM/J6pEKh8z9pjg5N/TIkSZIkFUC9AwBHHHFEjZ9/+eWX8OOPP8ZlAWeffXYDAJIkSZIk5WEVgG+++abGFzUA3nvvvbD++utbBFCSJEmSpLwEAGqz1FJLhfPOO2+y7ABJkiRJkpSjAEAqDDhy5Mh6/c5TTz0Vtt1227DggguGFi1ahLvvvrvG/aVSKZxyyilhgQUWiCsMdO/ePS45mPX111/HFQjatWsX5p577rgiAVkJWaxWsMEGG4RZZ501dOnSJVxwwQWTvZaBAweGbt26xcesuOKK4YEHHqjXe5EkSZIkKVc1AAYNGjRZJ/3zzz8PV155ZVhvvfXq9Vw//PBDWHnllcP+++8fdthhh8nup6P+5z//Odx0001hscUWCyeffHLo0aNHePvtt2NHHXT++fsPP/xwrEew3377hV69eoUBAwbE+8eOHRs233zzGDzo169feOONN+LfI1jA4zBkyJCw2267hXPPPTdss8028Xe333778PLLL4cVVlihvptIkiRJkqRmp0WJHnw9tGxZM2mAkfv5558//Pa3vw0XX3xxHK2frhfSokW46667YscbvCwyA4455pjwpz/9Kd42ZsyY0KlTp3DjjTeGXXfdNbzzzjthueWWCy+++GL4zW9+Ex8zePDgsNVWW4XPPvss/v4111wTTjrppDBq1KhYqBAnnHBCzDZ4991348+77LJLDEbcd9995dez9tprh1VWWSUGDaYFgYb27dvH10g2gjQl77//fgxA/bDcdrlZBaDlD1+FOd4eFPr37x+WXnrppn45kiRJUu6NrWc/tN5TACZNmlTja+LEibFzzaj59Hb+azNs2LD4vIzcJ7yxtdZaKzz77LPxZ74zkp86/+DxBCmef/758mM23HDDcucfZBFQuJAihukx2b+THpP+Tm3Gjx8fN3b2S5IkSZKk3NcAmNno/IMR/yx+TvfxvWPHjpPVIph33nlrPKa258j+jboek+6vDdMFCEikL2oLSJIkSZJU1TUAjj766Gl+wksuuSQUQZ8+fWpsFzIADAJIkiRJkqo6APDKK69M8zz+maVz587x++jRo2tMLeBn5uanx3zxxRc1fm/ChAlxZYD0+3znd7LSz1N7TLq/Nm3bto1fkiRJkiTlJgDw+OOPh8ZG1X864I8++mi5w88oO3P7DznkkPjzOuusE7799tswdOjQsPrqq8fbHnvssVibgFoB6TEUAWSFgNatW8fbWDFgmWWWCfPMM0/5MfydI488svz3eQy3S5IkSZKUB01aA+D7778Pr776avxKhf/4/4gRI2I2AR3ys846Ky49yPJ9e++9d6zsn1YKWHbZZcMWW2wRDjrooPDCCy+Ef//73+HQQw+NKwTwOOy+++6xAOABBxwQ3nrrrXD77beHyy+/vEb6/hFHHBFXD2AVA1YGOO2008JLL70Un0uSJEmSpMJkAFSic3zHHXfEjvrPP/9c474777yzXs+zySablH9OnfJ99tknLvV33HHHxeX5WC6Nkf71118/dtRnnXXW8u/ceuutsaO+6aabxur/PXv2DH/+85/L91Og76GHHgq9e/eOWQIdOnQIp5xySnzOZN11142rGPTt2zeceOKJYamllorLBK6wwgrTs3kkSZIkSWp2WpRKpVJ9fuG2226LI/Esk0fHevPNN49rmjNn/ve//3244YYbQhHVd/1FFRvHDEGoH5bbLkyao0PIg5Y/fBXmeHtQ6N+/f1h66aWb+uVIkiRJuTe2nv3Qek8BOOecc8Kll14a7r333phaTzo9afM777xzWGSRRab3dUuSJEmSpAZU7wDARx99FLbeeuv4fwIApOgzX/+oo46KI3+SJEmSJCkHAQAq53/33Xfx/wsttFB488034/+Zo//jjz/O/FcoSZIkSZIaLwCQOvobbrhhXCIPO+20U6ygTxX+3XbbLRbikyRJkiRJVbwKwEorrRTWWGONuAQfHX+cdNJJoXXr1mHIkCGx+j5V9CVJkiRJUhUHAJ588slY4f/cc88NZ599duzwH3jggeGEE05o2FcoSZIkSZIabwrABhtsEK6//vrw+eefhyuuuCJ88sknYaONNorLfZ1//vlh1KhRM/5qJEmSJElS8ygCOMccc4T99tsvZgSwljnTAa666qq4BOB2223XMK9SkiRJkiQ1bgAga8kllwwnnnhinPs/11xzhfvvv3/GXo0kSZIkSWraGgCVnnrqqTgl4J///Gdo2bJl2HnnncMBBxwwc1+dJEmSJElq/ADAyJEjw4033hi/Pvzww7DuuuuGP//5z7Hzz9QASZIkSZJU5QGALbfcMjzyyCOhQ4cOYe+99w77779/WGaZZRr21UmSJEmSpMYNALRu3Tr84x//CNtss02YZZZZZs5flyRJkiRJzSsAMGjQoIZ9JZIkSZIkqXmuAiBJkiRJkqqDAQBJkiRJkgrAAIAkSZIkSQVgAECSJEmSpAIwACBJkiRJUgEYAJAkSZIkqQAMAEiSJEmSVAAGACRJkiRJKgADAJIkSZIkFYABAEmSJEmSCsAAgCRJkiRJBWAAQJIkSZKkAjAAIEmSJElSARgAkCRJkiSpAAwASJIkSZJUAAYAJEmSJEkqAAMAkiRJkiQVgAEASZIkSZIKwACAJEmSJEkFYABAkiRJkqQCMAAgSZIkSVIBGACQJEmSJKkADABIkiRJklQABgAkSZIkSSoAAwCSJEmSJBWAAQBJkiRJkgrAAIAkSZIkSQXQ7AMAiy66aGjRosVkX7179473b7zxxpPdd/DBB9d4jhEjRoStt946zD777KFjx47h2GOPDRMmTKjxmCeeeCKsttpqoW3btmHJJZcMN954Y6O+T0mSJEmSGlKr0My9+OKLYeLEieWf33zzzbDZZpuFnXbaqXzbQQcdFM4444zyz3T0E36Xzn/nzp3DkCFDwueffx723nvv0Lp163DOOefExwwbNiw+hsDBrbfeGh599NFw4IEHhgUWWCD06NGj0d6rJEmSJEmFDQDMP//8NX4+77zzwhJLLBE22mijGh1+Ovi1eeihh8Lbb78dHnnkkdCpU6ewyiqrhDPPPDMcf/zx4bTTTgtt2rQJ/fr1C4sttli4+OKL4+8su+yy4ZlnngmXXnqpAQBJkiRJUi40+ykAWT///HP429/+Fvbff/+Y6p8wat+hQ4ewwgorhD59+oQff/yxfN+zzz4bVlxxxdj5T+jUjx07Nrz11lvlx3Tv3r3G3+Ix3C5JkiRJUh40+wyArLvvvjt8++23Yd999y3ftvvuu4euXbuGBRdcMLz++utxZP+9994Ld955Z7x/1KhRNTr/SD9z35QeQ5Dgp59+CrPNNttkr2X8+PHxK+GxkiRJkiQ1V1UVALjuuuvClltuGTv7Sa9evcr/Z6Sfefubbrpp+Oijj+JUgYZy7rnnhtNPP73Bnl+SJEmSpEJOARg+fHicx09xvilZa6214vcPP/wwfqc2wOjRo2s8Jv2c6gbU9Zh27drVOvoPphqMGTOm/PXpp5/OwLuTJEmSJKlhVU0A4IYbbohL+FGtf0peffXV+J1MAKyzzjrhjTfeCF988UX5MQ8//HDs3C+33HLlx1D5P4vHcHtdWC6Q58h+SZIkSZLUXFVFAGDSpEkxALDPPvuEVq3+N2uBNH8q+g8dOjR88sknYdCgQXGJvw033DCstNJK8TGbb7557Ojvtdde4bXXXgsPPvhg6Nu3b+jdu3fsxIPl/z7++ONw3HHHhXfffTdcffXV4Y477ghHHXVUk71nSZIkSZIKFwAg9X/EiBGx+n8WS/hxH538bt26hWOOOSb07Nkz3HvvveXHzDLLLOG+++6L3xnR33PPPWOQ4Iwzzig/hiUA77///jjqv/LKK8flAK+99lqXAJQkSZIk5UZVFAGkg18qlSa7vUuXLuHJJ5+c6u+zSsADDzwwxcdsvPHG4ZVXXpmh1ylJkiRJUnNVFRkAkiRJkiRpxhgAkCRJkiSpAAwASJIkSZJUAAYAJEmSJEkqAAMAkiRJkiQVgAEASZIkSZIKwACAJEmSJEkFYABAkiRJkqQCMAAgSZIkSVIBGACQJEmSJKkADABIkiRJklQABgAkSZIkSSoAAwCSJEmSJBWAAQBJkiRJkgrAAIAkSZIkSQVgAECSJEmSpAIwACBJkiRJUgEYAJAkSZIkqQAMAEiSJEmSVAAGACRJkiRJKgADAJIkSZIkFYABAEmSJEmSCsAAgCRJkiRJBWAAQJIkSZKkAjAAIEmSJElSARgAkCRJkiSpAAwASJIkSZJUAAYAJEmSJEkqAAMAkiRJkiQVgAEASZIkSZIKoFVTvwCpyFqOGxPyIk/vRZIkScojAwBSE2jfvn1o3aZtCB8/GfKE98R7kyRJktT8GACQmkCnTp3C3265OYwZ07Cj5sOHDw9nn312OOmkk0LXrl1DQ6Pzz3uTJEmS1PwYAJCaCB3lxuos0/lfeumlG+VvSZIkSWqeLAIoSZIkSVIBGACQJEmSJKkADABIkiRJklQABgAkSZIkSSoAAwCSJEmSJBWAAQBJkiRJkgrAAIAkSZIkSQVgAECSJEmSpAJo1gGA0047LbRo0aLGV7du3cr3jxs3LvTu3TvMN998Yc455ww9e/YMo0ePrvEcI0aMCFtvvXWYffbZQ8eOHcOxxx4bJkyYUOMxTzzxRFhttdVC27Ztw5JLLhluvPHGRnuPkiRJkiSFogcAsPzyy4fPP/+8/PXMM8+U7zvqqKPCvffeGwYOHBiefPLJMHLkyLDDDjuU7584cWLs/P/8889hyJAh4aabboqd+1NOOaX8mGHDhsXHbLLJJuHVV18NRx55ZDjwwAPDgw8+2OjvVZIkSZKkhtIqNHOtWrUKnTt3nuz2MWPGhOuuuy4MGDAg/Pa3v4233XDDDWHZZZcNzz33XFh77bXDQw89FN5+++3wyCOPhE6dOoVVVlklnHnmmeH444+P2QVt2rQJ/fr1C4sttli4+OKL43Pw+wQZLr300tCjR49Gf7+SJEmSJBUyA+CDDz4ICy64YFh88cXDHnvsEVP6MXTo0PDLL7+E7t27lx/L9IBFFlkkPPvss/Fnvq+44oqx85/QqR87dmx46623yo/JPkd6THqOuowfPz4+T/ZLkiRJkqTmqlkHANZaa62Ysj948OBwzTXXxHT9DTbYIHz33Xdh1KhRcQR/7rnnrvE7dPa5D3zPdv7T/em+KT2GDv1PP/1U52s799xzQ/v27ctfXbp0mWnvW5IkSZKkQk0B2HLLLcv/X2mllWJAoGvXruGOO+4Is802W5O+tj59+oSjjz66/DMBA4MAkiRJkqTmqllnAFRitH/ppZcOH374YawLQHG/b7/9tsZjWAUg1Qzge+WqAOnnqT2mXbt2UwwysGIAj8l+SZIkSZLUXFVVAOD7778PH330UVhggQXC6quvHlq3bh0effTR8v3vvfderBGwzjrrxJ/5/sYbb4Qvvvii/JiHH344dtaXW2658mOyz5Eek55DkiRJkqQ8aNYBgD/96U9xeb9PPvkkLuP3+9//Pswyyyxht912i/PuDzjggJiG//jjj8eigPvtt1/suLMCADbffPPY0d9rr73Ca6+9Fpf269u3b+jdu3ccwcfBBx8cPv7443DccceFd999N1x99dVxigFLDEqSJEmSlBfNugbAZ599Fjv7//3vf8P8888f1l9//bjEH/8HS/W1bNky9OzZM1blp3o/HfiEYMF9990XDjnkkBgYmGOOOcI+++wTzjjjjPJjWALw/vvvjx3+yy+/PCy88MLh2muvdQlASZIkSVKutCiVSqWmfhF5QBFAshLGjBljPQA1G++//37o1atX6N+/f6yfIUmSJKm4/dBmPQVAkiRJkiTNHAYAJEmSJEkqAAMAkiRJkiQVgAEASZIkSZIKwACAJEmSJEkFYABAkiRJkqQCMAAgSZIkSVIBGACQJEmSJKkADABIkiRJklQABgAkSZIkSSoAAwCSJEmSJBWAAQBJkiRJkgrAAIAkSZIkSQXQqqlfgCRJM2LcuHFhxIgRjfo3F1lkkTDrrLM26t+UJEmaUQYAJElVjc5/r169GvVv9u/fPyy99NKN+jclSZJmlAEASVJVYzSeDnl9DR8+PJx99tnhpJNOCl27dq3335QkSao2BgAkSVWNVPwZGY2n8+9oviRJKgKLAEqSJEmSVAAGACRJkiRJKgADAJIkSZIkFYABAEmSJEmSCsAAgCRJkiRJBWAAQJIkSZKkAjAAIEmSJElSARgAkCRJkiSpAAwASJIkSZJUAAYAJEmSJEkqAAMAkiRJkiQVQKumfgGSJGWNHj06jBkzpsH/zvDhw2t8b0jt27cPnTp1avC/I0mSNCUGACRJzarzv+dee4dffh7faH/z7LPPbvC/0bpN2/C3W242CCBJkpqUAQBJUrPByD+d/58W3yhMmrV9yIOW48aE8PGT8b0ZAJAkSU3JAIAkqdmh8z9pjg5N/TIkSZJyxSKAkiRJkiQVgAEASZIkSZIKwACAJEmSJEkFYABAkiRJkqQCMAAgSZIkSVIBGACQJEmSJKkADABIkiRJklQABgAkSZIkSSoAAwCSJEmSJBVAsw4AnHvuuWGNNdYIc801V+jYsWPYfvvtw3vvvVfjMRtvvHFo0aJFja+DDz64xmNGjBgRtt566zD77LPH5zn22GPDhAkTajzmiSeeCKuttlpo27ZtWHLJJcONN97YKO9RkiRJkqTG0Co0Y08++WTo3bt3DALQYT/xxBPD5ptvHt5+++0wxxxzlB930EEHhTPOOKP8Mx39ZOLEibHz37lz5zBkyJDw+eefh7333ju0bt06nHPOOfExw4YNi48hcHDrrbeGRx99NBx44IFhgQUWCD169Gjkdy1JavnTtyEv8vReJElSdWvWAYDBgwfX+JlReUbwhw4dGjbccMMaHX46+LV56KGHYsDgkUceCZ06dQqrrLJKOPPMM8Pxxx8fTjvttNCmTZvQr1+/sNhii4WLL744/s6yyy4bnnnmmXDppZcaAJCkJjDbsKea+iVIkiTlTrMOAFQaM2ZM/D7vvPPWuJ1R+7/97W8xCLDtttuGk08+uZwF8Oyzz4YVV1wxdv4TOvWHHHJIeOutt8Kqq64aH9O9e/caz8ljjjzyyEZ5X5Kkmn5abMMwaba5Q14yAAxoSJKk5qBqAgCTJk2KHfL11lsvrLDCCuXbd99999C1a9ew4IILhtdffz2O7FMn4M4774z3jxo1qkbnH+ln7pvSY8aOHRt++umnMNtss032esaPHx+/Eh4rSZo56PxPmqNDU78MSZKkXKmaAAC1AN58882Ymp/Vq1ev8v8Z6Wfe/qabbho++uijsMQSSzRogcLTTz+9wZ5fkiRJkqTCrAKQHHrooeG+++4Ljz/+eFh44YWn+Ni11lorfv/www/jd6YFjB49usZj0s+pbkBdj2nXrl2to//o06dPnJKQvj799NMZeIeSJEmSJBU4AFAqlWLn/6677gqPPfZYLNQ3Na+++mr8TiYA1llnnfDGG2+EL774ovyYhx9+OHbul1tuufJjqPyfxWO4vS4sF8hzZL8kSZIkSWquWjb3tH+K+w0YMCDMNddcca4+X8zLB2n+VPRnVYBPPvkkDBo0KC7xxwoBK620UnwMywbS0d9rr73Ca6+9Fh588MHQt2/f+Nx04sHyfx9//HE47rjjwrvvvhuuvvrqcMcdd4SjjjqqSd+/JEmSJEmFCABcc801Mb1+4403jiP66ev222+P97OEH8v70cnv1q1bOOaYY0LPnj3DvffeW36OWWaZJU4f4Dsj+nvuuWcMEpxxxhnlx5BZcP/998dR/5VXXjkuB3jttde6BKAkSZIkKTdaNfcpAFPSpUuX8OSTT071eVgl4IEHHpjiYwgyvPLKK/V+jZIkSZIkVYNmnQEgSZIkSZJmDgMAkiRJkiQVgAEASZIkSZIKwACAJEmSJEkFYABAkiRJkqQCaNarAEiSiqnluDEhL/L0XiRJUnUzACBJajbat28fWrdpG8LHU1/itZrwnnhvkiRJTckAgCSp2ejUqVP42y03hzFjGn7UfPjw4eHss88OJ510UujatWuD/i06/7w3SZKkpmQAQJLUrNBRbszOMp3/pZdeutH+niRJUlOxCKAkSZIkSQVgAECSJEmSpAIwACBJkiRJUgEYAJAkSZIkqQAMAEiSJEmSVAAGACRJkiRJKgADAJIkSZIkFYABAEmSJEmSCsAAgCRJkiRJBWAAQJIkSZKkAjAAIEmSJElSAbRq6hcgSdKMGDduXBgxYkS9f2/48OE1vtfHIossEmadddZ6/54kSVJTMgAgSapqdP579eo13b9/9tln1/t3+vfvH5Zeeunp/puSJElNwQCAJKmqMRpPh7yx/6YkSVK1MQAgSapqpOI7Gi9JkjR1BgCkHM9znpE5znCesyRJkpQfBgCkAsxznp45znCesyRJkpQfBgCkKuE8Z0mSJEkzwgCAVCWc5yxJkiRpRrScod+WJEmSJElVwQCAJEmSJEkFYABAkiRJkqQCMAAgSZIkSVIBGACQJEmSJKkADABIkiRJklQABgAkSZIkSSoAAwCSJEmSJBWAAQBJkiRJkgrAAIAkSZIkSQVgAECSJEmSpAJo1dQvQJIkSZIa07hx48KIESMa7e8tssgiYdZZZ220vyfVxQCAJEmSpKr27rvvhk8//XSaH//555+H66+/PjSW/fffPyywwAL1+p0uXbqEbt26NdhrUjEZAJAkqaA23njjyW574oknmuS1SHka7YUjvo1n9OjR4Y9/7B0mTZoYmqvpCTa0bDlL+PvfB4ROnTo1yGtSMa+hBgAqXHXVVeHCCy8Mo0aNCiuvvHK44oorwpprrtnUL0uSpAZvuKTbq6EBo2Jr7qO90zPi62jvjGk5yyzNOgAwve9JzdPGVXwNbVEqlUpN/SKai9tvvz3svffeoV+/fmGttdYKl112WRg4cGB47733QseOHaf4u2PHjg3t27cPY8aMCe3atZvh12KkWpLU2A2XrObegCmi+nZ68csvv4SvvvoqNJYOHTqE1q1bN2inl9He3XbbPX+dvekY7f3www/DsGHDmu3+MD37xGKLLRaWXHLJev8d9gva4dNq+PDh4eyzzw6N5aSTTgpdu3at1+/Qt3D0v/nZuJldQ+vbDzUAkEGnf4011ghXXnll/HnSpEnxwnTYYYeFE044YYY2fH1P0NUQqZ6eE7SNF0lqXg2XbCNlSvepadnprbkt9thzrzDhl59DnrRq3Sbc+rdb6rUtjjjiiPDaa6+FPCED9/LLL2/wv2MRQOXlGmoAYDr9/PPPYfbZZw//+Mc/wvbbb1++fZ999gnffvttuOeee2o8fvz48fEru+HpCNa14T1B23hR7eobHPvxxx/DRx99FBrTEkssEc8PDT160dy3RX23w4xsC9V/f5jWfWLQoEHl/2+33Xb1vr8p9onmfmw0xnnCTu+MjfbSZmN6Z2Pq3LlzaNu2bYOO9tb32GAQ5uabbw6Niexa2sjTyuvGjPF8Wbxr6Nh6BgCsAfD/GGGeOHHiZCdefmbUutK5554bTj/99Gl+frII8pgBUF/Oz1Il6mwUPTiWuC3U2PtDtqEyPfc31j7hsfFre4SOcn06vU3R8W2MTi/4nfr+3oorrhjyho5AfTpGjHqvv/76oTE58t24PF/+ymto3cwA+H8jR44MCy20UBgyZEhYZ511yrcfd9xx4cknnwzPP//8DGUA1FdeawDUN2Kf58aLfmWkunq2hRkAjatIoxfVfmw05nlCkqbE82XxrqFjnQLQOFMAGroIoCRJRZm/KElSNdi4GV5DDQDMYBFAlvwjZSQVAWRU/NBDD53hIoCSJDUXza2CsSRJ1WLjZnYNrW8/tGWjvKoqcfTRR4e//vWv4aabbgrvvPNOOOSQQ8IPP/wQ9ttvv6Z+aZIkzTRTa5jY+ZckKZ/XUAMAGbvssku46KKLwimnnBJWWWWV8Oqrr4bBgwc7v1uSlDt1NVCae8NFkqSm9kQVX0OdAjCTOAVAkiRJktSYnAIgSZIkSZImYwBAkiRJkqQCMAAgSZIkSVIBGACQJEmSJKkADABIkiRJklQABgAkSZIkSSoAAwCSJEmSJBWAAQBJkiRJkgrAAIAkSZIkSQVgAECSJEmSpAIwACBJkiRJUgEYAJAkSZIkqQAMAEiSJEmSVACtmvoF5EWpVIrfx44d29QvRZIkSZJUAGP/v/+Z+qNTYwBgJvnuu+/i9y5dujT1S5EkSZIkFaw/2r59+6k+rkVpWkMFmqJJkyaFkSNHhrnmmiu0aNGiyaI/BCA+/fTT0K5du1BkbotfuR3+x23xK7fD/7gtfuV2+JXb4X/cFr9yO/yP2+JXbof/cVs0n+1Ad57O/4ILLhhatpz6DH8zAGYSNvbCCy8cmgN2viIfiFlui1+5Hf7HbfErt8P/uC1+5Xb4ldvhf9wWv3I7/I/b4lduh/9xWzSP7TAtI/+JRQAlSZIkSSoAAwCSJEmSJBWAAYAcadu2bTj11FPj96JzW/zK7fA/botfuR3+x23xK7fDr9wO/+O2+JXb4X/cFr9yO/yP26J6t4NFACVJkiRJKgAzACRJkiRJKgADAJIkSZIkFYABAEmSJEmSCsAAgCRJkiRJBWAAQIUxadKkpn4JkqSc+O6775r6JUjKEdupaiwGAJR7Z555Zhg+fHho2dLdXWoKO+20U7j66qub+mVUneuuuy6MHz8+NEfZBYSK2Gi94oorwsknnxxGjBjR1C+l2atcbMrFp6SaLrvssvDUU0/FdmoRz6fTqsjbpjSTz5v2iJRrn376aRg6dGj44YcfyrcV+QQys2S3oY05G7hTs/DCC4ejjjoq3HTTTU39UqrGiy++GA466KBw/PHHh59//jk0Ny1atAh///vfw+OPP17I4OqPP/4Y3/9f//pXgwBTwLmQfQVci5F+LiqvDzUVvU323//+NzzyyCPhd7/7XXjuuecMAkxButY88MAD4fvvvw9FPI/+PJPaA8W7ahfMM888ExtoDz30UCiiLl26xEbacsstF5544okwbNgwT64ziG2XTsK33357uOuuu5rtKGVjbY90Yn755ZfD2LFjC9/ArXTppZeGPn36hAMPPDDceOONTf1yqsIaa6wRBg0aFPr37x+OOeaYMG7cuNCcOi9vvvlm2GOPPcKrr74aiojADBkAN9xwQ/jLX/5iEGAqjdYTTzwxHHnkkYXfTtnrBR2/r776qtDBgWx74vXXX49t1jFjxpTPd0Voq80333zhwgsvDNtss03Ydtttw7PPPms7tQ4cH5988kncVg8++GAoggkTJpTPGeeff3646KKLZs4Tl5RbJ5xwQmmJJZYorbLKKqX555+/tMMOO5Tee++9UhGNGTOm1L1791KHDh1Kw4YNi7dNnDixqV9W1Zk0aVL5/8cdd1xpoYUWKt1www2lkSNHlooouw/17du3tOGGG5YGDBhQ+uWXX2psK/3q5JNPLrVq1SruM6rbhAkTyv+/7777SrPMMkvcdj/++GOpOXj55ZdLV111Vem0004rFf24v/zyy+N58MQTTywNHz68SV9Xc/XSSy+VNt5449Kzzz7b1C+l2TjppJNKa6yxRmmeeeYpHXjggfG6kRTx2vGnP/2ptMACC5TmnHPOUrdu3Uq9evUqffbZZ7lvq2U/67fffru02267xXbqkCFDcv/eZ8TBBx9c2mmnnUrffvttKa9OOeWU8v/Hjx8fv6+99tql2267baY8vwGAnKJRQqf/xRdfjD//+c9/LrVo0aL073//u1RUND622mqr0qKLLlr66KOP4m2eXKfPxRdfXOrcufNkDbqff/65kNu1T58+8aL98MMPl/773//WuK9o22JqDAJMe4PwzDPPLB1//PGlueeeO56/jzrqqNK4ceOa9PUR7KMzN/vss8fXUxmwKKJLLrnEIEAdCBTtuOOOpe22267J992mlL0OXHHFFaVOnTqV/vrXv5YuvfTS0tZbb11abbXVYjutiNvjzjvvLC2++OKlBx98sPThhx+Wzj333HiO2XbbbUuff/55qUjb4o033ijtuuuuBgH+X+V7T9fHW265pdSlS5fSBx98UOvjqt3LL79cmm+++Uq//e1vy7dx/lx22WVLd91110z5GwYAcoro6UUXXRT/f/vtt8cG5DXXXBN//umnn0p5l04SHDDZUTMCIptvvrlBgBlAJJLGXBr9YztyQvrd735X2nnnnUv/+c9/cj+KkX1vr7zySmnJJZcsX6yJSJNpc/XVV5feeeedeJv7WE2nnnpqHNW+/vrrm/qlNFtnnXVWbAD861//Kg0aNKh04YUXltq0aVM6/PDDm7Qjxb5M8Gb11VePGWYp4FWEIEA67umUkEmWzXwiKGoQoPbBiNlmmy2O7r722mulohs6dGjp2GOPLf3tb38r3/b++++Xjj766JgR8OSTT5aK5NZbby2dfvrp8ZqQRUbEmmuuWbrgggty255I74mMwew5nU4tbamiBwGyn/nTTz9devfdd2vcv9FGG5V69uyZy33j559/jtf+FVZYobTJJpuUb19++eVL999/f/kxM3LdNQCQ0w7ayiuvXOrXr188eZBSlTr/nGi4+BBxzTsazZtttllp0003jVH27AU4BQE+/vjjwp5cpxcnHdLUfv/738cRix49esQvppiss8468aSc0pXyKLuvMFpBY3+xxRYrPfTQQ6XXX3+91Lt379JSSy0VRzTosL311ltN+nqbKxp8rVu3Lt14441N/VKa5TG2xRZbxGyJLIK5ZE8w/eaHH35olNeSGld8T8Fj/k/Qj+sMx/5XX32V+yBA2g5cO1ddddU4gkuHba+99posCMDnlqaaFQXbp67r6M033xw7M5wbU+C9aNg+TIUgk4ev1CbLdvpIfb/ssstKRcH5YsEFF4zbY5dddpns/j333DO2KfJ8PnnggQdiJ5b3uf/++8esSu775JNPykGAlGlZpHZq9r1y/vjNb34Ts04Z2Hzuuefi7QMHDiytv/765cBAXgIBE///vdMOYP9g1J92Ne+PdsG9995b7s8llZmn08IAQI58/fXX5f9zESGljA5IdpTtm2++iQ22c845p5RnBD6YW3fIIYfE+XV0NPh/OmC4EDMdoF27doVrqNVHXRecv//97zFtkRFK0pRfeOGFeDupe8zLyqvsBYYaGwSXiEyT/bDccsvFkS72MzpqHI9Eb7PBJ9VEFgmNvxTR1q/7GFlL7E/HHHNMjWOR+/bZZ5+4zf7whz+Up9w05GsBIxF0dOnwst+n4/2OO+4orbfeeqUtt9yy3ADJcyP1kUceKc0666zx+kojjAAogWRqf2RHvHkM58VsA61I2E4c06+++mr5NjKi6OwxAFHkay7ZMxy/BNEr09sJqu+xxx656chUqu19MVhA57djx46lxx9/vMY5rX///jELIK/zvBmkoo3+xz/+MQYNGd1da621SjfddFM5KEQQhP0lnXOLhtpK++23X9w3GNQkSMZ1iGAJbS+ym8mOy4uJFddPgmRcf5dZZpnSiiuuGANCbANquy299NIxOJBqZtSXAYCcYD5M165dy5GwZ555JjbMKBiR6gB8+umnsdPLbXkcqcleXDhZnH322eWfiaLROaPRnBplRBEZtU5ziFT39qTxxnzfAw44IAZXUpG7VKQnIbjEyTrvnn/++Xh88R2M8lOsjfTNtH/RieNCxbGpul177bWF7ShNqcPM+YvOJefyysJAZDCRFtgYne277767NMccc8QUZYLJZLcwGsN5k79Pqi4d4HXXXXe6RiGqBec7CpXtu+++5dt4/9TV4XM66KCDyrf/5S9/iWndRUCNijPOOKP885FHHhnT/du3bx87M9nUbuoBLLzwwvF38n7dzXZkK89vXE/p1NG5oV2G7777Ljbq2TZ5lN0GX375ZXy/KaOI73Rk6ADTKSajiK8NNtgg1gHI47mEoAbvL3vssE3IhCDowdRCEERjEKsoBbyz7c4nnngidnqZD5+QtUu2JcfKNttsEwMoZGDm4Xw7MXM9J0OIQBAFzOmvEVDlOkvtHQLv/EzbkoKABBWnpw1lACAH/vnPf5auvPLKeEHhhEJacrqdtBHSZogQkbbIBTldmPIUBEgnDTpkNEg5iWZPrCkIwMgM0dZ0sBS5KNG0noiY0zrXXHPFEQtGJekAHHHEEeXRCy5knKjp/HOyTts2r6MYnJgZDSU9r7YRWPYp0lzJkGCedJ6Os7rU1RGdWgc1u4809Gh2c5TdPnQkSavnWCJ7hI4BDRymMaUgwNixY+Nt2SrADRUE4LMZPXp0DBintGSObYrLEgzMTg2goUJq4ogRI0p5RqpudrQ/vX8y6khFzWbhFQGdNK61jOCyj9BZoY1Bhh3FzJiqwjmQ4FHCKB71P2iz5FHllC8K/pG1Q4DouuuuK18PUmFmgmncRxYZU2ryNn3unnvuqVErg5FugoUEzRiQocOfggAEANgmZM6RSUh7Nm2PPLQn0ntgH+CLNnk6t6b3ydQu2liHHnpo+ffytk9MCzq1tNXZR1DbykoMupCRRoZvuibmIQPtuOOOi1PMyIDhGpz2Ad4vbWzaALWpb1vTAECVI1pMWh1ViJlfRzEyOmlpnh0ZAUSKUspi2kHyOOLGhYSLB1MfKoMhyeDBg+N9jFJo6rhw05FNhWhSmj+NXSrf09ll1JvOMBfs1InL0/5VedHhfbds2TJGnbPzWXkc758AAZk2ZAjkMdhWKXvBJU2RdDUCcd9///0U33v29xgRKjIu+KT40fCj6i+jG3SuCAZQQZ0ReEaFSPmjcdxYQTaCe3RQCPYx8sK1JjvS/dhjj8VRKz5LRiryoq7tmoofkuJeWciMmh+psVYkBH2Y9kTV9r333ju2QxIyQpjmwzU5O52FOgp5PCfSriDr66mnnioX8uTYZckyOr003pkuk45fVgFIbZXsMoB5CYYyQskILfO26djSoWHaIO+b7AcyMKnkngoi0p4gmMSAA+3WtJ3y1AFmPjsDCAQLOZeQVZmk98kxRKHlPAQ9phfXPY4NjicC35UBlCzOLVwXG6suTkMiMMp0mGzBVPaLdCyw0hTZMvTzZpQBgCqPNDO6nyKooJFGVJFIal0pdnm68KYTAh1VThhE2OlMPProo3G0n/lTlaNSHECpOrvqxsgFF2cuUpWFm8gKoLOSGv0EmlKHLk+d/6zsCZmA2rzzzhujz2nVg2yRSToEeQ62JdkGCsFILkxMRaITS0OurhHR7O+RLs0oN/VJioh0YEbVU6En5o7T8CFjCexfnOMZOSPQm/anmX0er1zZguvHqFGj4khdSv2n85/+LsFV5ixzPs2btC2Yq87a3GlqA+c5RrgJeJKGmjDCTScuT0GQ+mwnCqEyUkeAiLooWWw7qrzTkM92dvLWFkltspVWWilmw3DMkr5OWyS9V1J3CYbQVknXS6ZAcbxz3GdXLMoLAuZcE2hPME+Za2PC8UQ2IeeWlOVEEIBgKNkQnIfycP1MxwlBXYK4ac46I7qMXqeVDrKZRhwrRQkA1PU+DzvssDjnnboqtZ1b0zHENYgAebUNJGy22WYxyJ/FKj8piMo1liAabXD2iRQoI1OQWiEzev40AFDFSLOj0F3lUmOk3nE7Efk0Ap6HtJi6MAJNejoHU6rqD0at27ZtGw+UNM9O0445ZzRmGO1OJ6m0HzHqR4CFYoBZed3PmE5Dg4SRi4TRHeazMtUkm+KY5wZuXUhnpRObMkXorNKoJRsgyaaMZ9OBGSFj+xYRxwud6vPOO6+cLsuqLWk/o0NQW8NnZjaKswFSXg/BPoJbBLJSzQFStunUZJ100knxmMjLuZUK/tn9lX2SkRhG9vnOZwO2C8Et3nuah8p89zRnt2jS8Uw9GDIBOCdWFuUiEMgoHfVh8tqpSed6rpsMwFCjg/0jGzzneKbDz+3p+EpBQDqCBJTzUvAue+2j8OMiiywSzyuVNXFYOYfgEIHghCAAbQ9+Jy/HFVlDZHoRKEuBHr6THcHKLrRTOddyP9eAN998s1QE2TYjKx9wHskWxySriAAR18TKTICEbBLOwWk1mmowcuTI2IbMZrdwXacvw7UlZdpyfaEGBEFD+nRkOWQzhFwGsKDYCRih5eSaxUga0TAOCLIBkrxeeCn4R+eDC2g2GwKMqnEyJRJfWbBOU++403hhrW/mAWcrNzPiQ8P4wQcfLBUBIzuMdjKyTZZJQuefY5ATeV46QvXBOYULGBdpovRgqlG2E8sFK9XayO5ndP5ZheMf//hHqch23XXXOG0kbbe0PBgXdrYhHYaGCiQxb5IR7eza4zS+qBmTRlMYASeTijmJfGak8TI/lTTdbJX3akfKLcEopjXQEGWKD+mYXF+Yi8r1Ja2oQ6CZNHZGNJn/X/SMsmwQgHR3rhdkq2TReE+Py2ugOL0vggBpKiLTRrLI6GE/q+wIE4Cionm1jWJOSfZz5hrJYALnksqsOYIlVHXPBjepCcC5KQ/LRnL9I7jD+yewUXkf7Sg6d3zRVs1mG+ZZtk/CoAHHDEEisqmyRbyZMkFWCNfCyoA47QsC6AyIVqsLLrggrhyFL774otS9e/c46k8gNRVAZPSfaaUpCDIzGACoMqS6kP5B4wNEiejsE0VMiCpykmWJDKLxpGDl6YSRGsNE+9LJgHRVOqQ04ipPBMzHo/FaedHR5BdpAig03DjRppRkti2NYUYt6OSx/xGVZD5jHke46wqU0agjCkthzWwQgIYNEfzKhl5e1bZ9aLTceOONMaWxshPLyA4Xr8rOPwHKInX+a+v0sC1JH6dxw/ZgJDChIUBhzey5vSEq/JM5Rc2KFASgc8vryTa0GIVj2g8p3jRMtt9++zhyl7fPh2JtNECZp0uhwyymuBTpOJ/e8wIZJSkIUNua9nkdiEjSNZGAOddMikZmA+VMiWD+bmrwZ88LeZwGlW0jMMK90EILxc5dGuUlm5BzCh3AJA9p/5U4r/L+CQplz/OVUyfTyghFwvQXzrtcj5giwnZi1S5WXUnIHuIaWTnIV40BxV8y+zfBZoJfVPdP/TqCQtnpkwz2co1m6tnMPH8aAKgiRBA5eTKqT/o180RIK6LwDBcURiiJGJE2QkoVJxKWi8oWbapWlWsKk55JdJhOP50P5styguVnOmmVQYAinlTrK6Xp0ekgkMIJmTmLIApPkZW0/jjpnA01F7m54L2ntN/snEX2L4JuaT4W6BTkdTtkZS8+BB8ZteJ9k/pLY5cRrGzjhkYe+xNTBLKjznSkitr5JzBLhzot60QDmJQ/MkkYSebCz0gqxcI4xzV0Y5i0d/4W1wrm4bKPEzCtLZ2SoAD7QB7nKqfPKa27TdG2yqJSpPDSUCOolZdCbQ0VBCBrguyx7IoVRZGuBQTPCZRzbqT9RmCJayu1UrLXi9qmR+VJ9r2yHcjYZBoNmUS0W7OFTbOqdXuk1002Bx281P6kMC6dWjq3DLIk2fdere95enFNIQidBg3AeZc2FVlmKesKBI7y1M7q27dvefUU+nMEOBhgS5gOxGAThbg5RtI1Z2btIwYAqsT5558f19ZN645TUIVGCpEj5mdTQZaOP9FmikWkeSXsOJxwq/nEQiEqRqCJANIRJR2bEwMjr6T+MNpAh4IRSO4nCMA8mueee678HNX63hsLjTRG99KoPw1c0tWyaYpsWwJNFHlKc97zdDLOIluEVD06RqwckcV2oLNGdXSOw6y8bo9sOi8XIb54/6Stp2OUFUgYOWbki04tnX+2Hw29tF04LzH6X5SpI5XoQBJYIzOLQG7qHKXzFgWiOM/T+SSI25CrSGTPiQRQmePP9YKgDp8Z5wBGKanzwXdS/1NBszyfT9nmBLQIsmdrAiQ01KgJkJe52vUJYE3L554toEhqa17PifUJAjDCTXuNpf7IyMx78Lw22ffKiC/tC1K9Oc/kqWBu2v/pyHGOp+3K5087nFVCCPCyD1R2bouKjBiueRQKzSLVnb4M59vK46Raj5tJmfMn7UoKHKYUf86X9GWyWQ4E4ZleyTTBdGzMzGPEAECVdEZITUyNRUa/KfJH9Ig5tLvvvnuMMlYi0shIzvvvv1+qdhTMocPByYDiU9nUICKIdMSYo0lGBKmpjERSRTXNPVZNlXMxTz311BhgAWlIXJxSUR5OxIwKgqKSdFSYs5enOe+1jcAwGsr7pFNU2REgBZrtQPp2njtDYLSaxivnmYSLEMGgbHCE445VSSiAReV45qvR8KlcGrJaL97TI7tvEOVnpP/FF1+MUyWo9svFPrsEFlkRjAwRIGnsRjGNDtIMabDyeRMQYASX0UpeN8GdPFxLavt8GKGrnFtJEJnrSAp6ZBVxub/s+55aym3lObHaUnRnlnQM0z6jk8OSiJX3FUn2PVP9n2OstvvyMFWXOg8EU+ngkjHJqP/AgQPLbXqmVHGeJSukKChsyGABaMNzLQQBVzJjKmupUGOFDN+8+etf/xqztQmEZZHFTBCA607KPmUwpa7lD2eUAYAqQOOEThnzwzhgaFynglvMD+UkwrzkVM2ZhibLZ9CQS9GlPCAIQOo1S8pk1xoGozH77rtvjJTh3//+d53LIBZdtnGW5vmSWsXoJHOwsnO4eSyBJ4rdpccyWskJio5xHi7a2cYp8645zlLKHhkRZNVQ8yAty0ZHjcwbOmv1GRmrVrxHOvqs35xtsNExTCP5qZPPtmMOHyn/dCjzNLIzI/sV24GMJFJeEzoFzDMn2FZXI7AhR/6ZgsD1JK1ZDj5PjmuyfFI2UEL6ap6k7UAWC8c32RcEjbNz/LmecK6jMGARZfdhpuFRjbty1aGp/d7MLFrVHFS+76md+9PjaZ+l4zlP14u6aptMy+PzNvWB98a1kPYBgwOpTUGbnSkxCe+XjjCj3mlwJc94v2Tu0oYgK4hOLv2WVEeGQU3aEwRKeFw6b1AUkSnOeTJ+/PiYGcL7Z7pZJYIA7Cvcn702N8QxYgCgSqQGNvNuaaCl9ENGvqmQyWhN9sRKBDK7vFNeUB2VkylVqiuXhyGiStq28/3rRmM3nXSZ809mCZg+QTYJaa/ZuVichJkbzGOzJyDSlfIQYMm+J4IcZJkwsk2gKa1LTD0J5qhxHyP/XJSY05mOtyKMbrGdCAKQeZQK0TA/PdsxStk2lVV68xAkmhFMVWJknU41Hc0sVtOgoch2zc4Jbej9nZEoAqlMZSFrg88yNUTTdABeczbDIy+N9CwyMdq0aRODnwRBed9UoiYjKiEFk8ZYdqWEIsie1xiNolHKcpCkbbMyROVjattPCATye3mpGZF9v0yLmdZCmNl6EdlCxnnaHrRFK9ezr0tl/Yxq3B58jmlfrwxw77TTTvEcS+efqZWMZCdMDUhZRdX4vmdEWumCdibZulnMdaf9zlx3VluiDZatDZGn68/XX38dpwORof3CCy9Mdj+ZdmQINPTAiQGAKpF2ftK0metPI5uOLg3KbJGdIhQm4qJLYR1G/LOFATnJsnxG3kaqZmbkkcYbJx0ij4w8ZhswpOQxL49o7BtvvBEjsXT+aRDn8SScRWom0WkCIUx9oNAfFylGs8H2oN4EBYsogpiOsyJ0/iszAdhvuEAzBYLGDfPVuXATwed73iL29ZXdJ8jQYr44nSAu+HQksytIgEAtI0YEmRoD2VFk+TD/lIAqgVSCW9RwYIpP6hjzuTIHMy+dtyzOY6RWEkyn4nRC3QpG5TjnUfsgNdK5thRhpK42BKgY+ScownWD/YSAEefEukZ0wXmUgol5KQKYfW8EjCiYy6DD1Nob2d9LKc95Qzo3dU3YR6Y2NTC7PagxVM1TCbNTgejQpiruZMrR1iILl3N/aj+xr5BVRFuiKJ3/bKCE6wrBbtqgBIsql+Zm0IVAOG0s6p41xLz35uLbb7+Nmdu0o5gaUZeGfO8GAKoMaZnMdScyxkWZjnAeD46pYWoD24CDh0AAJww6cJVZAZochUeYj5Yq/Gf3HzICuJDTQaCRxwmqIQuRNQfM0aMDVDkCS0eWIEBq+FcGP/J83NUV2CCIRBCAcw8XckY56Cgxp42OLV953i71QeeaOX5pmgRRf5a6IshGoCmLdNDGCiZdddVVNY7rtG+TlkijNe9ZZAnbm+Oezlxlo57twzS6omN0iutBNtOHEUyCVVwfstMBKpf5JKOMYHK1qzwuL7300tjWYEpifTr/rI5CADClOFez7PsiwEOQc1qCG9nfo6go24OpJdWI6W5cB0lb5z3wXlLxNgKpBMTJssoiYEQGax6yJ+t77JA1ShuS6w6Bcc4rZF3Wtjx35fS5vBozZkycYkpQtSnOCwYAqhAXHgrh5T1CNjWMXnPgkMbK1IjaCiGq5smUEw7FvGjscyGqLWBCcIUGHx2YyjVq84YGCRcgliVKF+9sx4hq6KneRFGW6snuLzTuiNTTcU3LwrEd6NQSSCLwVps8X7SnxZAhQ2KDkBHQbCeIUecUBKht3n9jBAGoQE3gNElTpphvyDKzeaobk5WOWT4DtjPBLDJ99thjjxqFlsCUJ479oheRTdkilcvqkhlFB58skdRwTfsuHTvuy8Myn5XZL1wbGN1lukj2PDe1qRAERFj9IxWBq1ZphLsye46U9yltD36u3B7sI7U9XzWN4N50002xkCsDBemzTavkEBjnM2c1F6bNkU3Fz3k9v1bK7gNkVdHRTXWUwDFEEOCcc84pZwIwxTKb1VsEY8aMicWmOc8y/78xGQDIgbx2zqZFmp/NXCtN+SRMilo2ZY00biLUlUEAItt1PUe1q+u9MK+fdOC0fCbHFI8lbZsKtUV0/PHHx+Aac9ep6E8V67S0JtuGlREYCWPaTdHVtl8x0s6caVZryZ6j6WySKkuAINsgaiwE9vgsmWNYGbQgKJjHVPdsCiqN8bQfk81CMCZb5BTU1SHdvUjX1mwHLVsokmAx6fzp3JjNnmB1CM4P1LJIo+N0hqq5Y5cwLScVFU7bg4AAAXSKdybZ+1LGTDYAmjq71R4QIbBDUKwy24MAOftCZUG/lC1WKS/bAyzLzXmcjMq03HZCEIDj56CDDopZqpzz+bkIKqfLMFjAta5yugdBANqgTK2kjUE9miJMY65Em5upIo09cGIAQFXPon9TPwnTmWN5NlKPSXlPHREij8xTI9WTBjCRfJYnq/z9vCHSms0YIVpPpD69d9DIISWaEdOiufLKK+P8frKNUtovDR1ue/zxx8uPY9WIHj165CpINCOoIE+gLW0PUh3pYFIMLXs8UVyTaRMN2cFMf4+52qSoptEF0paZs7v22mvHLLL0eshMoABmXpe4Yx8mI4P3mZ1zSSYGnxHZADTWDzzwwDgaM60F3vIge/xyXeArYcSbFRKyS1MScGd70eEnCJCWsrzssstKAwYMKOVhe3BNTJ2R9J1OPp05AsMp6JEwsstSZtnrCkFApkrlobPLNKX0+WczQigaTBuCc0w2Y4Z2Bp26bAYU+0e1b490XqXTxsg1QQDaVQTDs4GhIgUPk8rBpKeffjpm6aZCd7TVR44cGQtopnY7wUWmW1FnpdozmifV0WauT/uoMQMgBgCknCP9ijl6pPVXBkuI0pMJQASbehKsrpC3CCyNsGzaXQqG0MhnWTY6SDRsqFDLNqATxOgPc1z5f7VejOojG3mmg0gKNAWaUgVwCv8RFCBFjzRxLuyVih4EoPFLYbDVV189ptOn7cEUitqCAElD7l90elmPmpR/qt3zWgj0UeyOkRmKMZENwAge02BSwCdvGHniWKYDkpU+I4I2LAHIaDYj/6nAXRGvFQSGOPdlK7qT5cPIN6O9qYZEyvyhFg+Bk7xIFdoTasPQwU3LGRL0JMuBud+pBsKXX34ZgwJsk7RPMX2iVatW5Vo71YqR7Wz2xxNPPBGDwVT9T+joc3wRTCPQyHZhFRH2pXRtITuC62s1B4iyS4cyap2WaSMYQI0HggAEV7MBYc7B2d/NK86b2aUOQQYI1xeCQawcQtuLgADTJmiD1VZfqlrbWxMz7R9qQHAMZGvo1DW6n/29xn7vBgCkHOMExJJ1KQpPw59CktSQ4IKVMBpJVfBqj8BWojARRTMZ1SP9jsYYKWdEoBm5WGKJJWKnlhENLtCkBjOvnVEeOkhpO+R5Tnu2YUIaOO+V73SamN9LoaPU2KPxS+OPDm1R5jLWpbYGHQ1BKsjTgWLZuHRxJ92e/ZD5jo2Bv0tHnw4JIyzUb6BOCimWFKLiddKop6HCayMD5qOPPirlAY3uynowHPsc62l+KZ9dbfOUke3s5F32vMZoPoFilq2ko8/0lWyDnv2GbB9W+qDzk+bHs1IMwdM8oOYJ57dUpJN9gswHrqEEydI0ETIeCIRyrLM90nSI7OowjHRW+3xmzgkEf+ngp+OCzAf2BUbyL7/88vJjyX6gg89+w/ai85/dHvyf9ke1Y3oL24SUfpZrS9g3aFOxzB3z/ckG4DpZlLR/zrlpH0nnXwr/sR/Q6Sc4QqCQY4v9gMB0GmTIU1vgpJNOitmkTHvgfJnNCpnS71FAmQGpxmxrGgCQcozIKydgOh4PPfRQLHjFCCVrrHICpkp5pbx1donW0+nnREw6f3YZNjq6zHFl9Ib/1yYvwZDakLbJqCfYPuwXFDdKCJjQ+KMxmyrDs1wk+02et0t9pCk1CZ1rOgM0ArKZACw3xxKuDTkSlJ6bLA4a3IxSps8udfKYxkEDPo8V/hmlJauBjll2vil1D+iYpNHd7NJUBAkJiuZ9hG5KCIASKOJcmRA0JjMsWwOFYz6NhLO9qG9B5ki2I1TNmPpAUTv2FQLi6T0z7YlOPh3bFARgnyEQwKgmWQJ5C54nZAWR/cH8/9ShJ/WdqTR0hLNBAALG7ENsmzwWEKZ6P20JBg+ygUSmFKXrANMb2FYEX4uyKlXlCiC8/5QlyDa45JJLYv2VdO5gRRyC5LRJ8+Sss86KgQ6ybQmCkElKQLG2zLrKophkpDLA0pgMAEg5T0tm9JsgANFoOgR04ojUUgwrz/PbsydY0tgpaMcoLCfpLBordBiY00phu6Ig0MN2ofAbDTzS8iqXJyJtnU4AkXyi9ttuu22MUid5atxNDzrUBNRSKnDlahsEAUiZTUG1ykJZDYGUUwINjHiTvVGZqcFrTgGxynWY84DABmnpBLNSkIOG55ZbbllrlWnmnu63336FGflnqdfs0lvMz02FzFK6cjYIQN2EyiURGRlmW3JOzVsn54cffigX6UzBYs5zNOpTECB1ZPIePE/owHAuyY7qE2BLQYDsdIA8bw8CiewDFEol0MuUIqbDEARjtJf7k2wdjSIhCMS1j/Mt02CyOMdyzaEdwfk5T/vHN998E99zyralLcmxkZaXztbHqAyY0PZqiroYBgCknMpWJyZCXVnUik4Ccz7zLNvRIvDBfDRO0tkLdQoCkNLJyGjREAiisZtdAz418qgZwX7CiBgdSjpWeasRUR+VaePMdyUVljToVD0/PYbsCoJubLNsJ7whO//s11TYZvoKgT9Suqloz/zLLDKCmLOb19VT6JxQz4RGZsoEYOk6OjCs9kHgiw4dQRA+v6LM+WeUkkBn9hjmGCd1mRGo2gLCqQAogaMs6iYwhSSP6LyRsVNbEICgXnY6QB5VnqP4mSAA14DaggCkvVeuKpJHBHoJiJHiT/CLIBhtKDpvBEhYFrAo2Cfq6sBzLeS6R1CEAHh6PFk11Jxi9L+2+f/VfIx899138ZpK0INsB86nKVOEwAc1lFLNiISsq6ZcEcMAgFSgDgupwXQGODGTplyEEdzsiZpOGRduOkfZSuDg52q9GNVHdhSaz585eYz0E7XfYostyo9LEWsewwWKuglp+xRhv5nSscS84NThZ5SZjjZTKbKZAHQyDz744Dji2hj7FZ1YGqPZoB61PchQoK5FZZZC5dSFvKFzwj7N+0/TIJi/S8CLgogECMj8ydsI9rSi8Zk68AQBSOUmYJUt/pdQzyKvx3xdxUs5/zHFoTIIwHQAMmjIGsn79uD/2cLBBDIpKJoNAjCiy7QwUt7zNI0mvRfeH4HeFEhkugwZMWQSZqcZsc4959siyE4TTLUzWFGGa17KLuJ6QxCANgXnD3DsEGys9nbExMwxko4P2tbbbLNNXDWFoHLq/KeMKe7LFgTlnEJGanaVjMZmAEDK2drNU8JJhxFwLtbVHoGtj+y2YY5iXUGAvG+P7IWLBm5Ke07TASjWQ3Aoi85udsQwz9tnWvYfqmJTwZj0zzQKSBCANNDNNtusNGjQoPgzRbFYBrAxthtL9xGAYP7h0UcfPVlHjzoXFHTL7u95bKwTlGFOfxppoYHOZ0VHPwUBeCxTWmjYMxe1KLKfN41VOrFsG7YFOBewT9cVBKjmBvu0nA+Zz09mDHP6Ge1ORQ4p6kUQIFsTgPvzeB7Mbg8KO+6yyy6xyCGdu7T0HwEzggDZmgBkEjXG9KbGkt4D2S8ECunIEuQlY6i2YqlkDlJbJS21mmdkCVEENGWPMa2Ua9+yyy4blwslwJqC4wQBKAxJmzNlAiTVevxMzBwjFNZlnn8Kpg8cODCeK6gplQZQmBrAihhMFUnvmdtYaYk2V1MyACDlyNQuvjRq6NDlsUBPfYMAzH0nla8IF+1KZ599drwoM5KTLkLsC3ReSWXceOONY/ViOrRE8PPQqJsZSAumk/3MM8/EThTStqHTz2gzU0loDPL/hpwukf4uaf90ZBlJILWSRljldB9GpljKjAZs3qZwZBvrHNM0RJnPzkoedPr5XFIQIDtiVyTZVH2WYaPxTk0PtgmZYNkgAJkAjEyR2l0UdGI4rgnaERxmH6JTl+b6sy3YJpVz3au1EzM1BDnZHgQ/KALJOYWpM7QdUiYA2TVMCci2Iar9OpF9/RQMJY2b7DjOmQTF6Nwx2p0ex/xuptQwtbAoq+KQ+UBhYJZNJd2dYEAKiJFNSIo/bYtsECAFT/Lk2GOPjdd6UvvT+ROcIwiiMpDCQBuZIQTRKgfcmkONCAMAUpUj1WinnXaarlTHar9g11f2/RKt5eJVhPXrs++R0RwuyIx00XjhYsVINY+hMUetBOaysab9uuuuW75wFW1fqURVX+aUP/DAAzWW1CT9lfnloCNOuiMFgBoyzTHb6aXqPZXL+XsEARhpqK3YHY2zvAa76JgwD5lsBzqxfEY01hnBpNOflkMlwyWPhQ+nhKVNCUbR8Sc7hHoeaZku9mECAJVBAAKEDb1iRXPBtDAa8tlK3XR86eSwHTiuaKzTgeG2vG8TzhsEgbMjtvyf4AjnFY4ntgHnPo6vPARBsiulpPdz+OGHx2Xr0tKHnDsoGJpwvWSfYZpX6uzmWXa/J0jIIAHF/NgvsgXuWFKWIACj3mm7cL7Jw36ScJ3luku2WbZ4aFrmkgECgoZMFWHKQ3NdIcQAgFTFOKkSmaZhktJZ62qgVK73ztrgeVDf1MPaHpeni9PURgK5MFHAK6G4F50l9qMUKGBe2/PPP1/ITJG6cHwx4sUICJXTWVKTjhOpsGw/1p9vzP2KQkOMdDO6nx3ZJijAyANpiJXFLvOIaRg0zFPtA4IcfE4Et6iuTAOVBihffFZ5DYLUhUY489XJSiFIktYlT8d0CgIQIElBAO7LU0p3VmXAl1FcRrNJ403vlSAIq52QvpymSXFOzOM2qTxHUUuEzk2at51QAJH9p7al26r5+skACudLAmVZu+66azyn07nl2KGOSvrcqYeTsiHyllE1rccOS/sxNWLhhReutSYA2YMEzAme5GE/yaLNRJZDCpjRdiJoRiYI7atqaWO2DJKqBkG7rFlmmSXstNNO4Y033gi33HJLvK1Fixa1/l66/eqrrw577713GDlyZKh2kyZNKr+vsWPHxu8TJ06s8b0Sj6+8j+2YN8cdd1z47LPPyj8//PDDYamllgr9+vWr8f6PPPLIcMkll4QTTjghXHrppeHHH38Ms846a1hzzTVDy5Yt4zZu1apVKBLec6XZZ5897LHHHuH6668P66+/fujYsWM499xzw5AhQ0LPnj3D0KFDJ/udhtqvxo0bF2666aZw1FFHhQMPPDDMO++84YMPPggXXnhhfJ2bbrppfA98tm+99VbIM/bV7t27x8/m66+/jp/FxhtvHAYOHBiuueaacO+994ZDDjkk7sNPPfVUWGyxxUKRrhXLLLNMWG655cJXX30VFllkkfD888/H29kenAc6d+4cHnzwwXisr7322uHzzz+P93GezF438oL3iRdffDF+b9u2bfjll1/Czz//HN8r/2/Tpk046aSTwjvvvBOefPLJ8n6Wt23CNTOdo26//fZ4vUif/X/+8594+4QJE+L3TTbZJO4/L7zwwmTPU83Xz5VXXjl8+OGH8RqYfW9dunQJZ511VlhiiSXiOeWKK66I24Xtcffdd4cnnngi7iutW7cORZHaA+Da88c//jHMNddc4bDDDgujR48uP26XXXYJu+22WzyfLLzwwrnYT7K6du0aBg8eHHr16hV22GGH8Morr8Tt0bt373DZZZeFYcOGhUrN8r03dQRC0rSZUqT5vPPOiymbad3rrGw0kjVHWXYkW420WmXfF6OyzLViGzBnMY2I1hZ1zf4e87eoDJ43RN3JCqkcuU9LWzGvsRJpfdxHCl+RZfcPjhPSgAcPHhxHmhkBef/992uk13Mb25qCQI2FWh4sRUaKISOXjFaS+s8IBCMyFPAi5Z/Kw0WY954qMd9yyy1xlD+9Z/ZlUlUpeJcdicq7yirVzE9mBJeUZrZP//79J/sdqneTKdAcR6pmBqZ8HXnkkfH/fOd6weguBbmYErX77rtPtp45U6HyOrebiuxUK2d6AzUQOEbS9Bi2D2uYk+afsJ3IiEjFEPN0nJDKTYo/NYHIjgTZMJw7mB6SRri5nlIEj3Ms14Giyp5fKBzK9Y9zB8Vop/b4ajIx87orz4tMN6MuBhlEaUoV51CWCa2WZWUNAEjNHHPMshebM844I95GwbaEYiwUL0qp3enEVVvnvymXHWmo+Wi8L+ax0/lnPfvOnTuXq/VmT9zZ36MRzHxY0vnypPJiSzpedo7in/70p7gMWm3vm9uKnO6f3T+okTDvvPPGAj50EFg1Itvxpwggc0CZ69gUS2qy5jRTANj3qWWR1qBm7urmm2/ebAoNNSbOjaSlpulQFDOjKFNR03QJXu29996lUaNGlQtysSwlQQAartmU1i+//LL8c96CAGyTm2++OQY4ee90brOFMpnjzrHOdBEKxLKKBMc1RTWrtfMyNQwWkKZNsT+mymSr2zOfec8994zXieOOOy5Or+GcQgAgb9eH9PkyrYsgwA477FCe283yt6ygQhCA+gcUxKXifV6DQjMaBOAama2nkJf3d9VVV8Wih+wbBBLT6j8p8JyWy2T/2GSTTarmnGEAQGrGPvjgg1ipmTmtae4qS/kx0s3oBBFqCl7RcaHAE6OC2YIs2RMYF3kuaHnCPHUatNn3xRxXIrNUPU9L1dQVDMnj6H/CRYjRYRq9XJiylcApaFVXEAB5a+TVFw1AOgNpXiij6TRwWOM3rRvP6DKNQgoeNdWSmoxSpjm5qdHRu3fvWJ8gzV0uEhrmbdu2jZ8VyyJyjBehDkJdVaqZu8wc52yVaoIAjNZRGJCRXs6VPC5vnf7a0DjnfMgKEZU4rgnksZIEVe+b8rhuSNnrIKPZbA8CnOlame28kFnI/HiC6nvttVcut0cWGQ8EAQiopmAvgZG+ffvGQRcK6NImU2myfYWBGI4bltLMk+OPP77UoUOHWBiUYtucNyn8m4LMDARQh4cMPNrq6RiphiCAAQCpmWP9XTpwdGhTlJ7RGi5QFPpilIJlixj95jsVSLMnIJazoYGXh7T/LDIgCILw3niPCe+bjgBFrei4VTZYSN2iY5C3YEhdDT0a/IzykA6eDQIQMJp99tnL20i/YqSQBiDpoNmRY9YJp2NJqjAZOaThk0bbXAol8jmzdBmBvmpJQWwIpPAyekkg5M033ywV0d133x2zoBjVTGioZlNVadCmFSOqqdE6Iym8FC5jNJsgEWnvSXr/BM8ZGedYai7HdUNtD85fvE+K/VHQjOtoal9UBg+z58E8bI90beR6SPYk54m0ljvnD4IAHBe0vYooGySa2jkhez8DCnkKDt14442lxRdfvLxCCCuGsGoS7U7a20wN4digWCSDKs212n9dDABIzRAj/IxSZ0ckSddjdCLbiQMjXKR6EiAgmr///vvXuJ/OSna5krwgvZm0rFlnnTXObU3pWKkBQ7oijdwsotSkf+ZhGsS0SBdjpgDQMawMArD96ASoZho5c+k5nrIjp2C5P+YOs8Zv9r6m7jjRUCU7gQBg5fJ/RcTnkadK7fVFbRNGu9PINvUpqFLNSBaZAWwfGq6cJ9N2qpZG67TKHpPUhrjnnnvKU2II8hEEIAialV36rvI5ql32vTBd7tRTTy2PZnMuY6SfIEAKEoHpM9kaInk4ptJ7YACA9hTp/WRYkupPRlXKBOB4YcQ3uxpCHt5/fZBtyvKhUzsWKu/Ly3Fz/fXXx+Mkra5DzQyOCdqVrIhBBlXKBEiqKQBiAEBqZmiIMVpfmcrPaA7z8LhoZefrJVzECRoQvSaqnacLVuUFJY1QMFeR5XmYp81SLAnbjgt6Nh2NIkZc0NMFrSgqgwCs3ZsNAuTlYj096nrvdKBIZ2QUuXLZONL9SAdtTtuN0TzmLddWBFT5Vtt++K9//SsGg5kKQnE3vpP5xFxdAqaM/Gbl5TpR2/thDjvL2jGal4qUEfwgKEAQgAKaHOPM+SejLm/bohIBIOaxEwTJztfm3MG0B+4j24kAElMKq6lDM61oH80xxxxxegwDJIzsEhynU/f222+X21tkzlFDIzu4UBR87qS7s5zq1GSPGfapatxnJtVy3BMwJFuKpVJpT1544YXxds4jBI4oBsk0mWplAEBqxqhuTwNmSkGAbHoe0XvSk1JBsLw1cAlwMNpPJ5YGLbg4k/VAqhZZEhT+IoWbDlzlqNbYsWNLeVZX4zUbBKBRQyGsVPEZzakz21iy75lRUr6yxZ0YJWMaCfP9KjMBansOqbFl9z+CenRkU8E/in8yjYX01BQYouFKlepUxyLvSPlnKkRlBly6ZhJoZxpUt27dYgM/3Z7XIACdfrKbsgUQmRqSRvnp8Oyyyy4xe46ASF6nhrAKTlrHPWGVEN4z07xS1X+Ok8qMyyJInzfZDxSXfvDBB+t8bPZYIcC47rrr1igoWg0mZvZv2oh0+LOefvrp2OZO9WT4vvPOO8fBgGo+NgwASM0UJxYaMIzknHnmmZMFAejwptHJbMSVlG4qveetIUMghKgrc60oxsN2YTQjjYAyKsvoFtsmu8xd3lJbs+pz8Un7CPMd2UbVfOGa2dX+U3o0jZ3scmBklVDYh32uiA1BVcc+TJoqnbZlllkmpnGTupt9DMc+50hqyTCFJa/HfnpffOc9k/FFQBhcKyn6yvQdRnVTgU8Coc2plkdDIqjJSDcY+eY6ybmPkV7OcQkBo7xODQHtKQIhlQEf5rBnCy4XRV0j9hwbZIWwfDAqzxuVhZXJoKi2DMtJmfdAfRCKx5Ip2atXr/KSl7S5WV2G/YbgGYVTqTOTPb9WIwMAUjNRW2edRhsj3SxXd9ppp5Vv54REBJtlwEhRSu6777444pG34ldEoonApnWJSeGjGEu2gB3TAahuzVxGItFJnoIgdTn55JNj2vrUVDbm8ti4qw8CbCz/xf5F8SdqQ5AuzEhQttFM4Cm7T0nNqWYFaduM0jGaS/EyGuIpzZ8MKZY8peNPRy+vo7pZaW47mWCkMF988cWx4881k+3Dd35Oy3kl1dqQn5r0WZOuTIef5dqWX375ONrPtYNMQzLmKqeGVPs+Ute1n4AP0wZpW9FuSBjxp52RzZDIMzJFs9PG0jSh7JQH2hVzzjnnZEGRvC0xfcopp8TzKFlBtC8J/LOPkP3HlNLDDjssTq8lcLT22mvnIlvIAIDUDGQvtMxV5yvhZHz11VfHIAARyoSTFFH7bKOFiC2pbHmsak0kGqzDygWJ+XtgW7EcIGgAEwQgDY35/3ldCi27v1DMiHm+dGDr83tFx7ZgbnQaIUyYBkAHKmWXpCX/8to5UHXJHsP8nxFd5mxnC1VxvUj3E+RjVI79udqqVE8Piv2Rzk+j/d57741L5ZLZQyc3XScoish8/7ya0nme7ECmhtDZS4ESrh0Eh7IFAPMgdc5I2WaloHSNpPNGphcdOY4Vpj7QziIbjCmU1ZbCPj3IdiCwTWYlU0BoO1FPiSxKgmOsksFtFLkjkMbxU1txVYKL1b6q0scffxz3/zTVgXo6bIeUAZDOmQTI2IdSW6Daz6MGAKQmxMk0e7EmtZ3OKw0Y1iFP0WkuWFyoWrVqFUd8KnEiquZI5NRQ1Io1mtPFJjVwU4OP1NbUeCFrglEfMgHS0j55RaOGqQ+MUmNK+0D2PrYjKyIUSeW24ZiiyBVBgCRd2KnySypgZc0IgwBqTiNWjOjSiH/vvffiqGY2MMp5kNHdbKG3IuzDBEFY1z7N12V9+1T8LyEDYJ999inlUbY9ce2118aaOXTsUpAo7RsJbQyCSHT68hAgJvDPcqjpvTDtg4J/ZDhkpw0SINprr73iKC9tig022CDWx8nWgck7Vo+i48s2SdXsGUBiShG1QhhY4Fq45pprxn0kbdN0LWWqEduUbVzN/vOf/8T2JfsE76XyPMqxU1lgNw/nUQMAUjPBRYv0/auuuqr00EMPxVRkRr2Zq5c6LKRaccLNRibzpK4GCBF5OvRUbc5mQXByJlBCJy7bweP2yoZv3rBkEemcNG5o6Ce1BQEq0/VYCrHaL9ozUvAv7Rss6cPc6cGDB9d4PNV+KZRYxOrPav77MAX+GNVmqhdzUem8Ucwuzf1PjVqWk6XafRG2SfYcR5FYAnjZArkUdnvggQfi9B7m8+YhhXdaaubsu+++caUDBg843yUENwkCEwyh85OXqSHUNaCNROeWwA9BXgphUsOFUe/WrVvHKRBp4ITrAb9DJ6+21ZXyhvXrWfUgYV47nz9BgDSIkka2GZDi8YyGs00rp8G98cYbMTuzmmT37wn/34knzZ/zKdkxZFDRBk8ICHGMkBWQNwYApCZAVDV7MWaEm45IOsnQUKGTRhCAuXopVY+Udjpu1Z56NLUTM9FXGi0UcWKeP5FZLjQ03EhHY5SHizkNX7Zb2h48R7U3YOqSGqrZBitz7tgmzFerawpAZeefAjfVnK5XX9n336dPnzjSwz7FfjJ06NCYPbLDDjuUBg0aFB9D1gj7FR0rqblhrXqyflJjnDm6zFum05vt3NFoJf09DyNVU1N5PeS8SHr3q6++WqOzwigm15S8TYWoXDKYud2LLbZYecoD24MOXOoYJwSOWeo0L9sjneupzk6NIFL6WSEom8lFW6tNmzYxM4LU/yJhFSA6+tnAGBhUIeuU+9KKEAltTtoWFA5OSwKynavxvJJtG1599dXxfacsWwr+cnxwPGQHkij4Rxshj+1KAwBSI2POOg0zijKlkXxOsGmNUUYjSUWjs0ZElsIkjGak9WmTar9YT2nkgvdMZJpKrKx2wChGSmlk/iLFD+nI0ZhLF7NqvCBNb42Ir776qsYUCAIAdFhfeuml8u2VI1vM+az2uXozgos9lf4ffvjhcrpj6lAxH5jsGzIqSAnlK+8jhKo+LE9FlXKCw8xjT+c9asEwiseylZwT11prrRqjunk7N2bPh2Q4cL1k1C4Vb6NjR2CU60cW6c15q/a/2267xeK/2WAAU0PSSjjcR9CXn7mdTk52+le1VzLPvo9skPzWW2+NdZMYRElL3qbPnjYWmXNcM7P1loqEIFE2kzQbBKhtiWBWzWB7TkutoeYoex1npH/BBReMQYBU3JCMKYJCHB8MPhFkJQM3my2UtyCAAQCpCU5CpKYRTd1kk03Klezp1FF0hdtSSjcdFeZicVLKLk+WJ9kTM50xKq2mkQtGZSuLsaSULdKz87xUUW3bh0Y/ab1kPRBASiNcjPCQ6sicxmwQIKFxTNCkmqv0zsj2o+HPXMds8CNbf4P5fRTVZPuSCpqXETHlD3PbOUdSKyYd63TeCAQeffTRsVo1q1vkdR/ONsLJhmNlGN43jXUCfEylY7SfQB8dmhdffHGKz1HtaCukqUqpo0JnhpR3RnMpascqCKkTxzQ62hOMkid5CHKm98DnTkCM6TFkCZIJwJz2yvnrtC2oFVG55nsR8J7JcmOaGwVuK4MADMKk1aVSViXbjVoAnGeqOTuGQSSCQi+88EKN2zl2eCzHxWabbRZXyOBcktfzKAwASI0oG2UnkrrRRhvFkyrR6tThJ3UvRfQZyWDNYqqP5qnRAjpbqQGbLsp0UBnNTtX+GelKxVhI46NKa2Vl/zw0Xqa1oUeDhcg98/8XWWSReLFODRi2FyN/pKyR6petn3DAAQfE5W2KigAAy/eQ/lmJi35lkbA8jIgp30EARvuZy5yK3dUmb/tw9lzP6h3McSdTDnR2We2ATg3XkG7dusV5vSl4nLfrJ+ntzG3PBnkp7sogQjagTrA41TwhMMIoJ6sj5LFDQ/uBQDfZgynwwzYhCJCq2Gf3o+y2yrPa9n2CQWSPkEnJcZNQZJrBBApHZldDIGuEwBGDL9WYHZM+c1L8aQ+BrFr2D84XBMrSYytr/+TtPJoYAJCaACMWpB3T+aeTu8wyy5TnJXMy4qTMSCTZAHTq0gk8LyeiZ555JqZZsyZzds1d5vbTgWW+P9slW+2fkzOpWZVz1IqA98xFOV2gCISQzp8avwkNQi5ulRd8CmAVGcWd5p133vKoV7bxSyDu0ksvnWxNcKk5ozgV1wo6dIx2FgmdFEb7yRSrTOGm6j9ZAUwVo6AXlczzVhA2O42QEU3QnmB6CO2GVOWf6yydNoLGdNy4tpJ5mMfMOVbCYPAk22bITn8jCMAKAXkLBE1N9v2S6cYgU7qN42TnnXeeLAhAijzTLrMBN9og2bZatWbHsA8w3a9Pnz4xK5CaUn379o0DbbQRaCsVZVDJAIDUyLgY0zChABlp/6RakXJEqj8pa1SlJTBA5J7b8zr/iErWVPan4ZJGsYg4M/+fRktq2ICTOEWtmLNXhJNz5Xukgc9oVioQmV2mhsyINN8zK2/7y4winY/018cee6zG6D+pkBSKKsJ+pfwFAbhu0KlLc1nzjiKdXDfSsnbMV37yySdjA55rBtk+Cavp0LkhOwp5OMYrpxGSRZjeH502Mh9uvvnm8ug26dxcTwkOkDGW19ompP6z1F+qZF95DWR/YTukWktFQyeXAAmdXq53KZMyBQEIJmWnA6T9g21YbQNPdWXH8J4pqM39yy23XAz8k02ZllTmWMrWV8o7AwBSE6zfvN5665XnVaVGDA05LmBczInM09DJY6Q+W4GWlD1GMggCEBAB61lT1GnXXXeN883ICiAQkq32n7fGS1a2AA+pmuACTEOW0T4yI7iYJUwPIe2VBpDqRseAlOlU6ZfljciwKcKSYMovRsH322+/wgT8GMGkgBcr6dDxZ64uAXMy5bhu0KjPIsBHbZQ8TyOkU5fmZvNeySikOGI6r3FtJfCZfjdP7YmEdgJB8hQAyLavaFNwnWQaXGUx5SKgncWUQTr4HDdkE9JmyAYBaG8tu+yyMWiWVOP1sK7sGIpJk+WQ9v2xmZUhOC6o9M+S0tX4nqeXAQCpkaQTC3PfOQGnNL10kaYDR2Xa7Fwk5Klhl30vdG6JtnJxooBTNhOACzbbgYg1gZGiVPunkUawg9TNI488MnZWSdtjpJq0PFLUaOxnMyNI62Rt6zztJw2FY45GARd79rcjjjgi10V+VAzZ0boi4Bgmi45pUIxwp+AnnV8yAbLbgmrejJRX1o7J2zRCOjipyGsKAjDqXbnUXV6vn2TAMP+fTK9KXEtJB8/re69UeR6g+C3LhabrHJ18aogQNEtF8liCutq30dSyYxhgIzsmLf03duzYGDii/ZldNaUoQQADAFIjI527VatWpdNOO63G7ffff3+MQHIBy2NDrnI9duZhpfl6RKYZjaVBkyrbk8JI55dpAXnMhKgNhYsY6SddkwYuoxYJczjZP0jj3GOPPeI2JMpNZkRep4k0lMrOQN73K+VfURqt2Yye999/v/wz5z6Wy2WEM2Hke9FFFy1fU/I+jZCBBernYJ999omPqa3waV5dd911pdatW8el7Ch4yGg/AaK55567xrW0KOcBpglSEJG2FXUzste7tEoGq4nkpejdtGbHEAT46aefYm0ggh7UTSriQIABAKkJMD+JCxWjuixHwpI9jOJS2bjaT8LTWsCJ950tTkfDhUYMhQGZ21q0Bm56f+wD7Bss95edr55GOajGy4WNeXvsP0W8cCXZgEcayZiW/SR7bBk0kaoXI9xPP/10aZtttqkxTSzJVjLP+zRCsgHImktBADp/eW1H1IbtQZo/gY+FF144LpdJh6+29kQeZa9lzPknQ4b9hH2C7cC00oT94pFHHonTaZhamKc21tSyY5jqMGDAgLgNyAJI77tIxwpa8E+Q1Oj++c9/hj/+8Y+hTZs28ef5558/PP/886F169YE5kKLFi1C3nz99ddhl112Cfvuu2/YY489wn/+85/w/vvvhwEDBoTu3buHYcOGhaeffjp899134YYbbghLLLFEKIpJkyaFli1bhjvvvDN+v/LKK0Pbtm3jPrL11ltP8XcnTpwYZpllllAkaXuBbcW+dMIJJ4T27dtP8ffyemxJRcOx/OSTT4aLL744/PLLL+Hee++N10/Ohxzj6fyQF+ncdd5558X2w1NPPRVmm222+N55348++mj43e9+FxZeeOFw9dVXh9/+9reFvD6MHDkyDB8+PG6rxRZbLHTq1CkUyahRo8Kxxx4bjj766LDsssuGt99+O+y3335xe7DPtGvXLj5uwoQJ4dVXXw2rrrpqbvaPm2++ORx55JHhkUceCV27dg3jx4+P7c1vvvkm9O3bNx4f/Hz33XeHO+64I2y++eaFbRcYAJCa+EJFx+WHH34IG2ywQTwJc1Ju1apVyCNOwiussEK8GHHipZFCp5/O3GeffRbOOOOM2Ol94YUXwp///OfcNeCm1Imt/Nyfe+650KdPnzD77LOHQw89NGy55Zbx9uuvvz5ewPK+baYVDZ1bb701nH766TGIRIOvrgt69rYrrrgizDfffGH33XdvktctacbRwKeDs/LKK8dzYp6vn8lbb70VVlllldihOfXUU8u3P/DAA+Evf/lLvMaeeeaZXiMK6LrrrgtHHXVUWHrppePACt/x5ptvxkEX9gmCAHPNNVeN38tLkIjjgUAY75FrPV+0sXfYYYfw5ZdfhksvvTQGAc4666zYvsrDe55eBgCkZiQvJ+GpXaDotPFeDz744LDZZpvFjhsXJ0Yzrr322lo7yHmTfW/9+vWLkfixY8eGHXfcMQZH5pxzzpgRwkWKBi3biYvaiy++GANHed0u9XHTTTfFUf9BgwaFNdZYI97GJY3tWJkJkO38//Wvf42ZFX/7299iRoqk6pfn60WlG2+8MfTq1SscccQRYeeddw7zzjtvOPzww8NKK60Uzj333MK0J1TTF198EYPaZMY8/vjjYf31168RONprr71ihsCHH34YBxfywuyY+jMAIKnRjRgxIo7cLLXUUuWGG53eNddcM5xzzjmhSOjAEhTZf//9w3vvvRc79xtttFEc3aET+9JLL8Wo9UcffRTmnnvucpprEVPWKhFIInPk73//exwFfOKJJ2Ln/ttvv4370W677Ra3E9K2YoTsuOOOiw3o3//+9038DiRp+hRxGqGmHvBipHubbbaJUykJji+55JLl+xhooD1BJmEeO75mx0w7AwCSmsz3338fL0jnn39+nLP38ssv5z59M9sw4yJ89tlnh4EDB4bVVlstdu633377OG+PCDVpaszXY+oEvzfPPPPE3y1Cmmtd2y27/Zj7z7SRXXfdNUb8CSituOKKcXv1798/Ti/p2LFj+Tm4jaAB271nz55N+G4kacYVbRqhwmQj12+88Ub8zLnWLbTQQvG2r776KmyxxRZh3Lhxcb57NghQ23Pkidkx08YzhKQmQUeO0e1UwGno0KGx0ZL3E3PqvBL8YB7ennvuGTv/XKTJAiA6z6g2WQGM5Jxyyimx45+N+hetcZcd6WB0Y9ZZZ437CNvuv//9bwycHHjggXGaxDLLLBOGDBkS96dsfJuaEieddFKcNsB8QEmqdgsuuGD8Srh+Fu36UCRc7+jQpjYS7QNq4KT0f2rbkOreoUOH8OCDD8YgAMHu22+/PXTr1q3Gc+W1nUWNJNpWZMfcdttt5ewY2ligXTBLTt97fZgBIKnJFLGAE0hZZ8SaFLX0vrfaaqs4P++YY46JIzrMaWdbELn+05/+FIoqO+JPWv/DDz8cgwA0eknlW2uttcKPP/5Yns9IMIkGEL9z3333xe9jxoyJhRRZTYFsAUmSqgkj2FzD0ij2aaedFrPaCGoT/Kb9QMo/6e8HHXRQnDJIwIABhg033DDccsstoUjMjpkyt4KkJkPFf5agyfvIduV8TJY+ZKUDitVRpZdiPfw/Vfonkk/xHi7qBxxwQCiitM3Sdjv55JPDNddcE+f407BhNJ/ikRQzYpknLvKDBw8OV111VZwCwPZNUwaopcDvUlhRkqRqwlQ3rmdMGcQnn3wSMyiZ10474Z577gn3339/2GSTTcLxxx8fH0NGISvdvP7664W89pkdM2VWQZDULOS1KEu28//111/H74z8E43u3bt3/Jl5/gRDSGV/9913Y1rfHHPMEdPa2S5cuIomGzAhkv/YY4/FzAkK99HZf+edd8IFF1wQO/9sYwoecRtpjqyUwPQJov3peYrYAJIkVT+y2Oi80h6gcDD1b1jBpkePHuHpp5+O6e4ECUhz32mnnWK2HNPeuC4SAKe9UcR2RJZp/zU5BUCSGgEX5H//+9/hkEMOiRV66ejTmWUpRNLTSfVnzh7p7F26dAnPPPNMIas5M5rBHD6WhUxYHWGdddaJ3xn1oLDPhRdeGLfdTz/9FEdB9tlnn1gNm6kAbK+815KQJOVbuv7THqCwHW0CCiZT7Z6OPYHtP/zhD3HqG9dB7j/ssMNiW4NrIcGBIrUfNO3yOeQmSc0InVFWO/jXv/4Vl6YjfZ2OK8XoWLZp9OjR4aKLLgp33nlnLNZDEbvKEewiIHV/xx13jCMYWYzyM4eRbcSoB4Uj6fyDSv9MoXjllVdi1kRK+7fzL0mqZun6z5TARRZZJFb8X2+99WK1fzr/DBh88MEH8dpHmwHMe7/hhhvKnX/HeVUbJ0NIUgOjM8rI/2yzzRbWXnvtcMcdd8TiPGmu+l133RWnA1Dkp8jz1VjtgNEMMMLPqMaJJ54Y5/xT+ZjbWNqHkZC0kgIFEqkfsfHGG5efp0hBE0lSvjF9kA7+6aefHivbswLO3/72tzjKT3CAwoA8hmlwFFdefvnlJ1s2V8pyCoAkNRCW9OMUe/TRR8dOKnP6uRj369cvzmcnQs9yf6BQzworrBCKKpuyT4Gja6+9NlxyySVx6sSRRx4Zb6foHyP+VPRlWR+CJwRRWPKPxlF2uUBJkvJ0jeT6xug+wXAKKA8YMCDex4o4dP6ZFsDcf66HToPTlBRreEmSGgmj16TnUfCPonRU86eC/Zprrhkuu+yycOyxx8bpAKxXy3y+ZZddNhRZaqhQwZhMCWoA8J2CiEyFYKT/kUceiduThs7HH38cRz4YESFTwuV9JEl5v0YyDY6BhPPPPz9eJ2+99da4Sg4j/xQThtdDTY0ZAJLUgOjcc3FmXh5peZtuumms1NunT5+4Pi9Sml4RI/bZFEVqH9C4oRbCGmusEZdDJFuCuf8EAggCoHKkv4jbTZJUTKyEM3DgwHhtpGgw9YWk+jA8JEkNiE5///79Y7o/6exE6xn1X3nllcsBgCIXrkud/8svvzzOYSQrgs4/OnbsWK4JcNZZZ8W0RmoAVKb5F3G7SZKKiaJ/FMslEEDFf6e/qb7MAJCkRtS3b984t32ttdaK1ev1q549e8ZiiKxrfM8998Ql/RJWSWD6BFkArJJQuUqAJElFM27cuJj2TyDdIIDqwwCAJDVyqjvF61ZfffU4cl3EKr21vWdqJlDs7/rrr4+pjdtss02N+z///PMwePDgsNdeezm3UZKk/1fEdoRmjAEASWqii3QR565nRymo4P/TTz+FBRdcsHz/7rvvHucz/vOf/wy//e1va30OCxxJkiRNH3NFJKmRVEboi9b5JwCSOv9U72eUn9UPdt5553DNNdfE21nWaIsttgg77rhjnVMk7PxLkiRNHwMAkqQGlRLNUgCEzj9rFR900EHxO6699tpw2mmnxf///e9/j8EBVkwYOnRoE75ySZKkfHEYRZLUYKhSTMXiNN0hzeW/8sorY8V/bLbZZnGlhHvvvTcWR9xyyy3DDTfcEJZccsm4WoIkSZJmDjMAJEkN4sQTT4yj+Mz1T9MdCAZ88cUX4csvvyw/jhoAvXv3joUAn3vuuXgbj6fqP+n+zPmXJEnSjDMAIElqkLT/JZZYIrRu3TrsvffeMQgAOvmLLLJIePPNN8OPP/5Ynh4w//zzh1VWWSV89NFH5dsS5/xLkiTNHAYAJEkzHfP999tvv/DHP/4xfP3112HPPfeM3+ebb75w+OGHxzn/F110Ufj222/j41kN4P333w9du3Z1OSNJkqQG4jKAkqQGW/KQZf9uu+22cNVVV4X27duHm2++OXTo0CHO8e/Vq1fYZJNNwmyzzRYDAf/973/Dq6++6oi/JElSAzEAIEma6R3/LAoAEgS4+uqrYxDglltuiZkATzzxRHj44YfDf/7zn7DwwgvHVQDSnH+DAJIkSTOfAQBJ0kzBaH/Llr/OLPvkk09C27ZtYzCgc+fOsVNPEOCaa66pkQlQ2dlPqwVIkiRp5rMGgCRppnb+zzjjjLDzzjuHddZZJ9YBGDRoUOzk77rrruGQQw4JY8eOjbd/9dVXk4302/mXJElqOAYAJEkzLHX+WbrvyiuvDH379o3z/Nu0aRMLAN5xxx01ggAU/Dv//POb+mVLkiQVipMsJUkzZc7/U089Fe6///5w1113hfXWWy8MHjw4PP7442G11VYLBxxwQBzd79mzZ8wOIP2/e/fuTf3yJUmSCsUMAEnSdKf9p87/999/H5ZddtmwxRZbhHXXXTc89NBDYZ999gkXXnhhzARYfPHFw9577x1uuumm0Lp169CjR48YEGDOvyRJkhqHRQAlSTM05//iiy8OH374YejTp0/o2LFjmHXWWeMo/2KLLRbOO++8GCTg57feeitW+yczAJWrBUiSJKlhmQEgSaq31Pk//vjj41z+DTfcMAYF6PyPGTMmvPzyy2GeeeaJnfzvvvsuPpZgAJ1/brPzL0mS1PisASBJmi6PPvpoGDhwYHnOf9KuXbuY4t+/f/8wbty4WAeA71tttVXs+GezByRJktR4DABIkqbLiBEjwuyzzx6WX375yYoC7rXXXvG+Bx54IHTt2jUMGDAgzvm38y9JktR0DABIkuoldfJ/+umnGkX8uD3dN2rUqLDHHnvEtH86/Nw2YcKEuBSgJEmSmobDMJKkeknz9zfZZJPwwQcfhMsuu6x8O5195vxT+f/pp5+Oo/7cTmDAzr8kSVLTchUASdJ0Y57/oYceGg455JCwzTbbhDZt2oRzzjknZgAMHTrUTr8kSVIzYgBAkjTduIQMGjQoHH744XE6wNxzzx0WWmihcN9994XWrVvH28gCkCRJUtMzACBJmmFfffVVXP6PIn9LLLFEnArgnH9JkqTmxQCAJGmms9q/JElS82MAQJIkSZKkAnB4RpIkSZKkAjAAIEmSJElSARgAkCRJkiSpAAwASJIkSZJUAAYAJEmSJEkqAAMAkiRJkiQVgAEASZLUIE477bSwyiqrNPXLkCRJ/88AgCRJqtWoUaPCYYcdFhZffPHQtm3b0KVLl7DtttuGRx99tKlfmiRJmg6tpueXJElSvn3yySdhvfXWC3PPPXe48MILw4orrhh++eWX8OCDD4bevXuHd999t6lfoiRJqiczACRJ0mT++Mc/hhYtWoQXXngh9OzZMyy99NJh+eWXD0cffXR47rnn4mNGjBgRfve734U555wztGvXLuy8885h9OjRdT7nxhtvHI488sgat22//fZh3333Lf+86KKLhrPOOivsvffe8Xm7du0aBg0aFL788svy31pppZXCSy+9VP6dG2+8MQYqCE4su+yy8TFbbLFF+Pzzz8uPeeKJJ8Kaa64Z5phjjvhYghvDhw+fyVtNkqTmzQCAJEmq4euvvw6DBw+OI/10mCvRgZ40aVLskPPYJ598Mjz88MPh448/DrvssssM//1LL700dtBfeeWVsPXWW4e99torBgT23HPP8PLLL4clllgi/lwqlcq/8+OPP4aLLroo3HLLLeGpp56KwYk//elP8b4JEybEQMNGG20UXn/99fDss8+GXr16xQCHJElF4hQASZJUw4cffhg71926davzMdQBeOONN8KwYcNibQDcfPPNMUvgxRdfDGusscZ0//2tttoq/OEPf4j/P+WUU8I111wTn2+nnXaKtx1//PFhnXXWidkGnTt3jrcxPaFfv34xOIBDDz00nHHGGfH/Y8eODWPGjAnbbLNN+X4yBSRJKhozACRJUg3ZkfW6vPPOO7Hjnzr/WG655WJ2APfNCFL8k06dOsXv1CCovO2LL74o3zb77LOXO/dYYIEFyvfPO++8cZpBjx49YhHDyy+/vMb0AEmSisIAgCRJqmGppZaK6fEzu9Bfy5YtJwsuMHJfqXXr1uX/pzT92m5jGkJtv5Mek/1bN9xwQ0z9X3fddcPtt98eaxqkWgaSJBWFAQBJklQDI+aMll911VXhhx9+mOz+b7/9NqbQf/rpp/Erefvtt+N9ZALUZv75568x8j5x4sTw5ptvhsay6qqrhj59+oQhQ4aEFVZYIQwYMKDR/rYkSc2BAQBJkjQZOv900Kmc/89//jN88MEHMbX/z3/+c5x/371795iWv8cee8TCfKwWQGE+Cu395je/qfU5f/vb34b7778/fpFdcMghh8SAQUOjTgEdfzIAqPz/0EMPxfdjHQBJUtFYBFCSJE1m8cUXjx37s88+OxxzzDFx5J4R/NVXXz0W5SPF/p577gmHHXZY2HDDDWN6P0vvXXHFFXU+5/777x9ee+21GCho1apVOOqoo8Imm2zS4O+F+gAEHG666abw3//+N9YHYIWDVGhQkqSiaFGalko/kiRJkiSpqjkFQJIkSZKkAjAAIEmSJElSARgAkCRJkiSpAAwASJIkSZJUAAYAJEmSJEkqAAMAkiRJkiQVgAEASZIkSZIKwACAJEmSJEkFYABAkiRJkqQCMAAgSZIkSVIBGACQJEmSJKkADABIkiRJkhTy7/8Ag1k+2yn7e80AAAAASUVORK5CYII=",
            "text/plain": [
              "<Figure size 1200x600 with 1 Axes>"
            ]
          },
          "metadata": {},
          "output_type": "display_data"
        }
      ],
      "source": [
        "# Visualize distribution for outliners\n",
        "import matplotlib.pyplot as plt\n",
        "import seaborn as sns\n",
        "\n",
        "# Select only numerical columns\n",
        "numerical_cols = df.select_dtypes(include=['int64', 'float64']).columns\n",
        "df_numeric = df[numerical_cols]\n",
        "\n",
        "# Convert to long format\n",
        "df_melted = df_numeric.melt(var_name='Columns', value_name='Value')\n",
        "\n",
        "# Plot single boxplot\n",
        "plt.figure(figsize=(12, 6))\n",
        "sns.boxplot(x='Columns', y='Value', data=df_melted)\n",
        "plt.xticks(rotation=45)\n",
        "plt.title(\"Boxplot for all numerical features (1st–99th percentile)\")\n",
        "plt.show()"
      ],
      "metadata": {
        "colab": {
          "base_uri": "https://localhost:8080/",
          "height": 654
        },
        "id": "_vwGhldXDLUh",
        "outputId": "7659b094-ffd3-4244-e66c-6ecf726ba4bc"
      },
      "execution_count": 3,
      "outputs": [
        {
          "output_type": "display_data",
          "data": {
            "text/plain": [
              "<Figure size 1200x600 with 1 Axes>"
            ],
            "image/png": "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\n"
          },
          "metadata": {}
        }
      ]
    },
    {
      "cell_type": "code",
      "execution_count": 5,
      "metadata": {
        "colab": {
          "base_uri": "https://localhost:8080/"
        },
        "id": "ukiDactPHPx4",
        "outputId": "12c0ba92-8a23-4145-ec3d-fdff7bd67f74"
      },
      "execution_count": 4,
      "outputs": [
        {
          "name": "stdout",
          "output_type": "stream",
          "text": [
            "\n",
            "Statistics after scaling:\n",
            "         daily_steps  calories_consumed\n",
            "count  100000.000000      100000.000000\n",
            "mean        0.001250           0.000245\n",
            "std         0.577224           0.579532\n",
            "min        -0.996632          -1.007179\n",
            "25%        -0.498842          -0.500359\n",
            "50%         0.000000           0.000000\n",
            "75%         0.501158           0.499641\n",
            "max         1.003263           1.002154\n"
          ]
        }
      ],
      "source": [
        "# Scaling outliners 'daily_steps' and 'calories_consummed'\n",
        "from sklearn.preprocessing import RobustScaler\n",
        "\n",
        "scaler = RobustScaler()\n",
        "df[['daily_steps', 'calories_consumed']] = scaler.fit_transform(df[['daily_steps', 'calories_consumed']])\n",
        "df_scaled = df.copy()\n",
        "print(\"\\nStatistics after scaling:\")\n",
        "print(df_scaled[['daily_steps', 'calories_consumed']].describe())"
      ]
    },
    {
      "cell_type": "markdown",
      "metadata": {
        "id": "5Gk75xjLEYu2"
      },
      "source": [
        "## Feature Influence on `disease_risk`\n",
        "\n",
        "We visualized how each feature affects `disease_risk` using an **interactive horizontal bar chart**:\n",
        "- **Red bars (↑ Increases Risk)** → features that increase disease risk.\n",
        "- **Blue bars (↓ Decreases Risk)** → features that reduce disease risk.\n",
        "- **Bar length** → relative influence (%) of each feature.\n",
        "\n",
        "This chart provides a **clear, intuitive view of both the direction and magnitude of influence**, helping identify the most important risk and protective factors."
      ]
    },
    {
      "cell_type": "code",
      "execution_count": 6,
      "metadata": {
        "colab": {
          "base_uri": "https://localhost:8080/",
          "height": 717
        },
        "id": "objd3xmjEZbJ",
        "outputId": "281b487c-b44f-4f3e-d0e4-2b271f4c83ef"
      },
      "outputs": [
        {
          "data": {
            "application/vnd.plotly.v1+json": {
              "config": {
                "plotlyServerURL": "https://plot.ly"
              },
              "data": [
                {
                  "hovertemplate": "Direction=↓ Decreases Risk<br>Influence (%)=%{text}<br>Feature=%{y}<extra></extra>",
                  "legendgroup": "↓ Decreases Risk",
                  "marker": {
                    "color": "#1f77b4",
                    "pattern": {
                      "shape": ""
                    }
                  },
                  "name": "↓ Decreases Risk",
                  "orientation": "h",
                  "showlegend": true,
                  "text": {
                    "bdata": "Y4YH2buAJkBVS91vCo0lQEtijibbqiNAn8Lzpiy4FUA=",
                    "dtype": "f8"
                  },
                  "textposition": "outside",
                  "texttemplate": "%{text:.2f}%",
                  "type": "bar",
                  "x": {
                    "bdata": "Y4YH2buAJkBVS91vCo0lQEtijibbqiNAn8Lzpiy4FUA=",
                    "dtype": "f8"
                  },
                  "xaxis": "x",
                  "y": [
                    "cholesterol",
                    "diastolic_bp",
                    "daily_steps",
                    "water_intake_l"
                  ],
                  "yaxis": "y"
                },
                {
                  "hovertemplate": "Direction=↑ Increases Risk<br>Influence (%)=%{text}<br>Feature=%{y}<extra></extra>",
                  "legendgroup": "↑ Increases Risk",
                  "marker": {
                    "color": "#d62728",
                    "pattern": {
                      "shape": ""
                    }
                  },
                  "name": "↑ Increases Risk",
                  "orientation": "h",
                  "showlegend": true,
                  "text": {
                    "bdata": "DLRYjKqL9z+XGRV7n8wIQM5EbJhosAlAaKQ8y14WE0BP651TGn0dQCGEJARbQh9AEUKmXelqIkACVZNijnkkQJhb7hQvCy9A",
                    "dtype": "f8"
                  },
                  "textposition": "outside",
                  "texttemplate": "%{text:.2f}%",
                  "type": "bar",
                  "x": {
                    "bdata": "DLRYjKqL9z+XGRV7n8wIQM5EbJhosAlAaKQ8y14WE0BP651TGn0dQCGEJARbQh9AEUKmXelqIkACVZNijnkkQJhb7hQvCy9A",
                    "dtype": "f8"
                  },
                  "xaxis": "x",
                  "y": [
                    "alcohol",
                    "systolic_bp",
                    "smoker",
                    "age",
                    "sleep_hours",
                    "calories_consumed",
                    "family_history",
                    "bmi",
                    "resting_hr"
                  ],
                  "yaxis": "y"
                }
              ],
              "layout": {
                "barmode": "relative",
                "height": 700,
                "legend": {
                  "title": {
                    "text": "Effect Direction"
                  },
                  "tracegroupgap": 0
                },
                "template": {
                  "data": {
                    "bar": [
                      {
                        "error_x": {
                          "color": "#2a3f5f"
                        },
                        "error_y": {
                          "color": "#2a3f5f"
                        },
                        "marker": {
                          "line": {
                            "color": "white",
                            "width": 0.5
                          },
                          "pattern": {
                            "fillmode": "overlay",
                            "size": 10,
                            "solidity": 0.2
                          }
                        },
                        "type": "bar"
                      }
                    ],
                    "barpolar": [
                      {
                        "marker": {
                          "line": {
                            "color": "white",
                            "width": 0.5
                          },
                          "pattern": {
                            "fillmode": "overlay",
                            "size": 10,
                            "solidity": 0.2
                          }
                        },
                        "type": "barpolar"
                      }
                    ],
                    "carpet": [
                      {
                        "aaxis": {
                          "endlinecolor": "#2a3f5f",
                          "gridcolor": "#C8D4E3",
                          "linecolor": "#C8D4E3",
                          "minorgridcolor": "#C8D4E3",
                          "startlinecolor": "#2a3f5f"
                        },
                        "baxis": {
                          "endlinecolor": "#2a3f5f",
                          "gridcolor": "#C8D4E3",
                          "linecolor": "#C8D4E3",
                          "minorgridcolor": "#C8D4E3",
                          "startlinecolor": "#2a3f5f"
                        },
                        "type": "carpet"
                      }
                    ],
                    "choropleth": [
                      {
                        "colorbar": {
                          "outlinewidth": 0,
                          "ticks": ""
                        },
                        "type": "choropleth"
                      }
                    ],
                    "contour": [
                      {
                        "colorbar": {
                          "outlinewidth": 0,
                          "ticks": ""
                        },
                        "colorscale": [
                          [
                            0,
                            "#0d0887"
                          ],
                          [
                            0.1111111111111111,
                            "#46039f"
                          ],
                          [
                            0.2222222222222222,
                            "#7201a8"
                          ],
                          [
                            0.3333333333333333,
                            "#9c179e"
                          ],
                          [
                            0.4444444444444444,
                            "#bd3786"
                          ],
                          [
                            0.5555555555555556,
                            "#d8576b"
                          ],
                          [
                            0.6666666666666666,
                            "#ed7953"
                          ],
                          [
                            0.7777777777777778,
                            "#fb9f3a"
                          ],
                          [
                            0.8888888888888888,
                            "#fdca26"
                          ],
                          [
                            1,
                            "#f0f921"
                          ]
                        ],
                        "type": "contour"
                      }
                    ],
                    "contourcarpet": [
                      {
                        "colorbar": {
                          "outlinewidth": 0,
                          "ticks": ""
                        },
                        "type": "contourcarpet"
                      }
                    ],
                    "heatmap": [
                      {
                        "colorbar": {
                          "outlinewidth": 0,
                          "ticks": ""
                        },
                        "colorscale": [
                          [
                            0,
                            "#0d0887"
                          ],
                          [
                            0.1111111111111111,
                            "#46039f"
                          ],
                          [
                            0.2222222222222222,
                            "#7201a8"
                          ],
                          [
                            0.3333333333333333,
                            "#9c179e"
                          ],
                          [
                            0.4444444444444444,
                            "#bd3786"
                          ],
                          [
                            0.5555555555555556,
                            "#d8576b"
                          ],
                          [
                            0.6666666666666666,
                            "#ed7953"
                          ],
                          [
                            0.7777777777777778,
                            "#fb9f3a"
                          ],
                          [
                            0.8888888888888888,
                            "#fdca26"
                          ],
                          [
                            1,
                            "#f0f921"
                          ]
                        ],
                        "type": "heatmap"
                      }
                    ],
                    "histogram": [
                      {
                        "marker": {
                          "pattern": {
                            "fillmode": "overlay",
                            "size": 10,
                            "solidity": 0.2
                          }
                        },
                        "type": "histogram"
                      }
                    ],
                    "histogram2d": [
                      {
                        "colorbar": {
                          "outlinewidth": 0,
                          "ticks": ""
                        },
                        "colorscale": [
                          [
                            0,
                            "#0d0887"
                          ],
                          [
                            0.1111111111111111,
                            "#46039f"
                          ],
                          [
                            0.2222222222222222,
                            "#7201a8"
                          ],
                          [
                            0.3333333333333333,
                            "#9c179e"
                          ],
                          [
                            0.4444444444444444,
                            "#bd3786"
                          ],
                          [
                            0.5555555555555556,
                            "#d8576b"
                          ],
                          [
                            0.6666666666666666,
                            "#ed7953"
                          ],
                          [
                            0.7777777777777778,
                            "#fb9f3a"
                          ],
                          [
                            0.8888888888888888,
                            "#fdca26"
                          ],
                          [
                            1,
                            "#f0f921"
                          ]
                        ],
                        "type": "histogram2d"
                      }
                    ],
                    "histogram2dcontour": [
                      {
                        "colorbar": {
                          "outlinewidth": 0,
                          "ticks": ""
                        },
                        "colorscale": [
                          [
                            0,
                            "#0d0887"
                          ],
                          [
                            0.1111111111111111,
                            "#46039f"
                          ],
                          [
                            0.2222222222222222,
                            "#7201a8"
                          ],
                          [
                            0.3333333333333333,
                            "#9c179e"
                          ],
                          [
                            0.4444444444444444,
                            "#bd3786"
                          ],
                          [
                            0.5555555555555556,
                            "#d8576b"
                          ],
                          [
                            0.6666666666666666,
                            "#ed7953"
                          ],
                          [
                            0.7777777777777778,
                            "#fb9f3a"
                          ],
                          [
                            0.8888888888888888,
                            "#fdca26"
                          ],
                          [
                            1,
                            "#f0f921"
                          ]
                        ],
                        "type": "histogram2dcontour"
                      }
                    ],
                    "mesh3d": [
                      {
                        "colorbar": {
                          "outlinewidth": 0,
                          "ticks": ""
                        },
                        "type": "mesh3d"
                      }
                    ],
                    "parcoords": [
                      {
                        "line": {
                          "colorbar": {
                            "outlinewidth": 0,
                            "ticks": ""
                          }
                        },
                        "type": "parcoords"
                      }
                    ],
                    "pie": [
                      {
                        "automargin": true,
                        "type": "pie"
                      }
                    ],
                    "scatter": [
                      {
                        "fillpattern": {
                          "fillmode": "overlay",
                          "size": 10,
                          "solidity": 0.2
                        },
                        "type": "scatter"
                      }
                    ],
                    "scatter3d": [
                      {
                        "line": {
                          "colorbar": {
                            "outlinewidth": 0,
                            "ticks": ""
                          }
                        },
                        "marker": {
                          "colorbar": {
                            "outlinewidth": 0,
                            "ticks": ""
                          }
                        },
                        "type": "scatter3d"
                      }
                    ],
                    "scattercarpet": [
                      {
                        "marker": {
                          "colorbar": {
                            "outlinewidth": 0,
                            "ticks": ""
                          }
                        },
                        "type": "scattercarpet"
                      }
                    ],
                    "scattergeo": [
                      {
                        "marker": {
                          "colorbar": {
                            "outlinewidth": 0,
                            "ticks": ""
                          }
                        },
                        "type": "scattergeo"
                      }
                    ],
                    "scattergl": [
                      {
                        "marker": {
                          "colorbar": {
                            "outlinewidth": 0,
                            "ticks": ""
                          }
                        },
                        "type": "scattergl"
                      }
                    ],
                    "scattermap": [
                      {
                        "marker": {
                          "colorbar": {
                            "outlinewidth": 0,
                            "ticks": ""
                          }
                        },
                        "type": "scattermap"
                      }
                    ],
                    "scattermapbox": [
                      {
                        "marker": {
                          "colorbar": {
                            "outlinewidth": 0,
                            "ticks": ""
                          }
                        },
                        "type": "scattermapbox"
                      }
                    ],
                    "scatterpolar": [
                      {
                        "marker": {
                          "colorbar": {
                            "outlinewidth": 0,
                            "ticks": ""
                          }
                        },
                        "type": "scatterpolar"
                      }
                    ],
                    "scatterpolargl": [
                      {
                        "marker": {
                          "colorbar": {
                            "outlinewidth": 0,
                            "ticks": ""
                          }
                        },
                        "type": "scatterpolargl"
                      }
                    ],
                    "scatterternary": [
                      {
                        "marker": {
                          "colorbar": {
                            "outlinewidth": 0,
                            "ticks": ""
                          }
                        },
                        "type": "scatterternary"
                      }
                    ],
                    "surface": [
                      {
                        "colorbar": {
                          "outlinewidth": 0,
                          "ticks": ""
                        },
                        "colorscale": [
                          [
                            0,
                            "#0d0887"
                          ],
                          [
                            0.1111111111111111,
                            "#46039f"
                          ],
                          [
                            0.2222222222222222,
                            "#7201a8"
                          ],
                          [
                            0.3333333333333333,
                            "#9c179e"
                          ],
                          [
                            0.4444444444444444,
                            "#bd3786"
                          ],
                          [
                            0.5555555555555556,
                            "#d8576b"
                          ],
                          [
                            0.6666666666666666,
                            "#ed7953"
                          ],
                          [
                            0.7777777777777778,
                            "#fb9f3a"
                          ],
                          [
                            0.8888888888888888,
                            "#fdca26"
                          ],
                          [
                            1,
                            "#f0f921"
                          ]
                        ],
                        "type": "surface"
                      }
                    ],
                    "table": [
                      {
                        "cells": {
                          "fill": {
                            "color": "#EBF0F8"
                          },
                          "line": {
                            "color": "white"
                          }
                        },
                        "header": {
                          "fill": {
                            "color": "#C8D4E3"
                          },
                          "line": {
                            "color": "white"
                          }
                        },
                        "type": "table"
                      }
                    ]
                  },
                  "layout": {
                    "annotationdefaults": {
                      "arrowcolor": "#2a3f5f",
                      "arrowhead": 0,
                      "arrowwidth": 1
                    },
                    "autotypenumbers": "strict",
                    "coloraxis": {
                      "colorbar": {
                        "outlinewidth": 0,
                        "ticks": ""
                      }
                    },
                    "colorscale": {
                      "diverging": [
                        [
                          0,
                          "#8e0152"
                        ],
                        [
                          0.1,
                          "#c51b7d"
                        ],
                        [
                          0.2,
                          "#de77ae"
                        ],
                        [
                          0.3,
                          "#f1b6da"
                        ],
                        [
                          0.4,
                          "#fde0ef"
                        ],
                        [
                          0.5,
                          "#f7f7f7"
                        ],
                        [
                          0.6,
                          "#e6f5d0"
                        ],
                        [
                          0.7,
                          "#b8e186"
                        ],
                        [
                          0.8,
                          "#7fbc41"
                        ],
                        [
                          0.9,
                          "#4d9221"
                        ],
                        [
                          1,
                          "#276419"
                        ]
                      ],
                      "sequential": [
                        [
                          0,
                          "#0d0887"
                        ],
                        [
                          0.1111111111111111,
                          "#46039f"
                        ],
                        [
                          0.2222222222222222,
                          "#7201a8"
                        ],
                        [
                          0.3333333333333333,
                          "#9c179e"
                        ],
                        [
                          0.4444444444444444,
                          "#bd3786"
                        ],
                        [
                          0.5555555555555556,
                          "#d8576b"
                        ],
                        [
                          0.6666666666666666,
                          "#ed7953"
                        ],
                        [
                          0.7777777777777778,
                          "#fb9f3a"
                        ],
                        [
                          0.8888888888888888,
                          "#fdca26"
                        ],
                        [
                          1,
                          "#f0f921"
                        ]
                      ],
                      "sequentialminus": [
                        [
                          0,
                          "#0d0887"
                        ],
                        [
                          0.1111111111111111,
                          "#46039f"
                        ],
                        [
                          0.2222222222222222,
                          "#7201a8"
                        ],
                        [
                          0.3333333333333333,
                          "#9c179e"
                        ],
                        [
                          0.4444444444444444,
                          "#bd3786"
                        ],
                        [
                          0.5555555555555556,
                          "#d8576b"
                        ],
                        [
                          0.6666666666666666,
                          "#ed7953"
                        ],
                        [
                          0.7777777777777778,
                          "#fb9f3a"
                        ],
                        [
                          0.8888888888888888,
                          "#fdca26"
                        ],
                        [
                          1,
                          "#f0f921"
                        ]
                      ]
                    },
                    "colorway": [
                      "#636efa",
                      "#EF553B",
                      "#00cc96",
                      "#ab63fa",
                      "#FFA15A",
                      "#19d3f3",
                      "#FF6692",
                      "#B6E880",
                      "#FF97FF",
                      "#FECB52"
                    ],
                    "font": {
                      "color": "#2a3f5f"
                    },
                    "geo": {
                      "bgcolor": "white",
                      "lakecolor": "white",
                      "landcolor": "white",
                      "showlakes": true,
                      "showland": true,
                      "subunitcolor": "#C8D4E3"
                    },
                    "hoverlabel": {
                      "align": "left"
                    },
                    "hovermode": "closest",
                    "mapbox": {
                      "style": "light"
                    },
                    "paper_bgcolor": "white",
                    "plot_bgcolor": "white",
                    "polar": {
                      "angularaxis": {
                        "gridcolor": "#EBF0F8",
                        "linecolor": "#EBF0F8",
                        "ticks": ""
                      },
                      "bgcolor": "white",
                      "radialaxis": {
                        "gridcolor": "#EBF0F8",
                        "linecolor": "#EBF0F8",
                        "ticks": ""
                      }
                    },
                    "scene": {
                      "xaxis": {
                        "backgroundcolor": "white",
                        "gridcolor": "#DFE8F3",
                        "gridwidth": 2,
                        "linecolor": "#EBF0F8",
                        "showbackground": true,
                        "ticks": "",
                        "zerolinecolor": "#EBF0F8"
                      },
                      "yaxis": {
                        "backgroundcolor": "white",
                        "gridcolor": "#DFE8F3",
                        "gridwidth": 2,
                        "linecolor": "#EBF0F8",
                        "showbackground": true,
                        "ticks": "",
                        "zerolinecolor": "#EBF0F8"
                      },
                      "zaxis": {
                        "backgroundcolor": "white",
                        "gridcolor": "#DFE8F3",
                        "gridwidth": 2,
                        "linecolor": "#EBF0F8",
                        "showbackground": true,
                        "ticks": "",
                        "zerolinecolor": "#EBF0F8"
                      }
                    },
                    "shapedefaults": {
                      "line": {
                        "color": "#2a3f5f"
                      }
                    },
                    "ternary": {
                      "aaxis": {
                        "gridcolor": "#DFE8F3",
                        "linecolor": "#A2B1C6",
                        "ticks": ""
                      },
                      "baxis": {
                        "gridcolor": "#DFE8F3",
                        "linecolor": "#A2B1C6",
                        "ticks": ""
                      },
                      "bgcolor": "white",
                      "caxis": {
                        "gridcolor": "#DFE8F3",
                        "linecolor": "#A2B1C6",
                        "ticks": ""
                      }
                    },
                    "title": {
                      "x": 0.05
                    },
                    "xaxis": {
                      "automargin": true,
                      "gridcolor": "#EBF0F8",
                      "linecolor": "#EBF0F8",
                      "ticks": "",
                      "title": {
                        "standoff": 15
                      },
                      "zerolinecolor": "#EBF0F8",
                      "zerolinewidth": 2
                    },
                    "yaxis": {
                      "automargin": true,
                      "gridcolor": "#EBF0F8",
                      "linecolor": "#EBF0F8",
                      "ticks": "",
                      "title": {
                        "standoff": 15
                      },
                      "zerolinecolor": "#EBF0F8",
                      "zerolinewidth": 2
                    }
                  }
                },
                "title": {
                  "font": {
                    "size": 20
                  },
                  "text": "Feature Influence on Disease Risk (Proportional & Directional)"
                },
                "xaxis": {
                  "anchor": "y",
                  "domain": [
                    0,
                    1
                  ],
                  "title": {
                    "text": "Influence (%)"
                  }
                },
                "yaxis": {
                  "anchor": "x",
                  "domain": [
                    0,
                    1
                  ],
                  "title": {
                    "text": "Feature"
                  }
                }
              }
            }
          },
          "metadata": {},
          "output_type": "display_data"
        }
      ],
      "source": [
        "# Visualize the correlation between life style and risk deasese\n",
        "import plotly.express as px\n",
        "import plotly.io as pio\n",
        "import numpy as np\n",
        "\n",
        "# Setting renderer for Notebook Colab\n",
        "pio.renderers.default = \"colab\"\n",
        "\n",
        "# The columns to analyze\n",
        "cols = ['age', 'bmi', 'daily_steps', 'sleep_hours', 'water_intake_l',\n",
        "        'calories_consumed', 'smoker', 'alcohol', 'resting_hr',\n",
        "        'systolic_bp', 'diastolic_bp', 'cholesterol', 'family_history']\n",
        "\n",
        "#  Compute correlations with disease_risk\n",
        "corr = df[cols + ['disease_risk']].corr()['disease_risk'].drop('disease_risk')\n",
        "\n",
        "# Calculate percentage influence\n",
        "corr_percent = (abs(corr) / abs(corr).sum()) * 100\n",
        "\n",
        "# Prepare the DataFrame for plotting\n",
        "corr_df = pd.DataFrame({\n",
        "    'Feature': corr.index,\n",
        "    'Correlation': corr.values,  # păstrează semnul\n",
        "    'Influence (%)': corr_percent.values\n",
        "}).sort_values(by='Correlation', ascending=True)\n",
        "\n",
        "# Add direction based on sign\n",
        "corr_df['Direction'] = np.where(corr_df['Correlation'] > 0, '↑ Increases Risk', '↓ Decreases Risk')\n",
        "\n",
        "# Create interactive Barplot\n",
        "fig = px.bar(\n",
        "    corr_df,\n",
        "    x='Influence (%)',\n",
        "    y='Feature',\n",
        "    orientation='h',\n",
        "    color='Direction',\n",
        "    color_discrete_map={'↑ Increases Risk': '#d62728', '↓ Decreases Risk': '#1f77b4'},\n",
        "    text='Influence (%)',\n",
        "    title='Feature Influence on Disease Risk (Proportional & Directional)'\n",
        ")\n",
        "\n",
        "# Style the plot\n",
        "fig.update_traces(texttemplate='%{text:.2f}%', textposition='outside')\n",
        "fig.update_layout(\n",
        "    template='plotly_white',\n",
        "    xaxis_title='Influence (%)',\n",
        "    yaxis_title='Feature',\n",
        "    title_font_size=20,\n",
        "    height=700,\n",
        "    legend_title_text='Effect Direction'\n",
        ")\n",
        "\n",
        "fig.show()\n",
        "\n",
        "# Save interactive plot as HTML (works on GitHub / nbviewer)\n",
        "fig.write_html(\"disease_risk_barplot.html\")\n",
        "print(\"Interactive graph saved as 'disease_risk_barplot.html'\")\n",
        "\n",
        "\n",
        "\n",
        "\n",
        "\n"
      ],
      "metadata": {
        "colab": {
          "base_uri": "https://localhost:8080/",
          "height": 717
        },
        "id": "objd3xmjEZbJ",
        "outputId": "281b487c-b44f-4f3e-d0e4-2b271f4c83ef"
      },
      "execution_count": 20,
      "outputs": [
        {
          "output_type": "display_data",
          "data": {
            "text/html": [
              "<html>\n",
              "<head><meta charset=\"utf-8\" /></head>\n",
              "<body>\n",
              "    <div>            <script src=\"https://cdnjs.cloudflare.com/ajax/libs/mathjax/2.7.5/MathJax.js?config=TeX-AMS-MML_SVG\"></script><script type=\"text/javascript\">if (window.MathJax && window.MathJax.Hub && window.MathJax.Hub.Config) {window.MathJax.Hub.Config({SVG: {font: \"STIX-Web\"}});}</script>                <script type=\"text/javascript\">window.PlotlyConfig = {MathJaxConfig: 'local'};</script>\n",
              "        <script charset=\"utf-8\" src=\"https://cdn.plot.ly/plotly-2.35.2.min.js\"></script>                <div id=\"68713236-ac1c-4725-90d9-36f00842c283\" class=\"plotly-graph-div\" style=\"height:700px; width:100%;\"></div>            <script type=\"text/javascript\">                                    window.PLOTLYENV=window.PLOTLYENV || {};                                    if (document.getElementById(\"68713236-ac1c-4725-90d9-36f00842c283\")) {                    Plotly.newPlot(                        \"68713236-ac1c-4725-90d9-36f00842c283\",                        [{\"alignmentgroup\":\"True\",\"hovertemplate\":\"Direction=↓ Decreases Risk\\u003cbr\\u003eInfluence (%)=%{text}\\u003cbr\\u003eFeature=%{y}\\u003cextra\\u003e\\u003c\\u002fextra\\u003e\",\"legendgroup\":\"↓ Decreases Risk\",\"marker\":{\"color\":\"#1f77b4\",\"pattern\":{\"shape\":\"\"}},\"name\":\"↓ Decreases Risk\",\"offsetgroup\":\"↓ Decreases Risk\",\"orientation\":\"h\",\"showlegend\":true,\"text\":[11.251433164757321,10.77547025276514,9.833703236466269,5.429857834461159],\"textposition\":\"outside\",\"x\":[11.251433164757321,10.77547025276514,9.833703236466269,5.429857834461159],\"xaxis\":\"x\",\"y\":[\"cholesterol\",\"diastolic_bp\",\"daily_steps\",\"water_intake_l\"],\"yaxis\":\"y\",\"type\":\"bar\",\"texttemplate\":\"%{text:.2f}%\"},{\"alignmentgroup\":\"True\",\"hovertemplate\":\"Direction=↑ Increases Risk\\u003cbr\\u003eInfluence (%)=%{text}\\u003cbr\\u003eFeature=%{y}\\u003cextra\\u003e\\u003c\\u002fextra\\u003e\",\"legendgroup\":\"↑ Increases Risk\",\"marker\":{\"color\":\"#d62728\",\"pattern\":{\"shape\":\"\"}},\"name\":\"↑ Increases Risk\",\"offsetgroup\":\"↑ Increases Risk\",\"orientation\":\"h\",\"showlegend\":true,\"text\":[1.4715981943402339,3.0999135604681203,3.211136999897099,4.771845985008532,7.372170740617391,7.814800324181335,9.20881168989675,10.23741443680274,15.521843580337915],\"textposition\":\"outside\",\"x\":[1.4715981943402339,3.0999135604681203,3.211136999897099,4.771845985008532,7.372170740617391,7.814800324181335,9.20881168989675,10.23741443680274,15.521843580337915],\"xaxis\":\"x\",\"y\":[\"alcohol\",\"systolic_bp\",\"smoker\",\"age\",\"sleep_hours\",\"calories_consumed\",\"family_history\",\"bmi\",\"resting_hr\"],\"yaxis\":\"y\",\"type\":\"bar\",\"texttemplate\":\"%{text:.2f}%\"}],                        {\"template\":{\"data\":{\"barpolar\":[{\"marker\":{\"line\":{\"color\":\"white\",\"width\":0.5},\"pattern\":{\"fillmode\":\"overlay\",\"size\":10,\"solidity\":0.2}},\"type\":\"barpolar\"}],\"bar\":[{\"error_x\":{\"color\":\"#2a3f5f\"},\"error_y\":{\"color\":\"#2a3f5f\"},\"marker\":{\"line\":{\"color\":\"white\",\"width\":0.5},\"pattern\":{\"fillmode\":\"overlay\",\"size\":10,\"solidity\":0.2}},\"type\":\"bar\"}],\"carpet\":[{\"aaxis\":{\"endlinecolor\":\"#2a3f5f\",\"gridcolor\":\"#C8D4E3\",\"linecolor\":\"#C8D4E3\",\"minorgridcolor\":\"#C8D4E3\",\"startlinecolor\":\"#2a3f5f\"},\"baxis\":{\"endlinecolor\":\"#2a3f5f\",\"gridcolor\":\"#C8D4E3\",\"linecolor\":\"#C8D4E3\",\"minorgridcolor\":\"#C8D4E3\",\"startlinecolor\":\"#2a3f5f\"},\"type\":\"carpet\"}],\"choropleth\":[{\"colorbar\":{\"outlinewidth\":0,\"ticks\":\"\"},\"type\":\"choropleth\"}],\"contourcarpet\":[{\"colorbar\":{\"outlinewidth\":0,\"ticks\":\"\"},\"type\":\"contourcarpet\"}],\"contour\":[{\"colorbar\":{\"outlinewidth\":0,\"ticks\":\"\"},\"colorscale\":[[0.0,\"#0d0887\"],[0.1111111111111111,\"#46039f\"],[0.2222222222222222,\"#7201a8\"],[0.3333333333333333,\"#9c179e\"],[0.4444444444444444,\"#bd3786\"],[0.5555555555555556,\"#d8576b\"],[0.6666666666666666,\"#ed7953\"],[0.7777777777777778,\"#fb9f3a\"],[0.8888888888888888,\"#fdca26\"],[1.0,\"#f0f921\"]],\"type\":\"contour\"}],\"heatmapgl\":[{\"colorbar\":{\"outlinewidth\":0,\"ticks\":\"\"},\"colorscale\":[[0.0,\"#0d0887\"],[0.1111111111111111,\"#46039f\"],[0.2222222222222222,\"#7201a8\"],[0.3333333333333333,\"#9c179e\"],[0.4444444444444444,\"#bd3786\"],[0.5555555555555556,\"#d8576b\"],[0.6666666666666666,\"#ed7953\"],[0.7777777777777778,\"#fb9f3a\"],[0.8888888888888888,\"#fdca26\"],[1.0,\"#f0f921\"]],\"type\":\"heatmapgl\"}],\"heatmap\":[{\"colorbar\":{\"outlinewidth\":0,\"ticks\":\"\"},\"colorscale\":[[0.0,\"#0d0887\"],[0.1111111111111111,\"#46039f\"],[0.2222222222222222,\"#7201a8\"],[0.3333333333333333,\"#9c179e\"],[0.4444444444444444,\"#bd3786\"],[0.5555555555555556,\"#d8576b\"],[0.6666666666666666,\"#ed7953\"],[0.7777777777777778,\"#fb9f3a\"],[0.8888888888888888,\"#fdca26\"],[1.0,\"#f0f921\"]],\"type\":\"heatmap\"}],\"histogram2dcontour\":[{\"colorbar\":{\"outlinewidth\":0,\"ticks\":\"\"},\"colorscale\":[[0.0,\"#0d0887\"],[0.1111111111111111,\"#46039f\"],[0.2222222222222222,\"#7201a8\"],[0.3333333333333333,\"#9c179e\"],[0.4444444444444444,\"#bd3786\"],[0.5555555555555556,\"#d8576b\"],[0.6666666666666666,\"#ed7953\"],[0.7777777777777778,\"#fb9f3a\"],[0.8888888888888888,\"#fdca26\"],[1.0,\"#f0f921\"]],\"type\":\"histogram2dcontour\"}],\"histogram2d\":[{\"colorbar\":{\"outlinewidth\":0,\"ticks\":\"\"},\"colorscale\":[[0.0,\"#0d0887\"],[0.1111111111111111,\"#46039f\"],[0.2222222222222222,\"#7201a8\"],[0.3333333333333333,\"#9c179e\"],[0.4444444444444444,\"#bd3786\"],[0.5555555555555556,\"#d8576b\"],[0.6666666666666666,\"#ed7953\"],[0.7777777777777778,\"#fb9f3a\"],[0.8888888888888888,\"#fdca26\"],[1.0,\"#f0f921\"]],\"type\":\"histogram2d\"}],\"histogram\":[{\"marker\":{\"pattern\":{\"fillmode\":\"overlay\",\"size\":10,\"solidity\":0.2}},\"type\":\"histogram\"}],\"mesh3d\":[{\"colorbar\":{\"outlinewidth\":0,\"ticks\":\"\"},\"type\":\"mesh3d\"}],\"parcoords\":[{\"line\":{\"colorbar\":{\"outlinewidth\":0,\"ticks\":\"\"}},\"type\":\"parcoords\"}],\"pie\":[{\"automargin\":true,\"type\":\"pie\"}],\"scatter3d\":[{\"line\":{\"colorbar\":{\"outlinewidth\":0,\"ticks\":\"\"}},\"marker\":{\"colorbar\":{\"outlinewidth\":0,\"ticks\":\"\"}},\"type\":\"scatter3d\"}],\"scattercarpet\":[{\"marker\":{\"colorbar\":{\"outlinewidth\":0,\"ticks\":\"\"}},\"type\":\"scattercarpet\"}],\"scattergeo\":[{\"marker\":{\"colorbar\":{\"outlinewidth\":0,\"ticks\":\"\"}},\"type\":\"scattergeo\"}],\"scattergl\":[{\"marker\":{\"colorbar\":{\"outlinewidth\":0,\"ticks\":\"\"}},\"type\":\"scattergl\"}],\"scattermapbox\":[{\"marker\":{\"colorbar\":{\"outlinewidth\":0,\"ticks\":\"\"}},\"type\":\"scattermapbox\"}],\"scatterpolargl\":[{\"marker\":{\"colorbar\":{\"outlinewidth\":0,\"ticks\":\"\"}},\"type\":\"scatterpolargl\"}],\"scatterpolar\":[{\"marker\":{\"colorbar\":{\"outlinewidth\":0,\"ticks\":\"\"}},\"type\":\"scatterpolar\"}],\"scatter\":[{\"fillpattern\":{\"fillmode\":\"overlay\",\"size\":10,\"solidity\":0.2},\"type\":\"scatter\"}],\"scatterternary\":[{\"marker\":{\"colorbar\":{\"outlinewidth\":0,\"ticks\":\"\"}},\"type\":\"scatterternary\"}],\"surface\":[{\"colorbar\":{\"outlinewidth\":0,\"ticks\":\"\"},\"colorscale\":[[0.0,\"#0d0887\"],[0.1111111111111111,\"#46039f\"],[0.2222222222222222,\"#7201a8\"],[0.3333333333333333,\"#9c179e\"],[0.4444444444444444,\"#bd3786\"],[0.5555555555555556,\"#d8576b\"],[0.6666666666666666,\"#ed7953\"],[0.7777777777777778,\"#fb9f3a\"],[0.8888888888888888,\"#fdca26\"],[1.0,\"#f0f921\"]],\"type\":\"surface\"}],\"table\":[{\"cells\":{\"fill\":{\"color\":\"#EBF0F8\"},\"line\":{\"color\":\"white\"}},\"header\":{\"fill\":{\"color\":\"#C8D4E3\"},\"line\":{\"color\":\"white\"}},\"type\":\"table\"}]},\"layout\":{\"annotationdefaults\":{\"arrowcolor\":\"#2a3f5f\",\"arrowhead\":0,\"arrowwidth\":1},\"autotypenumbers\":\"strict\",\"coloraxis\":{\"colorbar\":{\"outlinewidth\":0,\"ticks\":\"\"}},\"colorscale\":{\"diverging\":[[0,\"#8e0152\"],[0.1,\"#c51b7d\"],[0.2,\"#de77ae\"],[0.3,\"#f1b6da\"],[0.4,\"#fde0ef\"],[0.5,\"#f7f7f7\"],[0.6,\"#e6f5d0\"],[0.7,\"#b8e186\"],[0.8,\"#7fbc41\"],[0.9,\"#4d9221\"],[1,\"#276419\"]],\"sequential\":[[0.0,\"#0d0887\"],[0.1111111111111111,\"#46039f\"],[0.2222222222222222,\"#7201a8\"],[0.3333333333333333,\"#9c179e\"],[0.4444444444444444,\"#bd3786\"],[0.5555555555555556,\"#d8576b\"],[0.6666666666666666,\"#ed7953\"],[0.7777777777777778,\"#fb9f3a\"],[0.8888888888888888,\"#fdca26\"],[1.0,\"#f0f921\"]],\"sequentialminus\":[[0.0,\"#0d0887\"],[0.1111111111111111,\"#46039f\"],[0.2222222222222222,\"#7201a8\"],[0.3333333333333333,\"#9c179e\"],[0.4444444444444444,\"#bd3786\"],[0.5555555555555556,\"#d8576b\"],[0.6666666666666666,\"#ed7953\"],[0.7777777777777778,\"#fb9f3a\"],[0.8888888888888888,\"#fdca26\"],[1.0,\"#f0f921\"]]},\"colorway\":[\"#636efa\",\"#EF553B\",\"#00cc96\",\"#ab63fa\",\"#FFA15A\",\"#19d3f3\",\"#FF6692\",\"#B6E880\",\"#FF97FF\",\"#FECB52\"],\"font\":{\"color\":\"#2a3f5f\"},\"geo\":{\"bgcolor\":\"white\",\"lakecolor\":\"white\",\"landcolor\":\"white\",\"showlakes\":true,\"showland\":true,\"subunitcolor\":\"#C8D4E3\"},\"hoverlabel\":{\"align\":\"left\"},\"hovermode\":\"closest\",\"mapbox\":{\"style\":\"light\"},\"paper_bgcolor\":\"white\",\"plot_bgcolor\":\"white\",\"polar\":{\"angularaxis\":{\"gridcolor\":\"#EBF0F8\",\"linecolor\":\"#EBF0F8\",\"ticks\":\"\"},\"bgcolor\":\"white\",\"radialaxis\":{\"gridcolor\":\"#EBF0F8\",\"linecolor\":\"#EBF0F8\",\"ticks\":\"\"}},\"scene\":{\"xaxis\":{\"backgroundcolor\":\"white\",\"gridcolor\":\"#DFE8F3\",\"gridwidth\":2,\"linecolor\":\"#EBF0F8\",\"showbackground\":true,\"ticks\":\"\",\"zerolinecolor\":\"#EBF0F8\"},\"yaxis\":{\"backgroundcolor\":\"white\",\"gridcolor\":\"#DFE8F3\",\"gridwidth\":2,\"linecolor\":\"#EBF0F8\",\"showbackground\":true,\"ticks\":\"\",\"zerolinecolor\":\"#EBF0F8\"},\"zaxis\":{\"backgroundcolor\":\"white\",\"gridcolor\":\"#DFE8F3\",\"gridwidth\":2,\"linecolor\":\"#EBF0F8\",\"showbackground\":true,\"ticks\":\"\",\"zerolinecolor\":\"#EBF0F8\"}},\"shapedefaults\":{\"line\":{\"color\":\"#2a3f5f\"}},\"ternary\":{\"aaxis\":{\"gridcolor\":\"#DFE8F3\",\"linecolor\":\"#A2B1C6\",\"ticks\":\"\"},\"baxis\":{\"gridcolor\":\"#DFE8F3\",\"linecolor\":\"#A2B1C6\",\"ticks\":\"\"},\"bgcolor\":\"white\",\"caxis\":{\"gridcolor\":\"#DFE8F3\",\"linecolor\":\"#A2B1C6\",\"ticks\":\"\"}},\"title\":{\"x\":0.05},\"xaxis\":{\"automargin\":true,\"gridcolor\":\"#EBF0F8\",\"linecolor\":\"#EBF0F8\",\"ticks\":\"\",\"title\":{\"standoff\":15},\"zerolinecolor\":\"#EBF0F8\",\"zerolinewidth\":2},\"yaxis\":{\"automargin\":true,\"gridcolor\":\"#EBF0F8\",\"linecolor\":\"#EBF0F8\",\"ticks\":\"\",\"title\":{\"standoff\":15},\"zerolinecolor\":\"#EBF0F8\",\"zerolinewidth\":2}}},\"xaxis\":{\"anchor\":\"y\",\"domain\":[0.0,1.0],\"title\":{\"text\":\"Influence (%)\"}},\"yaxis\":{\"anchor\":\"x\",\"domain\":[0.0,1.0],\"title\":{\"text\":\"Feature\"}},\"legend\":{\"title\":{\"text\":\"Effect Direction\"},\"tracegroupgap\":0},\"title\":{\"text\":\"Feature Influence on Disease Risk (Proportional & Directional)\",\"font\":{\"size\":20}},\"barmode\":\"relative\",\"height\":700},                        {\"responsive\": true}                    ).then(function(){\n",
              "                            \n",
              "var gd = document.getElementById('68713236-ac1c-4725-90d9-36f00842c283');\n",
              "var x = new MutationObserver(function (mutations, observer) {{\n",
              "        var display = window.getComputedStyle(gd).display;\n",
              "        if (!display || display === 'none') {{\n",
              "            console.log([gd, 'removed!']);\n",
              "            Plotly.purge(gd);\n",
              "            observer.disconnect();\n",
              "        }}\n",
              "}});\n",
              "\n",
              "// Listen for the removal of the full notebook cells\n",
              "var notebookContainer = gd.closest('#notebook-container');\n",
              "if (notebookContainer) {{\n",
              "    x.observe(notebookContainer, {childList: true});\n",
              "}}\n",
              "\n",
              "// Listen for the clearing of the current output cell\n",
              "var outputEl = gd.closest('.output');\n",
              "if (outputEl) {{\n",
              "    x.observe(outputEl, {childList: true});\n",
              "}}\n",
              "\n",
              "                        })                };                            </script>        </div>\n",
              "</body>\n",
              "</html>"
            ]
          },
          "metadata": {}
        }
      ]
    }
  ]
}