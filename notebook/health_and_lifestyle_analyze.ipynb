{
  "nbformat": 4,
  "nbformat_minor": 0,
  "metadata": {
    "colab": {
      "provenance": [],
      "authorship_tag": "ABX9TyNA1cl4dDezwDjpUuCiuDE2",
      "include_colab_link": true
    },
    "kernelspec": {
      "name": "python3",
      "display_name": "Python 3"
    },
    "language_info": {
      "name": "python"
    }
  },
  "cells": [
    {
      "cell_type": "markdown",
      "metadata": {
        "id": "view-in-github",
        "colab_type": "text"
      },
      "source": [
        "<a href=\"https://colab.research.google.com/github/Cerasela-b/health-and-lifestyle-analytics/blob/main/notebook/health_and_lifestyle_analyze.ipynb\" target=\"_parent\"><img src=\"https://colab.research.google.com/assets/colab-badge.svg\" alt=\"Open In Colab\"/></a>"
      ]
    },
    {
      "cell_type": "markdown",
      "source": [
        "## Loading and Inspecting the Dataset\n",
        "To begin the analysis, we need to explore the dataset structure and understand the type of information it contains.\n",
        "This step helps identify potential data quality issues, missing values, and the nature of each feature before we start the cleaning and modeling process.\n",
        "\n",
        "In this step, we will:\n",
        "- **Load** the CSV file from GitHub repository\n",
        "- **Check** the dataset’s dimensions (number of rows and columns)\n",
        "- **Preview** the first few rows to get an overview of the variables\n",
        "- **Inspect** data types, value ranges, and basic statistical metadata\n",
        "- **Identify** possible missing or inconsistent values\n",
        "\n",
        "This initial inspection forms the foundation for further **data cleaning, feature engineering**, and **machine learning tasks**."
      ],
      "metadata": {
        "id": "RqlJlbZ4xxKv"
      }
    },
    {
      "cell_type": "code",
      "execution_count": 5,
      "metadata": {
        "colab": {
          "base_uri": "https://localhost:8080/"
        },
        "id": "GuiLI-CuwXoV",
        "outputId": "3e43c090-5912-4c19-a533-082515e6cf26"
      },
      "outputs": [
        {
          "output_type": "stream",
          "name": "stdout",
          "text": [
            "Dataset shape (rows, cloumns):  (100000, 16)\n",
            "\n",
            "First 5 rows: \n",
            "   id  age  gender   bmi  daily_steps  sleep_hours  water_intake_l  \\\n",
            "0   1   56    Male  20.5         4198          3.9             3.4   \n",
            "1   2   69  Female  33.3        14359          9.0             4.7   \n",
            "2   3   46    Male  31.6         1817          6.6             4.2   \n",
            "3   4   32  Female  38.2        15772          3.6             2.0   \n",
            "4   5   60  Female  33.6         6037          3.8             4.0   \n",
            "\n",
            "   calories_consumed  smoker  alcohol  resting_hr  systolic_bp  diastolic_bp  \\\n",
            "0               1602       0        0          97          161           111   \n",
            "1               2346       0        1          68          116            65   \n",
            "2               1643       0        1          90          123            99   \n",
            "3               2460       0        0          71          165            95   \n",
            "4               3756       0        1          98          139            61   \n",
            "\n",
            "   cholesterol  family_history  disease_risk  \n",
            "0          240               0             0  \n",
            "1          207               0             0  \n",
            "2          296               0             0  \n",
            "3          175               0             0  \n",
            "4          294               0             0  \n",
            "\n",
            "Dataset info: \n",
            "<class 'pandas.core.frame.DataFrame'>\n",
            "RangeIndex: 100000 entries, 0 to 99999\n",
            "Data columns (total 16 columns):\n",
            " #   Column             Non-Null Count   Dtype  \n",
            "---  ------             --------------   -----  \n",
            " 0   id                 100000 non-null  int64  \n",
            " 1   age                100000 non-null  int64  \n",
            " 2   gender             100000 non-null  object \n",
            " 3   bmi                100000 non-null  float64\n",
            " 4   daily_steps        100000 non-null  int64  \n",
            " 5   sleep_hours        100000 non-null  float64\n",
            " 6   water_intake_l     100000 non-null  float64\n",
            " 7   calories_consumed  100000 non-null  int64  \n",
            " 8   smoker             100000 non-null  int64  \n",
            " 9   alcohol            100000 non-null  int64  \n",
            " 10  resting_hr         100000 non-null  int64  \n",
            " 11  systolic_bp        100000 non-null  int64  \n",
            " 12  diastolic_bp       100000 non-null  int64  \n",
            " 13  cholesterol        100000 non-null  int64  \n",
            " 14  family_history     100000 non-null  int64  \n",
            " 15  disease_risk       100000 non-null  int64  \n",
            "dtypes: float64(3), int64(12), object(1)\n",
            "memory usage: 12.2+ MB\n"
          ]
        }
      ],
      "source": [
        "import pandas as pd\n",
        "\n",
        "# Load dataset from GitHub\n",
        "url = \"https://raw.githubusercontent.com/Cerasela-b/health-and-lifestyle-analytics/main/data/health_lifestyle_dataset.csv\"\n",
        "df = pd.read_csv(url)\n",
        "\n",
        "# Check dataset dimensions(number of rows and columns)\n",
        "print(\"Dataset shape (rows, cloumns): \", df.shape)\n",
        "\n",
        "print(\"\\nFirst 5 rows: \")\n",
        "print(df.head())\n",
        "\n",
        "# Show column data types and non-null counts\n",
        "print(\"\\nDataset info: \")\n",
        "df.info()"
      ]
    },
    {
      "cell_type": "markdown",
      "source": [
        "\n",
        "## Dataset Loading and Initial Inspection\n",
        "\n",
        "The dataset was successfully loaded from GitHub and contains **100,000 rows** and **16 columns** describing various **health and lifestyle factors** such as age, BMI, sleep, activity level, and disease risk.\n",
        "\n",
        "All columns have **non-null values**, ensuring a clean starting point for analysis.\n",
        "The dataset includes a mix of **numeric** and **categorical** variables — with `gender` as an object type and several binary indicators already encoded as integers.\n",
        "\n",
        "**Key observations**:\n",
        "\n",
        "- Data types: 12 integer, 3 float, 1 object (`gender`)\n",
        "- Binary columns (`smoker`, `alcohol`, `family_history`) are already encoded as 0/1\n",
        "- No missing data detected across any column\n",
        "- Each record represents one individual’s lifestyle and health profile\n",
        "\n",
        "The data is well-structured and ready for **cleaning, preprocessing**, and **exploratory data analysis (EDA)** to identify relationships between lifestyle habits and disease risk."
      ],
      "metadata": {
        "id": "S2W24bI92ULh"
      }
    },
    {
      "cell_type": "markdown",
      "source": [],
      "metadata": {
        "id": "BohiqX9g3cWx"
      }
    }
  ]
}